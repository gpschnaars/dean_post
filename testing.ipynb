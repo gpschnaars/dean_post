{
 "cells": [
  {
   "cell_type": "code",
   "execution_count": 526,
   "metadata": {},
   "outputs": [],
   "source": [
    "import requests\n",
    "from bs4 import BeautifulSoup\n",
    "\n",
    "import pandas as pd, numpy as np\n",
    "import re"
   ]
  },
  {
   "cell_type": "markdown",
   "metadata": {},
   "source": [
    "## getting air force base locations"
   ]
  },
  {
   "cell_type": "code",
   "execution_count": 310,
   "metadata": {},
   "outputs": [],
   "source": [
    "airforce_wiki_url = \"https://en.wikipedia.org/wiki/List_of_United_States_Air_Force_installations\"\n",
    "df_usaf = pd.read_html(airforce_wiki_url)[1]"
   ]
  },
  {
   "cell_type": "code",
   "execution_count": 350,
   "metadata": {},
   "outputs": [
    {
     "output_type": "execute_result",
     "data": {
      "text/plain": "                                               Name      Location  \\\n0                              Altus Air Force Base         Altus   \n1                      Joint Base Anacostia-Bolling     Southwest   \n2  Joint Base Andrews-Naval Air Facility Washington  Camp Springs   \n\n              State                                       Coordinates  \\\n0          Oklahoma  34°39′59″N 099°16′05″W﻿ / ﻿34.66639°N 99.26806°W   \n1  Washington, D.C.  38°50′34″N 077°00′58″W﻿ / ﻿38.84278°N 77.01611°W   \n2          Maryland  38°48′39″N 076°52′01″W﻿ / ﻿38.81083°N 76.86694°W   \n\n              Commanding organization  Wing or unit emblem  \\\n0  Air Education and Training Command                  NaN   \n1    Air Force District of Washington                  NaN   \n2    Air Force District of Washington                  NaN   \n\n  Host wing or primary unit  \\\n0    97th Air Mobility Wing   \n1                 11th Wing   \n2                 11th Wing   \n\n                          Primary missions and units       lat       lon  \n0  The 97th Air Mobility Wing trains crews to ope...  34.66639 -99.26806  \n1  US Navy operated joint base, accommodating Geo...  38.84278 -77.01611  \n2  USAF operated joint base. The 11th Wing provid...  38.81083 -76.86694  ",
      "text/html": "<div>\n<style scoped>\n    .dataframe tbody tr th:only-of-type {\n        vertical-align: middle;\n    }\n\n    .dataframe tbody tr th {\n        vertical-align: top;\n    }\n\n    .dataframe thead th {\n        text-align: right;\n    }\n</style>\n<table border=\"1\" class=\"dataframe\">\n  <thead>\n    <tr style=\"text-align: right;\">\n      <th></th>\n      <th>Name</th>\n      <th>Location</th>\n      <th>State</th>\n      <th>Coordinates</th>\n      <th>Commanding organization</th>\n      <th>Wing or unit emblem</th>\n      <th>Host wing or primary unit</th>\n      <th>Primary missions and units</th>\n      <th>lat</th>\n      <th>lon</th>\n    </tr>\n  </thead>\n  <tbody>\n    <tr>\n      <th>0</th>\n      <td>Altus Air Force Base</td>\n      <td>Altus</td>\n      <td>Oklahoma</td>\n      <td>34°39′59″N 099°16′05″W﻿ / ﻿34.66639°N 99.26806°W</td>\n      <td>Air Education and Training Command</td>\n      <td>NaN</td>\n      <td>97th Air Mobility Wing</td>\n      <td>The 97th Air Mobility Wing trains crews to ope...</td>\n      <td>34.66639</td>\n      <td>-99.26806</td>\n    </tr>\n    <tr>\n      <th>1</th>\n      <td>Joint Base Anacostia-Bolling</td>\n      <td>Southwest</td>\n      <td>Washington, D.C.</td>\n      <td>38°50′34″N 077°00′58″W﻿ / ﻿38.84278°N 77.01611°W</td>\n      <td>Air Force District of Washington</td>\n      <td>NaN</td>\n      <td>11th Wing</td>\n      <td>US Navy operated joint base, accommodating Geo...</td>\n      <td>38.84278</td>\n      <td>-77.01611</td>\n    </tr>\n    <tr>\n      <th>2</th>\n      <td>Joint Base Andrews-Naval Air Facility Washington</td>\n      <td>Camp Springs</td>\n      <td>Maryland</td>\n      <td>38°48′39″N 076°52′01″W﻿ / ﻿38.81083°N 76.86694°W</td>\n      <td>Air Force District of Washington</td>\n      <td>NaN</td>\n      <td>11th Wing</td>\n      <td>USAF operated joint base. The 11th Wing provid...</td>\n      <td>38.81083</td>\n      <td>-76.86694</td>\n    </tr>\n  </tbody>\n</table>\n</div>"
     },
     "metadata": {},
     "execution_count": 350
    }
   ],
   "source": [
    "df_usaf.head(3)"
   ]
  },
  {
   "cell_type": "code",
   "execution_count": 312,
   "metadata": {},
   "outputs": [],
   "source": [
    "def extract_coords(s):\n",
    "    # extract coordinates from the Coordinates column in the table\n",
    "    s = s.split('/')[1]\n",
    "    # remove BOM from beginning of string\n",
    "    s = s.replace('\\ufeff', '')\n",
    "    s = s.strip()\n",
    "    # remove all chars except decimals and NSEW letter\n",
    "    coords = ''.join(item for item in s if item in ' .1234567890NSEW').split()\n",
    "    # remove NSEW designation from each coord, convert to float, and assign negative if needed\n",
    "    coords = [float(coord[:-1]) if coord[-1] in 'NE' else -float(coord[:-1]) for coord in coords]\n",
    "    return coords"
   ]
  },
  {
   "cell_type": "code",
   "execution_count": 319,
   "metadata": {},
   "outputs": [],
   "source": [
    "coords = pd.DataFrame(df_usaf['Coordinates'].apply(extract_coords).to_list(), columns = ['lat', 'lon'])"
   ]
  },
  {
   "cell_type": "code",
   "execution_count": 320,
   "metadata": {},
   "outputs": [],
   "source": [
    "df_usaf = df_usaf.join(coords)"
   ]
  },
  {
   "cell_type": "code",
   "execution_count": 349,
   "metadata": {},
   "outputs": [
    {
     "output_type": "execute_result",
     "data": {
      "text/plain": "                                               Name      Location  \\\n0                              Altus Air Force Base         Altus   \n1                      Joint Base Anacostia-Bolling     Southwest   \n2  Joint Base Andrews-Naval Air Facility Washington  Camp Springs   \n\n              State                                       Coordinates  \\\n0          Oklahoma  34°39′59″N 099°16′05″W﻿ / ﻿34.66639°N 99.26806°W   \n1  Washington, D.C.  38°50′34″N 077°00′58″W﻿ / ﻿38.84278°N 77.01611°W   \n2          Maryland  38°48′39″N 076°52′01″W﻿ / ﻿38.81083°N 76.86694°W   \n\n              Commanding organization  Wing or unit emblem  \\\n0  Air Education and Training Command                  NaN   \n1    Air Force District of Washington                  NaN   \n2    Air Force District of Washington                  NaN   \n\n  Host wing or primary unit  \\\n0    97th Air Mobility Wing   \n1                 11th Wing   \n2                 11th Wing   \n\n                          Primary missions and units       lat       lon  \n0  The 97th Air Mobility Wing trains crews to ope...  34.66639 -99.26806  \n1  US Navy operated joint base, accommodating Geo...  38.84278 -77.01611  \n2  USAF operated joint base. The 11th Wing provid...  38.81083 -76.86694  ",
      "text/html": "<div>\n<style scoped>\n    .dataframe tbody tr th:only-of-type {\n        vertical-align: middle;\n    }\n\n    .dataframe tbody tr th {\n        vertical-align: top;\n    }\n\n    .dataframe thead th {\n        text-align: right;\n    }\n</style>\n<table border=\"1\" class=\"dataframe\">\n  <thead>\n    <tr style=\"text-align: right;\">\n      <th></th>\n      <th>Name</th>\n      <th>Location</th>\n      <th>State</th>\n      <th>Coordinates</th>\n      <th>Commanding organization</th>\n      <th>Wing or unit emblem</th>\n      <th>Host wing or primary unit</th>\n      <th>Primary missions and units</th>\n      <th>lat</th>\n      <th>lon</th>\n    </tr>\n  </thead>\n  <tbody>\n    <tr>\n      <th>0</th>\n      <td>Altus Air Force Base</td>\n      <td>Altus</td>\n      <td>Oklahoma</td>\n      <td>34°39′59″N 099°16′05″W﻿ / ﻿34.66639°N 99.26806°W</td>\n      <td>Air Education and Training Command</td>\n      <td>NaN</td>\n      <td>97th Air Mobility Wing</td>\n      <td>The 97th Air Mobility Wing trains crews to ope...</td>\n      <td>34.66639</td>\n      <td>-99.26806</td>\n    </tr>\n    <tr>\n      <th>1</th>\n      <td>Joint Base Anacostia-Bolling</td>\n      <td>Southwest</td>\n      <td>Washington, D.C.</td>\n      <td>38°50′34″N 077°00′58″W﻿ / ﻿38.84278°N 77.01611°W</td>\n      <td>Air Force District of Washington</td>\n      <td>NaN</td>\n      <td>11th Wing</td>\n      <td>US Navy operated joint base, accommodating Geo...</td>\n      <td>38.84278</td>\n      <td>-77.01611</td>\n    </tr>\n    <tr>\n      <th>2</th>\n      <td>Joint Base Andrews-Naval Air Facility Washington</td>\n      <td>Camp Springs</td>\n      <td>Maryland</td>\n      <td>38°48′39″N 076°52′01″W﻿ / ﻿38.81083°N 76.86694°W</td>\n      <td>Air Force District of Washington</td>\n      <td>NaN</td>\n      <td>11th Wing</td>\n      <td>USAF operated joint base. The 11th Wing provid...</td>\n      <td>38.81083</td>\n      <td>-76.86694</td>\n    </tr>\n  </tbody>\n</table>\n</div>"
     },
     "metadata": {},
     "execution_count": 349
    }
   ],
   "source": [
    "df_usaf.head(3)"
   ]
  },
  {
   "cell_type": "markdown",
   "metadata": {},
   "source": [
    "make sure were not missing any coordinates"
   ]
  },
  {
   "cell_type": "code",
   "execution_count": 479,
   "metadata": {},
   "outputs": [
    {
     "output_type": "execute_result",
     "data": {
      "text/plain": "False    70\nName: lat, dtype: int64"
     },
     "metadata": {},
     "execution_count": 479
    }
   ],
   "source": [
    "df_usaf.lat.isna().value_counts()"
   ]
  },
  {
   "cell_type": "markdown",
   "metadata": {},
   "source": [
    "## getting postal office locations"
   ]
  },
  {
   "cell_type": "code",
   "execution_count": 174,
   "metadata": {},
   "outputs": [],
   "source": [
    "from io import StringIO"
   ]
  },
  {
   "cell_type": "code",
   "execution_count": 252,
   "metadata": {},
   "outputs": [],
   "source": [
    "def gather_USPS_data():\n",
    "\n",
    "    # create session and specify header due to cookies issue with the about.usps.com site\n",
    "    s = requests.Session()\n",
    "    headers = {\n",
    "        'Accept-Encoding': 'gzip, deflate, sdch',\n",
    "        'Accept-Language': 'en-US,en;q=0.8',\n",
    "        'Upgrade-Insecure-Requests': '1',\n",
    "        'User-Agent': 'Mozilla/5.0 (X11; Linux x86_64) AppleWebKit/537.36 (KHTML, like Gecko) Chrome/56.0.2924.87 Safari/537.36',\n",
    "        'Accept': 'text/html,application/xhtml+xml,application/xml;q=0.9,image/webp,*/*;q=0.8',\n",
    "        'Cache-Control': 'max-age=0',\n",
    "        'Connection': 'keep-alive',\n",
    "    }\n",
    "    r = s.get(\"https://about.usps.com/who/legal/foia/owned-facilities.htm\", headers = headers)\n",
    "    l = soup.find_all('ul', class_='list-unstyled list-multi-column')[0].find_all('li')\n",
    "\n",
    "    # for each state csv in the html table, create a dataframe and append to list to be concat after\n",
    "    dfs = []\n",
    "    for item in l:\n",
    "        # create path using html \n",
    "        path = \"https://about.usps.com\" + item.find('a').get('href')\n",
    "        r_csv = s.get(path, headers = headers)\n",
    "        # remove some misc text from the beginning of the string \n",
    "        r_csv = r_csv.text.replace(\"\"\"Owned Area - Building Inventory 2,,,,,,,,,,,,,,,,,,,,\\r\\n,,,,,,,,,,,,,,,,,,,,\\r\\n,,,,,,,,,,,,,,,,,,,,\\r\\n\"\"\", '')\n",
    "        st = StringIO(r_csv)\n",
    "        # drop the last two rows, which are misc \n",
    "        df = pd.read_csv(st)[:-2]\n",
    "        dfs.append(df)\n",
    "\n",
    "    final_df = pd.concat(dfs, ignore_index = True)\n",
    "    return final_df"
   ]
  },
  {
   "cell_type": "code",
   "execution_count": 496,
   "metadata": {},
   "outputs": [],
   "source": [
    "df_usps = gather_USPS_data()"
   ]
  },
  {
   "cell_type": "code",
   "execution_count": 497,
   "metadata": {},
   "outputs": [
    {
     "output_type": "execute_result",
     "data": {
      "text/plain": "  District     Fin-Sub  Chrgbl Fin No         PO Name            Unit Name  \\\n0  Alabama  010120-G02        10120.0     ALBERTVILLE          MAIN OFFICE   \n1  Alabama  010150-G03        10150.0  ALEXANDER CITY          MAIN OFFICE   \n2  Alabama  010240-G01        10240.0           ALTON  MAIN OFFICE MODULAR   \n\n    Property Address      County            City  ST    ZIP Code  ...  \\\n0  210 S HAMBRICK ST    MARSHALL     ALBERTVILLE  AL  35950-1624  ...   \n1         233 LEE ST  TALLAPOOSA  ALEXANDER CITY  AL  35010-2654  ...   \n2    5548 JOHNSON ST   JEFFERSON           ALTON  AL  35015-2001  ...   \n\n  Ownership FDB ID (All)  AMS Locale Key (All) FDB Facility Type (All)  \\\n0     Owned    1352597.0                Y10022             Post Office   \n1     Owned    1352654.0                Y10026             Post Office   \n2     Owned    1352868.0                Y10035             Post Office   \n\n            FDB Facility Subtype (All)   Building Ownership Description  \\\n0                     Main Post Office    USPS Building, Const. by USPS   \n1     Administrative Post Office (APO)    USPS Building, Const. by USPS   \n2  Remotely Managed Post Office (RMPO)  USPS Building, Not Prev. Leased   \n\n                      Land Desc Space Certified Indicator Bldg Occu Date  \\\n0   USPS Land, Not Prev. Leased                        No      12/1/1983   \n1   USPS Land, Not Prev. Leased                       Yes       9/1/1984   \n2  Land Data on separate record                        No       9/1/1995   \n\n  Int Sq Ft  \n0     8,913  \n1     7,748  \n2       672  \n\n[3 rows x 21 columns]",
      "text/html": "<div>\n<style scoped>\n    .dataframe tbody tr th:only-of-type {\n        vertical-align: middle;\n    }\n\n    .dataframe tbody tr th {\n        vertical-align: top;\n    }\n\n    .dataframe thead th {\n        text-align: right;\n    }\n</style>\n<table border=\"1\" class=\"dataframe\">\n  <thead>\n    <tr style=\"text-align: right;\">\n      <th></th>\n      <th>District</th>\n      <th>Fin-Sub</th>\n      <th>Chrgbl Fin No</th>\n      <th>PO Name</th>\n      <th>Unit Name</th>\n      <th>Property Address</th>\n      <th>County</th>\n      <th>City</th>\n      <th>ST</th>\n      <th>ZIP Code</th>\n      <th>...</th>\n      <th>Ownership</th>\n      <th>FDB ID (All)</th>\n      <th>AMS Locale Key (All)</th>\n      <th>FDB Facility Type (All)</th>\n      <th>FDB Facility Subtype (All)</th>\n      <th>Building Ownership Description</th>\n      <th>Land Desc</th>\n      <th>Space Certified Indicator</th>\n      <th>Bldg Occu Date</th>\n      <th>Int Sq Ft</th>\n    </tr>\n  </thead>\n  <tbody>\n    <tr>\n      <th>0</th>\n      <td>Alabama</td>\n      <td>010120-G02</td>\n      <td>10120.0</td>\n      <td>ALBERTVILLE</td>\n      <td>MAIN OFFICE</td>\n      <td>210 S HAMBRICK ST</td>\n      <td>MARSHALL</td>\n      <td>ALBERTVILLE</td>\n      <td>AL</td>\n      <td>35950-1624</td>\n      <td>...</td>\n      <td>Owned</td>\n      <td>1352597.0</td>\n      <td>Y10022</td>\n      <td>Post Office</td>\n      <td>Main Post Office</td>\n      <td>USPS Building, Const. by USPS</td>\n      <td>USPS Land, Not Prev. Leased</td>\n      <td>No</td>\n      <td>12/1/1983</td>\n      <td>8,913</td>\n    </tr>\n    <tr>\n      <th>1</th>\n      <td>Alabama</td>\n      <td>010150-G03</td>\n      <td>10150.0</td>\n      <td>ALEXANDER CITY</td>\n      <td>MAIN OFFICE</td>\n      <td>233 LEE ST</td>\n      <td>TALLAPOOSA</td>\n      <td>ALEXANDER CITY</td>\n      <td>AL</td>\n      <td>35010-2654</td>\n      <td>...</td>\n      <td>Owned</td>\n      <td>1352654.0</td>\n      <td>Y10026</td>\n      <td>Post Office</td>\n      <td>Administrative Post Office (APO)</td>\n      <td>USPS Building, Const. by USPS</td>\n      <td>USPS Land, Not Prev. Leased</td>\n      <td>Yes</td>\n      <td>9/1/1984</td>\n      <td>7,748</td>\n    </tr>\n    <tr>\n      <th>2</th>\n      <td>Alabama</td>\n      <td>010240-G01</td>\n      <td>10240.0</td>\n      <td>ALTON</td>\n      <td>MAIN OFFICE MODULAR</td>\n      <td>5548 JOHNSON ST</td>\n      <td>JEFFERSON</td>\n      <td>ALTON</td>\n      <td>AL</td>\n      <td>35015-2001</td>\n      <td>...</td>\n      <td>Owned</td>\n      <td>1352868.0</td>\n      <td>Y10035</td>\n      <td>Post Office</td>\n      <td>Remotely Managed Post Office (RMPO)</td>\n      <td>USPS Building, Not Prev. Leased</td>\n      <td>Land Data on separate record</td>\n      <td>No</td>\n      <td>9/1/1995</td>\n      <td>672</td>\n    </tr>\n  </tbody>\n</table>\n<p>3 rows × 21 columns</p>\n</div>"
     },
     "metadata": {},
     "execution_count": 497
    }
   ],
   "source": [
    "df_usps.head(3)"
   ]
  },
  {
   "cell_type": "code",
   "execution_count": 498,
   "metadata": {},
   "outputs": [
    {
     "output_type": "execute_result",
     "data": {
      "text/plain": "False    9418\nTrue     9308\ndtype: int64"
     },
     "metadata": {},
     "execution_count": 498
    }
   ],
   "source": [
    "# make sure to drop duplicates that exist across all columns...\n",
    "df_usps.duplicated().value_counts()"
   ]
  },
  {
   "cell_type": "code",
   "execution_count": 499,
   "metadata": {},
   "outputs": [],
   "source": [
    "df_usps = df_usps.drop_duplicates()"
   ]
  },
  {
   "cell_type": "markdown",
   "metadata": {},
   "source": [
    "### write out chunks of df_usps no larger than 10k records each\n",
    "\n",
    "needs example format:\n",
    "\n",
    "1,4600 Silver Hill Rd,Suitland,MD,20746  \n",
    "2,436 15th St SE, Washington, DC,20003  \n",
    "  \n",
    "\n",
    "\n",
    "key columns are Street, City, State, Zip\n",
    "\n",
    "For geocoding purposes, make sure there are no duplicates on the key columns in order to reduce queries\n"
   ]
  },
  {
   "cell_type": "code",
   "execution_count": 440,
   "metadata": {},
   "outputs": [],
   "source": [
    "key_cols = ['Property Address', 'City', 'ST', 'ZIP Code']"
   ]
  },
  {
   "cell_type": "code",
   "execution_count": 501,
   "metadata": {},
   "outputs": [
    {
     "output_type": "execute_result",
     "data": {
      "text/plain": "False    8343\nTrue     1075\ndtype: int64"
     },
     "metadata": {},
     "execution_count": 501
    }
   ],
   "source": [
    "df_usps[key_cols].duplicated().value_counts()"
   ]
  },
  {
   "cell_type": "markdown",
   "metadata": {},
   "source": [
    "thats a ton of dupes ... locations might have more than one USPS-role and therefore show up multiple times"
   ]
  },
  {
   "cell_type": "code",
   "execution_count": 502,
   "metadata": {},
   "outputs": [],
   "source": [
    "uniques = df_usps[key_cols].drop_duplicates()"
   ]
  },
  {
   "cell_type": "code",
   "execution_count": 503,
   "metadata": {},
   "outputs": [
    {
     "output_type": "execute_result",
     "data": {
      "text/plain": "                             Property Address                       City  ST  \\\n0                           210 S HAMBRICK ST                ALBERTVILLE  AL   \n1                                  233 LEE ST             ALEXANDER CITY  AL   \n2                             5548 JOHNSON ST                      ALTON  AL   \n3                        520 E THREE NOTCH ST                  ANDALUSIA  AL   \n4                            7312 HIGHWAY 207                   ANDERSON  AL   \n...                                       ...                        ...  ..   \n17968                          US HIGHWAY 14N  YELLOWSTONE NATIONAL PARK  WY   \n17969                   US HIGHWAY 89/191/287  YELLOWSTONE NATIONAL PARK  WY   \n17970  US HIGHWAY 14/16 and US HIGHWAY 89-191  YELLOWSTONE NATIONAL PARK  WY   \n17971                            1000 MAMMOTH  YELLOWSTONE NATIONAL PARK  WY   \n17972                          US HIGHWAY 287  YELLOWSTONE NATIONAL PARK  WY   \n\n         ZIP Code  \n0      35950-1624  \n1      35010-2654  \n2      35015-2001  \n3      36420-3128  \n4      35610-4840  \n...           ...  \n17968  82190-9998  \n17969  82190-9998  \n17970  82190-9998  \n17971  82190-9650  \n17972  82190-9998  \n\n[8343 rows x 4 columns]",
      "text/html": "<div>\n<style scoped>\n    .dataframe tbody tr th:only-of-type {\n        vertical-align: middle;\n    }\n\n    .dataframe tbody tr th {\n        vertical-align: top;\n    }\n\n    .dataframe thead th {\n        text-align: right;\n    }\n</style>\n<table border=\"1\" class=\"dataframe\">\n  <thead>\n    <tr style=\"text-align: right;\">\n      <th></th>\n      <th>Property Address</th>\n      <th>City</th>\n      <th>ST</th>\n      <th>ZIP Code</th>\n    </tr>\n  </thead>\n  <tbody>\n    <tr>\n      <th>0</th>\n      <td>210 S HAMBRICK ST</td>\n      <td>ALBERTVILLE</td>\n      <td>AL</td>\n      <td>35950-1624</td>\n    </tr>\n    <tr>\n      <th>1</th>\n      <td>233 LEE ST</td>\n      <td>ALEXANDER CITY</td>\n      <td>AL</td>\n      <td>35010-2654</td>\n    </tr>\n    <tr>\n      <th>2</th>\n      <td>5548 JOHNSON ST</td>\n      <td>ALTON</td>\n      <td>AL</td>\n      <td>35015-2001</td>\n    </tr>\n    <tr>\n      <th>3</th>\n      <td>520 E THREE NOTCH ST</td>\n      <td>ANDALUSIA</td>\n      <td>AL</td>\n      <td>36420-3128</td>\n    </tr>\n    <tr>\n      <th>4</th>\n      <td>7312 HIGHWAY 207</td>\n      <td>ANDERSON</td>\n      <td>AL</td>\n      <td>35610-4840</td>\n    </tr>\n    <tr>\n      <th>...</th>\n      <td>...</td>\n      <td>...</td>\n      <td>...</td>\n      <td>...</td>\n    </tr>\n    <tr>\n      <th>17968</th>\n      <td>US HIGHWAY 14N</td>\n      <td>YELLOWSTONE NATIONAL PARK</td>\n      <td>WY</td>\n      <td>82190-9998</td>\n    </tr>\n    <tr>\n      <th>17969</th>\n      <td>US HIGHWAY 89/191/287</td>\n      <td>YELLOWSTONE NATIONAL PARK</td>\n      <td>WY</td>\n      <td>82190-9998</td>\n    </tr>\n    <tr>\n      <th>17970</th>\n      <td>US HIGHWAY 14/16 and US HIGHWAY 89-191</td>\n      <td>YELLOWSTONE NATIONAL PARK</td>\n      <td>WY</td>\n      <td>82190-9998</td>\n    </tr>\n    <tr>\n      <th>17971</th>\n      <td>1000 MAMMOTH</td>\n      <td>YELLOWSTONE NATIONAL PARK</td>\n      <td>WY</td>\n      <td>82190-9650</td>\n    </tr>\n    <tr>\n      <th>17972</th>\n      <td>US HIGHWAY 287</td>\n      <td>YELLOWSTONE NATIONAL PARK</td>\n      <td>WY</td>\n      <td>82190-9998</td>\n    </tr>\n  </tbody>\n</table>\n<p>8343 rows × 4 columns</p>\n</div>"
     },
     "metadata": {},
     "execution_count": 503
    }
   ],
   "source": [
    "uniques"
   ]
  },
  {
   "cell_type": "markdown",
   "metadata": {},
   "source": [
    "write out in chunks just in case the # of uniques is > 10000"
   ]
  },
  {
   "cell_type": "code",
   "execution_count": 341,
   "metadata": {},
   "outputs": [],
   "source": [
    "chunk_size = 10000\n",
    "\n",
    "for i in range(round(len(uniques)/chunk_size)):\n",
    "    chunk = uniques[i*chunk_size:chunk_size*(i+1)]\n",
    "    chunk.to_csv(\"data/uscensus/usps_chunk_{}.csv\".format(i), header = False)"
   ]
  },
  {
   "cell_type": "code",
   "execution_count": 358,
   "metadata": {},
   "outputs": [
    {
     "output_type": "stream",
     "name": "stdout",
     "text": "% Total    % Received % Xferd  Average Speed   Time    Time     Time  Current\n                                 Dload  Upload   Total   Spent    Left  Speed\n100 1316k  100  946k  100  369k   1201    468  0:13:27  0:13:27 --:--:--  146k\n"
    }
   ],
   "source": [
    "# pass to geocoding service\n",
    "# https://geocoding.geo.census.gov/geocoder/Geocoding_Services_API.pdf\n",
    "!curl --form addressFile=@data/uscensus/usps_chunk_0.csv --form benchmark=Public_AR_Current https://geocoding.geo.census.gov/geocoder/locations/addressbatch --output data/uscensus/geocoderesult.csv"
   ]
  },
  {
   "cell_type": "code",
   "execution_count": 363,
   "metadata": {},
   "outputs": [],
   "source": [
    "df_geocoderesult = pd.read_csv(\"data/uscensus/geocoderesult.csv\", index_col = 0, names = ['input', 'match', 'match_type', 'output', 'coords', 'tigerlineID', 'side'])"
   ]
  },
  {
   "cell_type": "code",
   "execution_count": 364,
   "metadata": {},
   "outputs": [
    {
     "output_type": "execute_result",
     "data": {
      "text/plain": "                                              input  match match_type  \\\n17288     22433 RANDOLPH DR, DULLES, VA, 20104-9998  Match  Non_Exact   \n17289     44715 PRENTICE DR, DULLES, VA, 20101-9998  Match  Non_Exact   \n17284   10001 COUNTY DR, DISPUTANTA, VA, 23842-9998  Match      Exact   \n17285  22365 DREWRY RD, DREWRYVILLE, VA, 23844-9998  Match      Exact   \n4970     345 E SUNSET BLVD, GERLACH, NV, 89412-9800    Tie        NaN   \n\n                                        output               coords  \\\n17288     22433 RANDOLPH DR, DULLES, VA, 20103  -77.45251,38.995213   \n17289     44715 PRENTICE DR, DULLES, VA, 20166   -77.4544,39.001156   \n17284   10001 COUNTY DR, DISPUTANTA, VA, 23842  -77.22715,37.124813   \n17285  22365 DREWRY RD, DREWRYVILLE, VA, 23844  -77.30634,36.715645   \n4970                                       NaN                  NaN   \n\n       tigerlineID side  \n17288   62362877.0    R  \n17289   62362878.0    L  \n17284  613894685.0    L  \n17285   82709745.0    R  \n4970           NaN  NaN  ",
      "text/html": "<div>\n<style scoped>\n    .dataframe tbody tr th:only-of-type {\n        vertical-align: middle;\n    }\n\n    .dataframe tbody tr th {\n        vertical-align: top;\n    }\n\n    .dataframe thead th {\n        text-align: right;\n    }\n</style>\n<table border=\"1\" class=\"dataframe\">\n  <thead>\n    <tr style=\"text-align: right;\">\n      <th></th>\n      <th>input</th>\n      <th>match</th>\n      <th>match_type</th>\n      <th>output</th>\n      <th>coords</th>\n      <th>tigerlineID</th>\n      <th>side</th>\n    </tr>\n  </thead>\n  <tbody>\n    <tr>\n      <th>17288</th>\n      <td>22433 RANDOLPH DR, DULLES, VA, 20104-9998</td>\n      <td>Match</td>\n      <td>Non_Exact</td>\n      <td>22433 RANDOLPH DR, DULLES, VA, 20103</td>\n      <td>-77.45251,38.995213</td>\n      <td>62362877.0</td>\n      <td>R</td>\n    </tr>\n    <tr>\n      <th>17289</th>\n      <td>44715 PRENTICE DR, DULLES, VA, 20101-9998</td>\n      <td>Match</td>\n      <td>Non_Exact</td>\n      <td>44715 PRENTICE DR, DULLES, VA, 20166</td>\n      <td>-77.4544,39.001156</td>\n      <td>62362878.0</td>\n      <td>L</td>\n    </tr>\n    <tr>\n      <th>17284</th>\n      <td>10001 COUNTY DR, DISPUTANTA, VA, 23842-9998</td>\n      <td>Match</td>\n      <td>Exact</td>\n      <td>10001 COUNTY DR, DISPUTANTA, VA, 23842</td>\n      <td>-77.22715,37.124813</td>\n      <td>613894685.0</td>\n      <td>L</td>\n    </tr>\n    <tr>\n      <th>17285</th>\n      <td>22365 DREWRY RD, DREWRYVILLE, VA, 23844-9998</td>\n      <td>Match</td>\n      <td>Exact</td>\n      <td>22365 DREWRY RD, DREWRYVILLE, VA, 23844</td>\n      <td>-77.30634,36.715645</td>\n      <td>82709745.0</td>\n      <td>R</td>\n    </tr>\n    <tr>\n      <th>4970</th>\n      <td>345 E SUNSET BLVD, GERLACH, NV, 89412-9800</td>\n      <td>Tie</td>\n      <td>NaN</td>\n      <td>NaN</td>\n      <td>NaN</td>\n      <td>NaN</td>\n      <td>NaN</td>\n    </tr>\n  </tbody>\n</table>\n</div>"
     },
     "metadata": {},
     "execution_count": 364
    }
   ],
   "source": [
    "df_geocoderesult.head()"
   ]
  },
  {
   "cell_type": "code",
   "execution_count": 365,
   "metadata": {},
   "outputs": [
    {
     "output_type": "execute_result",
     "data": {
      "text/plain": "False    5355\nTrue     2988\nName: coords, dtype: int64"
     },
     "metadata": {},
     "execution_count": 365
    }
   ],
   "source": [
    "df_geocoderesult.coords.isna().value_counts()"
   ]
  },
  {
   "cell_type": "markdown",
   "metadata": {},
   "source": [
    "need to look into JSON request per line to try and geocode remainder\n",
    "\n",
    "\n",
    "for now, lets try to look at what we have"
   ]
  },
  {
   "cell_type": "code",
   "execution_count": 431,
   "metadata": {},
   "outputs": [],
   "source": [
    "geocode_lookup = df_geocoderesult[~df_geocoderesult.coords.isna()][['input', 'coords']]"
   ]
  },
  {
   "cell_type": "code",
   "execution_count": 432,
   "metadata": {},
   "outputs": [],
   "source": [
    "def fix_coords(coord):\n",
    "    # rearrage coords \n",
    "    lon, lat = coord.split(',')\n",
    "    return float(lat), float(lon)\n",
    "\n",
    "def split_input(s):\n",
    "    street, city, state, zip9 = [item.strip() for item in s.split(',')]\n",
    "    return street, city, state, zip9"
   ]
  },
  {
   "cell_type": "code",
   "execution_count": 433,
   "metadata": {},
   "outputs": [],
   "source": [
    "split_input = geocode_lookup.input.apply(split_input).apply(pd.Series)\n",
    "split_input.columns =  key_cols\n",
    "split_coords = geocode_lookup.coords.apply(fix_coords).apply(pd.Series)\n",
    "split_coords.columns = ['lat', 'lon']"
   ]
  },
  {
   "cell_type": "code",
   "execution_count": 435,
   "metadata": {},
   "outputs": [
    {
     "output_type": "execute_result",
     "data": {
      "text/plain": "             lat         lon\n17288  38.995213  -77.452510\n17289  39.001156  -77.454400\n17284  37.124813  -77.227150\n17285  36.715645  -77.306340\n17286  37.093610  -80.686910\n...          ...         ...\n4954   40.867040  -97.591820\n3629   39.291080  -76.623825\n4955   41.244614  -96.396126\n3627   39.328594  -76.631240\n4957   35.979540 -114.834750\n\n[5355 rows x 2 columns]",
      "text/html": "<div>\n<style scoped>\n    .dataframe tbody tr th:only-of-type {\n        vertical-align: middle;\n    }\n\n    .dataframe tbody tr th {\n        vertical-align: top;\n    }\n\n    .dataframe thead th {\n        text-align: right;\n    }\n</style>\n<table border=\"1\" class=\"dataframe\">\n  <thead>\n    <tr style=\"text-align: right;\">\n      <th></th>\n      <th>lat</th>\n      <th>lon</th>\n    </tr>\n  </thead>\n  <tbody>\n    <tr>\n      <th>17288</th>\n      <td>38.995213</td>\n      <td>-77.452510</td>\n    </tr>\n    <tr>\n      <th>17289</th>\n      <td>39.001156</td>\n      <td>-77.454400</td>\n    </tr>\n    <tr>\n      <th>17284</th>\n      <td>37.124813</td>\n      <td>-77.227150</td>\n    </tr>\n    <tr>\n      <th>17285</th>\n      <td>36.715645</td>\n      <td>-77.306340</td>\n    </tr>\n    <tr>\n      <th>17286</th>\n      <td>37.093610</td>\n      <td>-80.686910</td>\n    </tr>\n    <tr>\n      <th>...</th>\n      <td>...</td>\n      <td>...</td>\n    </tr>\n    <tr>\n      <th>4954</th>\n      <td>40.867040</td>\n      <td>-97.591820</td>\n    </tr>\n    <tr>\n      <th>3629</th>\n      <td>39.291080</td>\n      <td>-76.623825</td>\n    </tr>\n    <tr>\n      <th>4955</th>\n      <td>41.244614</td>\n      <td>-96.396126</td>\n    </tr>\n    <tr>\n      <th>3627</th>\n      <td>39.328594</td>\n      <td>-76.631240</td>\n    </tr>\n    <tr>\n      <th>4957</th>\n      <td>35.979540</td>\n      <td>-114.834750</td>\n    </tr>\n  </tbody>\n</table>\n<p>5355 rows × 2 columns</p>\n</div>"
     },
     "metadata": {},
     "execution_count": 435
    }
   ],
   "source": [
    "split_coords"
   ]
  },
  {
   "cell_type": "code",
   "execution_count": 436,
   "metadata": {},
   "outputs": [],
   "source": [
    "geocode_result = split_input.join(split_coords)"
   ]
  },
  {
   "cell_type": "code",
   "execution_count": 437,
   "metadata": {},
   "outputs": [
    {
     "output_type": "execute_result",
     "data": {
      "text/plain": "        Property Address          City  ST    ZIP Code        lat         lon\n17288  22433 RANDOLPH DR        DULLES  VA  20104-9998  38.995213  -77.452510\n17289  44715 PRENTICE DR        DULLES  VA  20101-9998  39.001156  -77.454400\n17284    10001 COUNTY DR    DISPUTANTA  VA  23842-9998  37.124813  -77.227150\n17285    22365 DREWRY RD   DREWRYVILLE  VA  23844-9998  36.715645  -77.306340\n17286   1 TOWN CENTER DR        DUBLIN  VA  24084-9998  37.093610  -80.686910\n...                  ...           ...  ..         ...        ...         ...\n4954     626 N GRANT AVE          YORK  NE  68467-9998  40.867040  -97.591820\n3629     130 N GREENE ST     BALTIMORE  MD  21201-9997  39.291080  -76.623825\n4955          502 1ST ST         YUTAN  NE  68073-9700  41.244614  -96.396126\n3627       919 W 34TH ST     BALTIMORE  MD  21211-9998  39.328594  -76.631240\n4957    1101 COLORADO ST  BOULDER CITY  NV  89005-9998  35.979540 -114.834750\n\n[5355 rows x 6 columns]",
      "text/html": "<div>\n<style scoped>\n    .dataframe tbody tr th:only-of-type {\n        vertical-align: middle;\n    }\n\n    .dataframe tbody tr th {\n        vertical-align: top;\n    }\n\n    .dataframe thead th {\n        text-align: right;\n    }\n</style>\n<table border=\"1\" class=\"dataframe\">\n  <thead>\n    <tr style=\"text-align: right;\">\n      <th></th>\n      <th>Property Address</th>\n      <th>City</th>\n      <th>ST</th>\n      <th>ZIP Code</th>\n      <th>lat</th>\n      <th>lon</th>\n    </tr>\n  </thead>\n  <tbody>\n    <tr>\n      <th>17288</th>\n      <td>22433 RANDOLPH DR</td>\n      <td>DULLES</td>\n      <td>VA</td>\n      <td>20104-9998</td>\n      <td>38.995213</td>\n      <td>-77.452510</td>\n    </tr>\n    <tr>\n      <th>17289</th>\n      <td>44715 PRENTICE DR</td>\n      <td>DULLES</td>\n      <td>VA</td>\n      <td>20101-9998</td>\n      <td>39.001156</td>\n      <td>-77.454400</td>\n    </tr>\n    <tr>\n      <th>17284</th>\n      <td>10001 COUNTY DR</td>\n      <td>DISPUTANTA</td>\n      <td>VA</td>\n      <td>23842-9998</td>\n      <td>37.124813</td>\n      <td>-77.227150</td>\n    </tr>\n    <tr>\n      <th>17285</th>\n      <td>22365 DREWRY RD</td>\n      <td>DREWRYVILLE</td>\n      <td>VA</td>\n      <td>23844-9998</td>\n      <td>36.715645</td>\n      <td>-77.306340</td>\n    </tr>\n    <tr>\n      <th>17286</th>\n      <td>1 TOWN CENTER DR</td>\n      <td>DUBLIN</td>\n      <td>VA</td>\n      <td>24084-9998</td>\n      <td>37.093610</td>\n      <td>-80.686910</td>\n    </tr>\n    <tr>\n      <th>...</th>\n      <td>...</td>\n      <td>...</td>\n      <td>...</td>\n      <td>...</td>\n      <td>...</td>\n      <td>...</td>\n    </tr>\n    <tr>\n      <th>4954</th>\n      <td>626 N GRANT AVE</td>\n      <td>YORK</td>\n      <td>NE</td>\n      <td>68467-9998</td>\n      <td>40.867040</td>\n      <td>-97.591820</td>\n    </tr>\n    <tr>\n      <th>3629</th>\n      <td>130 N GREENE ST</td>\n      <td>BALTIMORE</td>\n      <td>MD</td>\n      <td>21201-9997</td>\n      <td>39.291080</td>\n      <td>-76.623825</td>\n    </tr>\n    <tr>\n      <th>4955</th>\n      <td>502 1ST ST</td>\n      <td>YUTAN</td>\n      <td>NE</td>\n      <td>68073-9700</td>\n      <td>41.244614</td>\n      <td>-96.396126</td>\n    </tr>\n    <tr>\n      <th>3627</th>\n      <td>919 W 34TH ST</td>\n      <td>BALTIMORE</td>\n      <td>MD</td>\n      <td>21211-9998</td>\n      <td>39.328594</td>\n      <td>-76.631240</td>\n    </tr>\n    <tr>\n      <th>4957</th>\n      <td>1101 COLORADO ST</td>\n      <td>BOULDER CITY</td>\n      <td>NV</td>\n      <td>89005-9998</td>\n      <td>35.979540</td>\n      <td>-114.834750</td>\n    </tr>\n  </tbody>\n</table>\n<p>5355 rows × 6 columns</p>\n</div>"
     },
     "metadata": {},
     "execution_count": 437
    }
   ],
   "source": [
    "geocode_result"
   ]
  },
  {
   "cell_type": "markdown",
   "metadata": {},
   "source": [
    "now perform left merge back with the original df_usps using the key cols"
   ]
  },
  {
   "cell_type": "code",
   "execution_count": 627,
   "metadata": {},
   "outputs": [],
   "source": [
    "df_usps_final = df_usps.merge(geocode_result, how = 'left', on = key_cols)"
   ]
  },
  {
   "cell_type": "code",
   "execution_count": 628,
   "metadata": {},
   "outputs": [
    {
     "output_type": "execute_result",
     "data": {
      "text/plain": "  District     Fin-Sub  Chrgbl Fin No         PO Name            Unit Name  \\\n0  Alabama  010120-G02        10120.0     ALBERTVILLE          MAIN OFFICE   \n1  Alabama  010150-G03        10150.0  ALEXANDER CITY          MAIN OFFICE   \n2  Alabama  010240-G01        10240.0           ALTON  MAIN OFFICE MODULAR   \n3  Alabama  010270-G01        10270.0       ANDALUSIA          MAIN OFFICE   \n4  Alabama  010280-G01        10280.0        ANDERSON  MAIN OFFICE MODULAR   \n\n       Property Address      County            City  ST    ZIP Code  ...  \\\n0     210 S HAMBRICK ST    MARSHALL     ALBERTVILLE  AL  35950-1624  ...   \n1            233 LEE ST  TALLAPOOSA  ALEXANDER CITY  AL  35010-2654  ...   \n2       5548 JOHNSON ST   JEFFERSON           ALTON  AL  35015-2001  ...   \n3  520 E THREE NOTCH ST   COVINGTON       ANDALUSIA  AL  36420-3128  ...   \n4      7312 HIGHWAY 207  LAUDERDALE        ANDERSON  AL  35610-4840  ...   \n\n  AMS Locale Key (All) FDB Facility Type (All)  \\\n0               Y10022             Post Office   \n1               Y10026             Post Office   \n2               Y10035             Post Office   \n3               Y10038             Post Office   \n4               Y10039             Post Office   \n\n            FDB Facility Subtype (All)   Building Ownership Description  \\\n0                     Main Post Office    USPS Building, Const. by USPS   \n1     Administrative Post Office (APO)    USPS Building, Const. by USPS   \n2  Remotely Managed Post Office (RMPO)  USPS Building, Not Prev. Leased   \n3     Administrative Post Office (APO)      USPS Building, Prev. Leased   \n4  Remotely Managed Post Office (RMPO)           USPS Personal Property   \n\n                      Land Desc Space Certified Indicator Bldg Occu Date  \\\n0   USPS Land, Not Prev. Leased                        No      12/1/1983   \n1   USPS Land, Not Prev. Leased                       Yes       9/1/1984   \n2  Land Data on separate record                        No       9/1/1995   \n3       USPS Land, Prev. Leased                       Yes      10/1/1965   \n4  Land Data on separate record                        No       4/1/1995   \n\n  Int Sq Ft        lat        lon  \n0     8,913        NaN        NaN  \n1     7,748        NaN        NaN  \n2       672        NaN        NaN  \n3    10,519  31.302319 -86.487960  \n4       992  34.924915 -87.268715  \n\n[5 rows x 23 columns]",
      "text/html": "<div>\n<style scoped>\n    .dataframe tbody tr th:only-of-type {\n        vertical-align: middle;\n    }\n\n    .dataframe tbody tr th {\n        vertical-align: top;\n    }\n\n    .dataframe thead th {\n        text-align: right;\n    }\n</style>\n<table border=\"1\" class=\"dataframe\">\n  <thead>\n    <tr style=\"text-align: right;\">\n      <th></th>\n      <th>District</th>\n      <th>Fin-Sub</th>\n      <th>Chrgbl Fin No</th>\n      <th>PO Name</th>\n      <th>Unit Name</th>\n      <th>Property Address</th>\n      <th>County</th>\n      <th>City</th>\n      <th>ST</th>\n      <th>ZIP Code</th>\n      <th>...</th>\n      <th>AMS Locale Key (All)</th>\n      <th>FDB Facility Type (All)</th>\n      <th>FDB Facility Subtype (All)</th>\n      <th>Building Ownership Description</th>\n      <th>Land Desc</th>\n      <th>Space Certified Indicator</th>\n      <th>Bldg Occu Date</th>\n      <th>Int Sq Ft</th>\n      <th>lat</th>\n      <th>lon</th>\n    </tr>\n  </thead>\n  <tbody>\n    <tr>\n      <th>0</th>\n      <td>Alabama</td>\n      <td>010120-G02</td>\n      <td>10120.0</td>\n      <td>ALBERTVILLE</td>\n      <td>MAIN OFFICE</td>\n      <td>210 S HAMBRICK ST</td>\n      <td>MARSHALL</td>\n      <td>ALBERTVILLE</td>\n      <td>AL</td>\n      <td>35950-1624</td>\n      <td>...</td>\n      <td>Y10022</td>\n      <td>Post Office</td>\n      <td>Main Post Office</td>\n      <td>USPS Building, Const. by USPS</td>\n      <td>USPS Land, Not Prev. Leased</td>\n      <td>No</td>\n      <td>12/1/1983</td>\n      <td>8,913</td>\n      <td>NaN</td>\n      <td>NaN</td>\n    </tr>\n    <tr>\n      <th>1</th>\n      <td>Alabama</td>\n      <td>010150-G03</td>\n      <td>10150.0</td>\n      <td>ALEXANDER CITY</td>\n      <td>MAIN OFFICE</td>\n      <td>233 LEE ST</td>\n      <td>TALLAPOOSA</td>\n      <td>ALEXANDER CITY</td>\n      <td>AL</td>\n      <td>35010-2654</td>\n      <td>...</td>\n      <td>Y10026</td>\n      <td>Post Office</td>\n      <td>Administrative Post Office (APO)</td>\n      <td>USPS Building, Const. by USPS</td>\n      <td>USPS Land, Not Prev. Leased</td>\n      <td>Yes</td>\n      <td>9/1/1984</td>\n      <td>7,748</td>\n      <td>NaN</td>\n      <td>NaN</td>\n    </tr>\n    <tr>\n      <th>2</th>\n      <td>Alabama</td>\n      <td>010240-G01</td>\n      <td>10240.0</td>\n      <td>ALTON</td>\n      <td>MAIN OFFICE MODULAR</td>\n      <td>5548 JOHNSON ST</td>\n      <td>JEFFERSON</td>\n      <td>ALTON</td>\n      <td>AL</td>\n      <td>35015-2001</td>\n      <td>...</td>\n      <td>Y10035</td>\n      <td>Post Office</td>\n      <td>Remotely Managed Post Office (RMPO)</td>\n      <td>USPS Building, Not Prev. Leased</td>\n      <td>Land Data on separate record</td>\n      <td>No</td>\n      <td>9/1/1995</td>\n      <td>672</td>\n      <td>NaN</td>\n      <td>NaN</td>\n    </tr>\n    <tr>\n      <th>3</th>\n      <td>Alabama</td>\n      <td>010270-G01</td>\n      <td>10270.0</td>\n      <td>ANDALUSIA</td>\n      <td>MAIN OFFICE</td>\n      <td>520 E THREE NOTCH ST</td>\n      <td>COVINGTON</td>\n      <td>ANDALUSIA</td>\n      <td>AL</td>\n      <td>36420-3128</td>\n      <td>...</td>\n      <td>Y10038</td>\n      <td>Post Office</td>\n      <td>Administrative Post Office (APO)</td>\n      <td>USPS Building, Prev. Leased</td>\n      <td>USPS Land, Prev. Leased</td>\n      <td>Yes</td>\n      <td>10/1/1965</td>\n      <td>10,519</td>\n      <td>31.302319</td>\n      <td>-86.487960</td>\n    </tr>\n    <tr>\n      <th>4</th>\n      <td>Alabama</td>\n      <td>010280-G01</td>\n      <td>10280.0</td>\n      <td>ANDERSON</td>\n      <td>MAIN OFFICE MODULAR</td>\n      <td>7312 HIGHWAY 207</td>\n      <td>LAUDERDALE</td>\n      <td>ANDERSON</td>\n      <td>AL</td>\n      <td>35610-4840</td>\n      <td>...</td>\n      <td>Y10039</td>\n      <td>Post Office</td>\n      <td>Remotely Managed Post Office (RMPO)</td>\n      <td>USPS Personal Property</td>\n      <td>Land Data on separate record</td>\n      <td>No</td>\n      <td>4/1/1995</td>\n      <td>992</td>\n      <td>34.924915</td>\n      <td>-87.268715</td>\n    </tr>\n  </tbody>\n</table>\n<p>5 rows × 23 columns</p>\n</div>"
     },
     "metadata": {},
     "execution_count": 628
    }
   ],
   "source": [
    "df_usps_final.head()"
   ]
  },
  {
   "cell_type": "code",
   "execution_count": 629,
   "metadata": {},
   "outputs": [
    {
     "output_type": "execute_result",
     "data": {
      "text/plain": "False    6097\nTrue     3321\nName: lat, dtype: int64"
     },
     "metadata": {},
     "execution_count": 629
    }
   ],
   "source": [
    "df_usps_final.lat.isna().value_counts()"
   ]
  },
  {
   "cell_type": "markdown",
   "metadata": {},
   "source": [
    "not bad, missing roughly 1/3 of total lat/lon coords tho"
   ]
  },
  {
   "cell_type": "code",
   "execution_count": 630,
   "metadata": {},
   "outputs": [
    {
     "output_type": "execute_result",
     "data": {
      "text/plain": "                                                            0\nDistrict                                              Alabama\nFin-Sub                                            010120-G02\nChrgbl Fin No                                           10120\nPO Name                                           ALBERTVILLE\nUnit Name                                         MAIN OFFICE\nProperty Address                            210 S HAMBRICK ST\nCounty                                               MARSHALL\nCity                                              ALBERTVILLE\nST                                                         AL\nZIP Code                                           35950-1624\nProperty Status                                        Active\nOwnership                                               Owned\nFDB ID (All)                                       1.3526e+06\nAMS Locale Key (All)                                   Y10022\nFDB Facility Type (All)                           Post Office\nFDB Facility Subtype (All)                   Main Post Office\nBuilding Ownership Description  USPS Building, Const. by USPS\nLand Desc                         USPS Land, Not Prev. Leased\nSpace Certified Indicator                                  No\nBldg Occu Date                                      12/1/1983\nInt Sq Ft                                               8,913\nlat                                                       NaN\nlon                                                       NaN",
      "text/html": "<div>\n<style scoped>\n    .dataframe tbody tr th:only-of-type {\n        vertical-align: middle;\n    }\n\n    .dataframe tbody tr th {\n        vertical-align: top;\n    }\n\n    .dataframe thead th {\n        text-align: right;\n    }\n</style>\n<table border=\"1\" class=\"dataframe\">\n  <thead>\n    <tr style=\"text-align: right;\">\n      <th></th>\n      <th>0</th>\n    </tr>\n  </thead>\n  <tbody>\n    <tr>\n      <th>District</th>\n      <td>Alabama</td>\n    </tr>\n    <tr>\n      <th>Fin-Sub</th>\n      <td>010120-G02</td>\n    </tr>\n    <tr>\n      <th>Chrgbl Fin No</th>\n      <td>10120</td>\n    </tr>\n    <tr>\n      <th>PO Name</th>\n      <td>ALBERTVILLE</td>\n    </tr>\n    <tr>\n      <th>Unit Name</th>\n      <td>MAIN OFFICE</td>\n    </tr>\n    <tr>\n      <th>Property Address</th>\n      <td>210 S HAMBRICK ST</td>\n    </tr>\n    <tr>\n      <th>County</th>\n      <td>MARSHALL</td>\n    </tr>\n    <tr>\n      <th>City</th>\n      <td>ALBERTVILLE</td>\n    </tr>\n    <tr>\n      <th>ST</th>\n      <td>AL</td>\n    </tr>\n    <tr>\n      <th>ZIP Code</th>\n      <td>35950-1624</td>\n    </tr>\n    <tr>\n      <th>Property Status</th>\n      <td>Active</td>\n    </tr>\n    <tr>\n      <th>Ownership</th>\n      <td>Owned</td>\n    </tr>\n    <tr>\n      <th>FDB ID (All)</th>\n      <td>1.3526e+06</td>\n    </tr>\n    <tr>\n      <th>AMS Locale Key (All)</th>\n      <td>Y10022</td>\n    </tr>\n    <tr>\n      <th>FDB Facility Type (All)</th>\n      <td>Post Office</td>\n    </tr>\n    <tr>\n      <th>FDB Facility Subtype (All)</th>\n      <td>Main Post Office</td>\n    </tr>\n    <tr>\n      <th>Building Ownership Description</th>\n      <td>USPS Building, Const. by USPS</td>\n    </tr>\n    <tr>\n      <th>Land Desc</th>\n      <td>USPS Land, Not Prev. Leased</td>\n    </tr>\n    <tr>\n      <th>Space Certified Indicator</th>\n      <td>No</td>\n    </tr>\n    <tr>\n      <th>Bldg Occu Date</th>\n      <td>12/1/1983</td>\n    </tr>\n    <tr>\n      <th>Int Sq Ft</th>\n      <td>8,913</td>\n    </tr>\n    <tr>\n      <th>lat</th>\n      <td>NaN</td>\n    </tr>\n    <tr>\n      <th>lon</th>\n      <td>NaN</td>\n    </tr>\n  </tbody>\n</table>\n</div>"
     },
     "metadata": {},
     "execution_count": 630
    }
   ],
   "source": [
    "df_usps_final.head(1).T"
   ]
  },
  {
   "cell_type": "markdown",
   "metadata": {},
   "source": [
    "should probably look into what types of USPS facilities we're interested in, and filter out the others"
   ]
  },
  {
   "cell_type": "code",
   "execution_count": 635,
   "metadata": {},
   "outputs": [
    {
     "output_type": "execute_result",
     "data": {
      "text/plain": "Post Office                            8266\nAdministrative Office                   316\nMail Processing                         302\nVehicle Maintenance                     250\nNetwork Facilities                       40\nOther Customer Service                   21\nTraining Facility                         6\nStorage Facility                          2\nInternational Operations Facilities       2\nOther Operations Facilities               1\nUnknown Type                              1\nName: FDB Facility Type (All), dtype: int64"
     },
     "metadata": {},
     "execution_count": 635
    }
   ],
   "source": [
    "df_usps_final['FDB Facility Type (All)'].value_counts()"
   ]
  },
  {
   "cell_type": "code",
   "execution_count": 636,
   "metadata": {},
   "outputs": [],
   "source": [
    "df_usps_interest = df_usps_final[df_usps_final['FDB Facility Type (All)'].isin(('Mail Processing', 'Network Facilities'))]"
   ]
  },
  {
   "cell_type": "code",
   "execution_count": 638,
   "metadata": {},
   "outputs": [],
   "source": [
    "# write out for corey\n",
    "df_usps_interest.to_excel(\"data/outputs/usps_locations_interest.xlsx\")"
   ]
  },
  {
   "cell_type": "code",
   "execution_count": 645,
   "metadata": {},
   "outputs": [
    {
     "output_type": "execute_result",
     "data": {
      "text/plain": "False    234\nTrue     108\nName: lat, dtype: int64"
     },
     "metadata": {},
     "execution_count": 645
    }
   ],
   "source": [
    "(df_usps_interest.lat.isna() & df_usps_interest.lat.isna()).value_counts()"
   ]
  },
  {
   "cell_type": "code",
   "execution_count": 646,
   "metadata": {},
   "outputs": [],
   "source": [
    "df_usps_interest_coded = df_usps_interest[~df_usps_interest.lat.isna()]\n",
    "df_usps_interest_notcoded = df_usps_interest[df_usps_interest.lat.isna()]"
   ]
  },
  {
   "cell_type": "markdown",
   "metadata": {},
   "source": [
    "### use GeoPy to attempt to geocode the remaining missing lat/lon"
   ]
  },
  {
   "cell_type": "code",
   "execution_count": 692,
   "metadata": {},
   "outputs": [],
   "source": [
    "from geopy.geocoders import Nominatim\n",
    "\n",
    "from geopy.extra.rate_limiter import RateLimiter\n",
    "geocode = RateLimiter(geolocator.geocode, min_delay_seconds=1)"
   ]
  },
  {
   "cell_type": "code",
   "execution_count": 694,
   "metadata": {},
   "outputs": [],
   "source": [
    "geolocator = Nominatim(user_agent = \"DEAN\", timeout=10)"
   ]
  },
  {
   "cell_type": "code",
   "execution_count": 660,
   "metadata": {},
   "outputs": [
    {
     "output_type": "execute_result",
     "data": {
      "text/plain": "    District     Fin-Sub  Chrgbl Fin No    PO Name              Unit Name  \\\n213   Alaska  024173-G02        24177.0     JUNEAU     MENDENHALL STATION   \n222   Alaska  024563-G02        24563.0  KETCHIKAN            MAIN OFFICE   \n242   Alaska  026357-G03        26357.0       NOME  MAIL PROCESSING ANNEX   \n351  Arizona  036365-G15        36365.0    PHOENIX                   P&DC   \n353  Arizona  036365-G15        36365.0    PHOENIX                   P&DC   \n\n              Property Address                           County       City  \\\n213          9491 VINTAGE BLVD                           JUNEAU     JUNEAU   \n222           3609 TONGASS AVE  PRINCE OF WALES-OUTER KETCHIKAN  KETCHIKAN   \n242                516 PORT RD                             NOME       NOME   \n351  4949 E VAN BUREN ST RM 65                         MARICOPA    PHOENIX   \n353  4949 E VAN BUREN ST RM 65                         MARICOPA    PHOENIX   \n\n     ST    ZIP Code  ... AMS Locale Key (All) FDB Facility Type (All)  \\\n213  AK  99801-7111  ...               Z10149         Mail Processing   \n222  AK  99901-9998  ...               Z10160         Mail Processing   \n242  AK  99762-9801  ...                 1203         Mail Processing   \n351  AZ  85026-9600  ...               Z10746      Network Facilities   \n353  AZ  85026-9600  ...               Z10745         Mail Processing   \n\n                            FDB Facility Subtype (All)  \\\n213  Processing and Distribution Center/Facility (P...   \n222  Processing and Distribution Center/Facility (P...   \n242                        Mail Processing Annex (ANX)   \n351              Network Distribution Center (NDC/ASF)   \n353  Processing and Distribution Center/Facility (P...   \n\n    Building Ownership Description                     Land Desc  \\\n213  USPS Building, Const. by USPS   USPS Land, Not Prev. Leased   \n222  USPS Building, Const. by USPS   USPS Land, Not Prev. Leased   \n242  USPS Building, Const. by USPS  Land Data on separate record   \n351  USPS Building, Const. by USPS   USPS Land, Not Prev. Leased   \n353  USPS Building, Const. by USPS   USPS Land, Not Prev. Leased   \n\n    Space Certified Indicator Bldg Occu Date Int Sq Ft lat lon  \n213                       Yes       8/1/1986    29,212 NaN NaN  \n222                       Yes       9/1/1976    16,950 NaN NaN  \n242                        No       3/1/1987     8,118 NaN NaN  \n351                       Yes       6/1/1985   473,016 NaN NaN  \n353                       Yes       6/1/1985   473,016 NaN NaN  \n\n[5 rows x 23 columns]",
      "text/html": "<div>\n<style scoped>\n    .dataframe tbody tr th:only-of-type {\n        vertical-align: middle;\n    }\n\n    .dataframe tbody tr th {\n        vertical-align: top;\n    }\n\n    .dataframe thead th {\n        text-align: right;\n    }\n</style>\n<table border=\"1\" class=\"dataframe\">\n  <thead>\n    <tr style=\"text-align: right;\">\n      <th></th>\n      <th>District</th>\n      <th>Fin-Sub</th>\n      <th>Chrgbl Fin No</th>\n      <th>PO Name</th>\n      <th>Unit Name</th>\n      <th>Property Address</th>\n      <th>County</th>\n      <th>City</th>\n      <th>ST</th>\n      <th>ZIP Code</th>\n      <th>...</th>\n      <th>AMS Locale Key (All)</th>\n      <th>FDB Facility Type (All)</th>\n      <th>FDB Facility Subtype (All)</th>\n      <th>Building Ownership Description</th>\n      <th>Land Desc</th>\n      <th>Space Certified Indicator</th>\n      <th>Bldg Occu Date</th>\n      <th>Int Sq Ft</th>\n      <th>lat</th>\n      <th>lon</th>\n    </tr>\n  </thead>\n  <tbody>\n    <tr>\n      <th>213</th>\n      <td>Alaska</td>\n      <td>024173-G02</td>\n      <td>24177.0</td>\n      <td>JUNEAU</td>\n      <td>MENDENHALL STATION</td>\n      <td>9491 VINTAGE BLVD</td>\n      <td>JUNEAU</td>\n      <td>JUNEAU</td>\n      <td>AK</td>\n      <td>99801-7111</td>\n      <td>...</td>\n      <td>Z10149</td>\n      <td>Mail Processing</td>\n      <td>Processing and Distribution Center/Facility (P...</td>\n      <td>USPS Building, Const. by USPS</td>\n      <td>USPS Land, Not Prev. Leased</td>\n      <td>Yes</td>\n      <td>8/1/1986</td>\n      <td>29,212</td>\n      <td>NaN</td>\n      <td>NaN</td>\n    </tr>\n    <tr>\n      <th>222</th>\n      <td>Alaska</td>\n      <td>024563-G02</td>\n      <td>24563.0</td>\n      <td>KETCHIKAN</td>\n      <td>MAIN OFFICE</td>\n      <td>3609 TONGASS AVE</td>\n      <td>PRINCE OF WALES-OUTER KETCHIKAN</td>\n      <td>KETCHIKAN</td>\n      <td>AK</td>\n      <td>99901-9998</td>\n      <td>...</td>\n      <td>Z10160</td>\n      <td>Mail Processing</td>\n      <td>Processing and Distribution Center/Facility (P...</td>\n      <td>USPS Building, Const. by USPS</td>\n      <td>USPS Land, Not Prev. Leased</td>\n      <td>Yes</td>\n      <td>9/1/1976</td>\n      <td>16,950</td>\n      <td>NaN</td>\n      <td>NaN</td>\n    </tr>\n    <tr>\n      <th>242</th>\n      <td>Alaska</td>\n      <td>026357-G03</td>\n      <td>26357.0</td>\n      <td>NOME</td>\n      <td>MAIL PROCESSING ANNEX</td>\n      <td>516 PORT RD</td>\n      <td>NOME</td>\n      <td>NOME</td>\n      <td>AK</td>\n      <td>99762-9801</td>\n      <td>...</td>\n      <td>1203</td>\n      <td>Mail Processing</td>\n      <td>Mail Processing Annex (ANX)</td>\n      <td>USPS Building, Const. by USPS</td>\n      <td>Land Data on separate record</td>\n      <td>No</td>\n      <td>3/1/1987</td>\n      <td>8,118</td>\n      <td>NaN</td>\n      <td>NaN</td>\n    </tr>\n    <tr>\n      <th>351</th>\n      <td>Arizona</td>\n      <td>036365-G15</td>\n      <td>36365.0</td>\n      <td>PHOENIX</td>\n      <td>P&amp;DC</td>\n      <td>4949 E VAN BUREN ST RM 65</td>\n      <td>MARICOPA</td>\n      <td>PHOENIX</td>\n      <td>AZ</td>\n      <td>85026-9600</td>\n      <td>...</td>\n      <td>Z10746</td>\n      <td>Network Facilities</td>\n      <td>Network Distribution Center (NDC/ASF)</td>\n      <td>USPS Building, Const. by USPS</td>\n      <td>USPS Land, Not Prev. Leased</td>\n      <td>Yes</td>\n      <td>6/1/1985</td>\n      <td>473,016</td>\n      <td>NaN</td>\n      <td>NaN</td>\n    </tr>\n    <tr>\n      <th>353</th>\n      <td>Arizona</td>\n      <td>036365-G15</td>\n      <td>36365.0</td>\n      <td>PHOENIX</td>\n      <td>P&amp;DC</td>\n      <td>4949 E VAN BUREN ST RM 65</td>\n      <td>MARICOPA</td>\n      <td>PHOENIX</td>\n      <td>AZ</td>\n      <td>85026-9600</td>\n      <td>...</td>\n      <td>Z10745</td>\n      <td>Mail Processing</td>\n      <td>Processing and Distribution Center/Facility (P...</td>\n      <td>USPS Building, Const. by USPS</td>\n      <td>USPS Land, Not Prev. Leased</td>\n      <td>Yes</td>\n      <td>6/1/1985</td>\n      <td>473,016</td>\n      <td>NaN</td>\n      <td>NaN</td>\n    </tr>\n  </tbody>\n</table>\n<p>5 rows × 23 columns</p>\n</div>"
     },
     "metadata": {},
     "execution_count": 660
    }
   ],
   "source": [
    "df_usps_interest_notcoded.head()"
   ]
  },
  {
   "cell_type": "code",
   "execution_count": 652,
   "metadata": {},
   "outputs": [
    {
     "output_type": "execute_result",
     "data": {
      "text/plain": "213             9491 VINTAGE BLVD, JUNEAU, AK, 99801-7111\n222           3609 TONGASS AVE, KETCHIKAN, AK, 99901-9998\n242                     516 PORT RD, NOME, AK, 99762-9801\n351     4949 E VAN BUREN ST RM 65, PHOENIX, AZ, 85026-...\n353     4949 E VAN BUREN ST RM 65, PHOENIX, AZ, 85026-...\n                              ...                        \n9057           2928 S SPOTTED RD, SPOKANE, WA, 99224-9997\n9069               4001 S PINE ST, TACOMA, WA, 98413-9994\n9184             1025 W 20TH AVE, OSHKOSH, WI, 54902-9998\n9255              200 CAVA DR, CLARKSBURG, WV, 26301-9993\n9356              411 N FOREST DR, CASPER, WY, 82609-9997\nLength: 108, dtype: object"
     },
     "metadata": {},
     "execution_count": 652
    }
   ],
   "source": [
    "df_usps_interest_notcoded[['Property Address', 'City', 'ST', 'ZIP Code']].apply(lambda row: ', '.join(row), axis = 1)"
   ]
  },
  {
   "cell_type": "code",
   "execution_count": 657,
   "metadata": {},
   "outputs": [
    {
     "output_type": "execute_result",
     "data": {
      "text/plain": "213             9491 VINTAGE BLVD, JUNEAU, AK, 99801-7111\n222           3609 TONGASS AVE, KETCHIKAN, AK, 99901-9998\n242                     516 PORT RD, NOME, AK, 99762-9801\n351     4949 E VAN BUREN ST RM 65, PHOENIX, AZ, 85026-...\n353     4949 E VAN BUREN ST RM 65, PHOENIX, AZ, 85026-...\n                              ...                        \n9057           2928 S SPOTTED RD, SPOKANE, WA, 99224-9997\n9069               4001 S PINE ST, TACOMA, WA, 98413-9994\n9184             1025 W 20TH AVE, OSHKOSH, WI, 54902-9998\n9255              200 CAVA DR, CLARKSBURG, WV, 26301-9993\n9356              411 N FOREST DR, CASPER, WY, 82609-9997\nLength: 108, dtype: object"
     },
     "metadata": {},
     "execution_count": 657
    }
   ],
   "source": [
    "df_usps_interest_notcoded[['Property Address','City','ST','ZIP Code']].apply(lambda row: ', '.join(row), axis = 1)"
   ]
  },
  {
   "cell_type": "code",
   "execution_count": 689,
   "metadata": {},
   "outputs": [],
   "source": [
    "address_cols = ['Property Address','City','ST','ZIP Code']\n",
    "def geocode_single(row):\n",
    "    address = ', '.join(row[item] for item in address_cols)\n",
    "    location = geolocator.geocode(address)\n",
    "    if location:\n",
    "        print('found')\n",
    "        return location.latitude, location.longitude\n",
    "    else:\n",
    "        print('trying city')\n",
    "        address = ', '.join(row[item] for item in address_cols[1:])\n",
    "        location = geolocator.geocode(address)\n",
    "        if location:\n",
    "            return location.latitude, location.longitude\n",
    "        else:\n",
    "            print('trying state')\n",
    "            address = ', '.join(row[item] for item in address_cols[2:])\n",
    "            location = geolocator.geocode(address)\n",
    "            if location:\n",
    "                return location.latitude, location.longitude\n",
    "            else:\n",
    "                print('FAILED')\n",
    "                return None, None"
   ]
  },
  {
   "cell_type": "code",
   "execution_count": 690,
   "metadata": {},
   "outputs": [],
   "source": [
    "test = df_usps_interest_notcoded.copy()"
   ]
  },
  {
   "cell_type": "code",
   "execution_count": 706,
   "metadata": {},
   "outputs": [],
   "source": [
    "df_usps_interest_notcoded[['lat', 'lon']] = test.coord.apply(pd.Series)"
   ]
  },
  {
   "cell_type": "code",
   "execution_count": 709,
   "metadata": {},
   "outputs": [],
   "source": [
    "df_usps_interest_final = pd.concat((df_usps_interest_notcoded, df_usps_interest_coded))"
   ]
  },
  {
   "cell_type": "code",
   "execution_count": 710,
   "metadata": {},
   "outputs": [
    {
     "output_type": "execute_result",
     "data": {
      "text/plain": "              District     Fin-Sub  Chrgbl Fin No       PO Name  \\\n213             Alaska  024173-G02        24177.0        JUNEAU   \n222             Alaska  024563-G02        24563.0     KETCHIKAN   \n242             Alaska  026357-G03        26357.0          NOME   \n351            Arizona  036365-G15        36365.0       PHOENIX   \n353            Arizona  036365-G15        36365.0       PHOENIX   \n...                ...         ...            ...           ...   \n9149          Lakeland  564981-G02       564981.0       MADISON   \n9226          Lakeland  568696-G03       568696.0        WAUSAU   \n9248       Appalachian  551459-G08       551459.0    CHARLESTON   \n9358  Colorado/Wyoming  571673-G05       571673.0      CHEYENNE   \n9399  Colorado/Wyoming  577752-G02       577752.0  ROCK SPRINGS   \n\n                  Unit Name           Property Address  \\\n213      MENDENHALL STATION          9491 VINTAGE BLVD   \n222             MAIN OFFICE           3609 TONGASS AVE   \n242   MAIL PROCESSING ANNEX                516 PORT RD   \n351                    P&DC  4949 E VAN BUREN ST RM 65   \n353                    P&DC  4949 E VAN BUREN ST RM 65   \n...                     ...                        ...   \n9149                   P&DC          3902 MILWAUKEE ST   \n9226                   P&DF             400 CRESKE AVE   \n9248                   P&DC            1000 CENTRE WAY   \n9358                   P&DC          4800 CONVERSE AVE   \n9399            MAIN OFFICE        2829 COMMERCIAL WAY   \n\n                               County          City  ST    ZIP Code  ...  \\\n213                            JUNEAU        JUNEAU  AK  99801-7111  ...   \n222   PRINCE OF WALES-OUTER KETCHIKAN     KETCHIKAN  AK  99901-9998  ...   \n242                              NOME          NOME  AK  99762-9801  ...   \n351                          MARICOPA       PHOENIX  AZ  85026-9600  ...   \n353                          MARICOPA       PHOENIX  AZ  85026-9600  ...   \n...                               ...           ...  ..         ...  ...   \n9149                             DANE       MADISON  WI  53714-3000  ...   \n9226                         MARATHON    ROTHSCHILD  WI  54474-7955  ...   \n9248                          KANAWHA    CHARLESTON  WV  25309-9426  ...   \n9358                          LARAMIE      CHEYENNE  WY  82009-9997  ...   \n9399                       SWEETWATER  ROCK SPRINGS  WY  82901-9997  ...   \n\n     AMS Locale Key (All) FDB Facility Type (All)  \\\n213                Z10149         Mail Processing   \n222                Z10160         Mail Processing   \n242                  1203         Mail Processing   \n351                Z10746      Network Facilities   \n353                Z10745         Mail Processing   \n...                   ...                     ...   \n9149               Y17610         Mail Processing   \n9226               Y18274         Mail Processing   \n9248               X28291         Mail Processing   \n9358               W1B336         Mail Processing   \n9399               W1B513         Mail Processing   \n\n                             FDB Facility Subtype (All)  \\\n213   Processing and Distribution Center/Facility (P...   \n222   Processing and Distribution Center/Facility (P...   \n242                         Mail Processing Annex (ANX)   \n351               Network Distribution Center (NDC/ASF)   \n353   Processing and Distribution Center/Facility (P...   \n...                                                 ...   \n9149  Processing and Distribution Center/Facility (P...   \n9226  Processing and Distribution Center/Facility (P...   \n9248  Processing and Distribution Center/Facility (P...   \n9358  Processing and Distribution Center/Facility (P...   \n9399  Processing and Distribution Center/Facility (P...   \n\n     Building Ownership Description                     Land Desc  \\\n213   USPS Building, Const. by USPS   USPS Land, Not Prev. Leased   \n222   USPS Building, Const. by USPS   USPS Land, Not Prev. Leased   \n242   USPS Building, Const. by USPS  Land Data on separate record   \n351   USPS Building, Const. by USPS   USPS Land, Not Prev. Leased   \n353   USPS Building, Const. by USPS   USPS Land, Not Prev. Leased   \n...                             ...                           ...   \n9149  USPS Building, Const. by USPS   USPS Land, Not Prev. Leased   \n9226  USPS Building, Const. by USPS   USPS Land, Not Prev. Leased   \n9248  USPS Building, Const. by USPS   USPS Land, Not Prev. Leased   \n9358  USPS Building, Const. by USPS   USPS Land, Not Prev. Leased   \n9399  USPS Building, Const. by USPS   USPS Land, Not Prev. Leased   \n\n     Space Certified Indicator Bldg Occu Date Int Sq Ft        lat         lon  \n213                        Yes       8/1/1986    29,212  58.372074 -134.597132  \n222                        Yes       9/1/1976    16,950  55.354713 -131.690471  \n242                         No       3/1/1987     8,118  64.501111 -165.406389  \n351                        Yes       6/1/1985   473,016  33.448437 -112.074142  \n353                        Yes       6/1/1985   473,016  33.448437 -112.074142  \n...                        ...            ...       ...        ...         ...  \n9149                       Yes       2/1/1976   257,027  43.098305  -89.319190  \n9226                       Yes       6/1/1997    55,709  44.863544  -89.626976  \n9248                       Yes      10/1/1993   220,900  38.313515  -81.710810  \n9358                       Yes       5/1/1995   116,338  41.163950 -104.786100  \n9399                       Yes       1/1/1983    21,369  41.582980 -109.253690  \n\n[342 rows x 23 columns]",
      "text/html": "<div>\n<style scoped>\n    .dataframe tbody tr th:only-of-type {\n        vertical-align: middle;\n    }\n\n    .dataframe tbody tr th {\n        vertical-align: top;\n    }\n\n    .dataframe thead th {\n        text-align: right;\n    }\n</style>\n<table border=\"1\" class=\"dataframe\">\n  <thead>\n    <tr style=\"text-align: right;\">\n      <th></th>\n      <th>District</th>\n      <th>Fin-Sub</th>\n      <th>Chrgbl Fin No</th>\n      <th>PO Name</th>\n      <th>Unit Name</th>\n      <th>Property Address</th>\n      <th>County</th>\n      <th>City</th>\n      <th>ST</th>\n      <th>ZIP Code</th>\n      <th>...</th>\n      <th>AMS Locale Key (All)</th>\n      <th>FDB Facility Type (All)</th>\n      <th>FDB Facility Subtype (All)</th>\n      <th>Building Ownership Description</th>\n      <th>Land Desc</th>\n      <th>Space Certified Indicator</th>\n      <th>Bldg Occu Date</th>\n      <th>Int Sq Ft</th>\n      <th>lat</th>\n      <th>lon</th>\n    </tr>\n  </thead>\n  <tbody>\n    <tr>\n      <th>213</th>\n      <td>Alaska</td>\n      <td>024173-G02</td>\n      <td>24177.0</td>\n      <td>JUNEAU</td>\n      <td>MENDENHALL STATION</td>\n      <td>9491 VINTAGE BLVD</td>\n      <td>JUNEAU</td>\n      <td>JUNEAU</td>\n      <td>AK</td>\n      <td>99801-7111</td>\n      <td>...</td>\n      <td>Z10149</td>\n      <td>Mail Processing</td>\n      <td>Processing and Distribution Center/Facility (P...</td>\n      <td>USPS Building, Const. by USPS</td>\n      <td>USPS Land, Not Prev. Leased</td>\n      <td>Yes</td>\n      <td>8/1/1986</td>\n      <td>29,212</td>\n      <td>58.372074</td>\n      <td>-134.597132</td>\n    </tr>\n    <tr>\n      <th>222</th>\n      <td>Alaska</td>\n      <td>024563-G02</td>\n      <td>24563.0</td>\n      <td>KETCHIKAN</td>\n      <td>MAIN OFFICE</td>\n      <td>3609 TONGASS AVE</td>\n      <td>PRINCE OF WALES-OUTER KETCHIKAN</td>\n      <td>KETCHIKAN</td>\n      <td>AK</td>\n      <td>99901-9998</td>\n      <td>...</td>\n      <td>Z10160</td>\n      <td>Mail Processing</td>\n      <td>Processing and Distribution Center/Facility (P...</td>\n      <td>USPS Building, Const. by USPS</td>\n      <td>USPS Land, Not Prev. Leased</td>\n      <td>Yes</td>\n      <td>9/1/1976</td>\n      <td>16,950</td>\n      <td>55.354713</td>\n      <td>-131.690471</td>\n    </tr>\n    <tr>\n      <th>242</th>\n      <td>Alaska</td>\n      <td>026357-G03</td>\n      <td>26357.0</td>\n      <td>NOME</td>\n      <td>MAIL PROCESSING ANNEX</td>\n      <td>516 PORT RD</td>\n      <td>NOME</td>\n      <td>NOME</td>\n      <td>AK</td>\n      <td>99762-9801</td>\n      <td>...</td>\n      <td>1203</td>\n      <td>Mail Processing</td>\n      <td>Mail Processing Annex (ANX)</td>\n      <td>USPS Building, Const. by USPS</td>\n      <td>Land Data on separate record</td>\n      <td>No</td>\n      <td>3/1/1987</td>\n      <td>8,118</td>\n      <td>64.501111</td>\n      <td>-165.406389</td>\n    </tr>\n    <tr>\n      <th>351</th>\n      <td>Arizona</td>\n      <td>036365-G15</td>\n      <td>36365.0</td>\n      <td>PHOENIX</td>\n      <td>P&amp;DC</td>\n      <td>4949 E VAN BUREN ST RM 65</td>\n      <td>MARICOPA</td>\n      <td>PHOENIX</td>\n      <td>AZ</td>\n      <td>85026-9600</td>\n      <td>...</td>\n      <td>Z10746</td>\n      <td>Network Facilities</td>\n      <td>Network Distribution Center (NDC/ASF)</td>\n      <td>USPS Building, Const. by USPS</td>\n      <td>USPS Land, Not Prev. Leased</td>\n      <td>Yes</td>\n      <td>6/1/1985</td>\n      <td>473,016</td>\n      <td>33.448437</td>\n      <td>-112.074142</td>\n    </tr>\n    <tr>\n      <th>353</th>\n      <td>Arizona</td>\n      <td>036365-G15</td>\n      <td>36365.0</td>\n      <td>PHOENIX</td>\n      <td>P&amp;DC</td>\n      <td>4949 E VAN BUREN ST RM 65</td>\n      <td>MARICOPA</td>\n      <td>PHOENIX</td>\n      <td>AZ</td>\n      <td>85026-9600</td>\n      <td>...</td>\n      <td>Z10745</td>\n      <td>Mail Processing</td>\n      <td>Processing and Distribution Center/Facility (P...</td>\n      <td>USPS Building, Const. by USPS</td>\n      <td>USPS Land, Not Prev. Leased</td>\n      <td>Yes</td>\n      <td>6/1/1985</td>\n      <td>473,016</td>\n      <td>33.448437</td>\n      <td>-112.074142</td>\n    </tr>\n    <tr>\n      <th>...</th>\n      <td>...</td>\n      <td>...</td>\n      <td>...</td>\n      <td>...</td>\n      <td>...</td>\n      <td>...</td>\n      <td>...</td>\n      <td>...</td>\n      <td>...</td>\n      <td>...</td>\n      <td>...</td>\n      <td>...</td>\n      <td>...</td>\n      <td>...</td>\n      <td>...</td>\n      <td>...</td>\n      <td>...</td>\n      <td>...</td>\n      <td>...</td>\n      <td>...</td>\n      <td>...</td>\n    </tr>\n    <tr>\n      <th>9149</th>\n      <td>Lakeland</td>\n      <td>564981-G02</td>\n      <td>564981.0</td>\n      <td>MADISON</td>\n      <td>P&amp;DC</td>\n      <td>3902 MILWAUKEE ST</td>\n      <td>DANE</td>\n      <td>MADISON</td>\n      <td>WI</td>\n      <td>53714-3000</td>\n      <td>...</td>\n      <td>Y17610</td>\n      <td>Mail Processing</td>\n      <td>Processing and Distribution Center/Facility (P...</td>\n      <td>USPS Building, Const. by USPS</td>\n      <td>USPS Land, Not Prev. Leased</td>\n      <td>Yes</td>\n      <td>2/1/1976</td>\n      <td>257,027</td>\n      <td>43.098305</td>\n      <td>-89.319190</td>\n    </tr>\n    <tr>\n      <th>9226</th>\n      <td>Lakeland</td>\n      <td>568696-G03</td>\n      <td>568696.0</td>\n      <td>WAUSAU</td>\n      <td>P&amp;DF</td>\n      <td>400 CRESKE AVE</td>\n      <td>MARATHON</td>\n      <td>ROTHSCHILD</td>\n      <td>WI</td>\n      <td>54474-7955</td>\n      <td>...</td>\n      <td>Y18274</td>\n      <td>Mail Processing</td>\n      <td>Processing and Distribution Center/Facility (P...</td>\n      <td>USPS Building, Const. by USPS</td>\n      <td>USPS Land, Not Prev. Leased</td>\n      <td>Yes</td>\n      <td>6/1/1997</td>\n      <td>55,709</td>\n      <td>44.863544</td>\n      <td>-89.626976</td>\n    </tr>\n    <tr>\n      <th>9248</th>\n      <td>Appalachian</td>\n      <td>551459-G08</td>\n      <td>551459.0</td>\n      <td>CHARLESTON</td>\n      <td>P&amp;DC</td>\n      <td>1000 CENTRE WAY</td>\n      <td>KANAWHA</td>\n      <td>CHARLESTON</td>\n      <td>WV</td>\n      <td>25309-9426</td>\n      <td>...</td>\n      <td>X28291</td>\n      <td>Mail Processing</td>\n      <td>Processing and Distribution Center/Facility (P...</td>\n      <td>USPS Building, Const. by USPS</td>\n      <td>USPS Land, Not Prev. Leased</td>\n      <td>Yes</td>\n      <td>10/1/1993</td>\n      <td>220,900</td>\n      <td>38.313515</td>\n      <td>-81.710810</td>\n    </tr>\n    <tr>\n      <th>9358</th>\n      <td>Colorado/Wyoming</td>\n      <td>571673-G05</td>\n      <td>571673.0</td>\n      <td>CHEYENNE</td>\n      <td>P&amp;DC</td>\n      <td>4800 CONVERSE AVE</td>\n      <td>LARAMIE</td>\n      <td>CHEYENNE</td>\n      <td>WY</td>\n      <td>82009-9997</td>\n      <td>...</td>\n      <td>W1B336</td>\n      <td>Mail Processing</td>\n      <td>Processing and Distribution Center/Facility (P...</td>\n      <td>USPS Building, Const. by USPS</td>\n      <td>USPS Land, Not Prev. Leased</td>\n      <td>Yes</td>\n      <td>5/1/1995</td>\n      <td>116,338</td>\n      <td>41.163950</td>\n      <td>-104.786100</td>\n    </tr>\n    <tr>\n      <th>9399</th>\n      <td>Colorado/Wyoming</td>\n      <td>577752-G02</td>\n      <td>577752.0</td>\n      <td>ROCK SPRINGS</td>\n      <td>MAIN OFFICE</td>\n      <td>2829 COMMERCIAL WAY</td>\n      <td>SWEETWATER</td>\n      <td>ROCK SPRINGS</td>\n      <td>WY</td>\n      <td>82901-9997</td>\n      <td>...</td>\n      <td>W1B513</td>\n      <td>Mail Processing</td>\n      <td>Processing and Distribution Center/Facility (P...</td>\n      <td>USPS Building, Const. by USPS</td>\n      <td>USPS Land, Not Prev. Leased</td>\n      <td>Yes</td>\n      <td>1/1/1983</td>\n      <td>21,369</td>\n      <td>41.582980</td>\n      <td>-109.253690</td>\n    </tr>\n  </tbody>\n</table>\n<p>342 rows × 23 columns</p>\n</div>"
     },
     "metadata": {},
     "execution_count": 710
    }
   ],
   "source": [
    "df_usps_interest_final"
   ]
  },
  {
   "cell_type": "code",
   "execution_count": null,
   "metadata": {},
   "outputs": [],
   "source": []
  },
  {
   "cell_type": "code",
   "execution_count": null,
   "metadata": {},
   "outputs": [],
   "source": []
  },
  {
   "cell_type": "code",
   "execution_count": 696,
   "metadata": {},
   "outputs": [
    {
     "output_type": "stream",
     "name": "stdout",
     "text": "found\nfound\ntrying city\ntrying city\ntrying city\ntrying city\nfound\ntrying city\ntrying state\nfound\nfound\nfound\nfound\ntrying city\nfound\nfound\nfound\nfound\nfound\ntrying city\ntrying city\ntrying city\ntrying city\nfound\ntrying city\nfound\nfound\ntrying city\ntrying state\nfound\nfound\nfound\ntrying city\nfound\nfound\nfound\nfound\nfound\nfound\ntrying city\ntrying city\nfound\ntrying city\nfound\ntrying city\nfound\ntrying city\nfound\nfound\nfound\nfound\nfound\nfound\nfound\nfound\nfound\ntrying city\nfound\nfound\nfound\nfound\ntrying city\nfound\ntrying city\nfound\ntrying city\ntrying city\nfound\nfound\nfound\nfound\nfound\nfound\ntrying city\ntrying city\ntrying city\nfound\nfound\nfound\nfound\nfound\nfound\nfound\ntrying city\ntrying city\nfound\ntrying city\ntrying city\ntrying city\nfound\ntrying city\nfound\nfound\nfound\nfound\nfound\nfound\ntrying city\nfound\nfound\nfound\ntrying city\nfound\nfound\nfound\nfound\nfound\nfound\nfound\nfound\n"
    }
   ],
   "source": [
    "test['coord'] = test[['Property Address','City','ST','ZIP Code']].apply(geocode_single, axis = 1)"
   ]
  },
  {
   "cell_type": "markdown",
   "metadata": {},
   "source": [
    "## perform cross join between USAF and USPS locations"
   ]
  },
  {
   "cell_type": "code",
   "execution_count": 457,
   "metadata": {},
   "outputs": [],
   "source": [
    "def crossjoin(left_df, right_df, suffixes = ('_x', '_y')):\n",
    "    # cartesian product\n",
    "    return pd.merge(left_df.assign(key=0), right_df.assign(key=0), on='key', suffixes = suffixes).drop('key', axis = 1)"
   ]
  },
  {
   "cell_type": "code",
   "execution_count": 711,
   "metadata": {},
   "outputs": [],
   "source": [
    "# create a unique key for each column in usps dataframe\n",
    "df_usps_interest_final['USPS_KEY'] = pd.util.hash_pandas_object(df_usps_interest_final, index = False)"
   ]
  },
  {
   "cell_type": "code",
   "execution_count": 712,
   "metadata": {},
   "outputs": [],
   "source": [
    "# as a key, use the Base Name for USAF and the USPS_KEY for usps\n",
    "df_usaf_latlon = df_usaf[['Name', 'lat', 'lon']]\n",
    "df_usps_latlon = df_usps_interest_final[['USPS_KEY', 'lat', 'lon']]"
   ]
  },
  {
   "cell_type": "code",
   "execution_count": 713,
   "metadata": {},
   "outputs": [],
   "source": [
    "df_crossjoin = crossjoin(df_usaf_latlon, df_usps_latlon, suffixes = ('_USAF', '_USPS'))"
   ]
  },
  {
   "cell_type": "code",
   "execution_count": 714,
   "metadata": {},
   "outputs": [
    {
     "output_type": "execute_result",
     "data": {
      "text/plain": "                                  Name  lat_USAF  lon_USAF  \\\n0                 Altus Air Force Base  34.66639 -99.26806   \n1                 Altus Air Force Base  34.66639 -99.26806   \n2                 Altus Air Force Base  34.66639 -99.26806   \n3                 Altus Air Force Base  34.66639 -99.26806   \n4                 Altus Air Force Base  34.66639 -99.26806   \n...                                ...       ...       ...   \n23935  Wright-Patterson Air Force Base  39.82306 -84.04944   \n23936  Wright-Patterson Air Force Base  39.82306 -84.04944   \n23937  Wright-Patterson Air Force Base  39.82306 -84.04944   \n23938  Wright-Patterson Air Force Base  39.82306 -84.04944   \n23939  Wright-Patterson Air Force Base  39.82306 -84.04944   \n\n                   USPS_KEY   lat_USPS    lon_USPS  \n0       1502536841536567391  58.372074 -134.597132  \n1      15259707190130931823  55.354713 -131.690471  \n2      13997465678146455466  64.501111 -165.406389  \n3      11301300975455368198  33.448437 -112.074142  \n4       5886277595280375461  33.448437 -112.074142  \n...                     ...        ...         ...  \n23935  12431445325323235737  43.098305  -89.319190  \n23936   7805317990284307633  44.863544  -89.626976  \n23937  12191199484822242347  38.313515  -81.710810  \n23938  17246579629023441205  41.163950 -104.786100  \n23939  15988457178504873139  41.582980 -109.253690  \n\n[23940 rows x 6 columns]",
      "text/html": "<div>\n<style scoped>\n    .dataframe tbody tr th:only-of-type {\n        vertical-align: middle;\n    }\n\n    .dataframe tbody tr th {\n        vertical-align: top;\n    }\n\n    .dataframe thead th {\n        text-align: right;\n    }\n</style>\n<table border=\"1\" class=\"dataframe\">\n  <thead>\n    <tr style=\"text-align: right;\">\n      <th></th>\n      <th>Name</th>\n      <th>lat_USAF</th>\n      <th>lon_USAF</th>\n      <th>USPS_KEY</th>\n      <th>lat_USPS</th>\n      <th>lon_USPS</th>\n    </tr>\n  </thead>\n  <tbody>\n    <tr>\n      <th>0</th>\n      <td>Altus Air Force Base</td>\n      <td>34.66639</td>\n      <td>-99.26806</td>\n      <td>1502536841536567391</td>\n      <td>58.372074</td>\n      <td>-134.597132</td>\n    </tr>\n    <tr>\n      <th>1</th>\n      <td>Altus Air Force Base</td>\n      <td>34.66639</td>\n      <td>-99.26806</td>\n      <td>15259707190130931823</td>\n      <td>55.354713</td>\n      <td>-131.690471</td>\n    </tr>\n    <tr>\n      <th>2</th>\n      <td>Altus Air Force Base</td>\n      <td>34.66639</td>\n      <td>-99.26806</td>\n      <td>13997465678146455466</td>\n      <td>64.501111</td>\n      <td>-165.406389</td>\n    </tr>\n    <tr>\n      <th>3</th>\n      <td>Altus Air Force Base</td>\n      <td>34.66639</td>\n      <td>-99.26806</td>\n      <td>11301300975455368198</td>\n      <td>33.448437</td>\n      <td>-112.074142</td>\n    </tr>\n    <tr>\n      <th>4</th>\n      <td>Altus Air Force Base</td>\n      <td>34.66639</td>\n      <td>-99.26806</td>\n      <td>5886277595280375461</td>\n      <td>33.448437</td>\n      <td>-112.074142</td>\n    </tr>\n    <tr>\n      <th>...</th>\n      <td>...</td>\n      <td>...</td>\n      <td>...</td>\n      <td>...</td>\n      <td>...</td>\n      <td>...</td>\n    </tr>\n    <tr>\n      <th>23935</th>\n      <td>Wright-Patterson Air Force Base</td>\n      <td>39.82306</td>\n      <td>-84.04944</td>\n      <td>12431445325323235737</td>\n      <td>43.098305</td>\n      <td>-89.319190</td>\n    </tr>\n    <tr>\n      <th>23936</th>\n      <td>Wright-Patterson Air Force Base</td>\n      <td>39.82306</td>\n      <td>-84.04944</td>\n      <td>7805317990284307633</td>\n      <td>44.863544</td>\n      <td>-89.626976</td>\n    </tr>\n    <tr>\n      <th>23937</th>\n      <td>Wright-Patterson Air Force Base</td>\n      <td>39.82306</td>\n      <td>-84.04944</td>\n      <td>12191199484822242347</td>\n      <td>38.313515</td>\n      <td>-81.710810</td>\n    </tr>\n    <tr>\n      <th>23938</th>\n      <td>Wright-Patterson Air Force Base</td>\n      <td>39.82306</td>\n      <td>-84.04944</td>\n      <td>17246579629023441205</td>\n      <td>41.163950</td>\n      <td>-104.786100</td>\n    </tr>\n    <tr>\n      <th>23939</th>\n      <td>Wright-Patterson Air Force Base</td>\n      <td>39.82306</td>\n      <td>-84.04944</td>\n      <td>15988457178504873139</td>\n      <td>41.582980</td>\n      <td>-109.253690</td>\n    </tr>\n  </tbody>\n</table>\n<p>23940 rows × 6 columns</p>\n</div>"
     },
     "metadata": {},
     "execution_count": 714
    }
   ],
   "source": [
    "df_crossjoin"
   ]
  },
  {
   "cell_type": "markdown",
   "metadata": {},
   "source": [
    "use haversine to calculate great circle distance between each coordinate pair"
   ]
  },
  {
   "cell_type": "code",
   "execution_count": 528,
   "metadata": {},
   "outputs": [],
   "source": [
    "def haversine(lat1, lon1, lat2, lon2):\n",
    "    lon1, lat1, lon2, lat2 = map(np.radians, [lon1, lat1, lon2, lat2])\n",
    "    dlon = lon2 - lon1\n",
    "    dlat = lat2 - lat1\n",
    "    a = np.sin(dlat/2.0)**2 + np.cos(lat1) * np.cos(lat2) * np.sin(dlon/2.0)**2\n",
    "    c = 2 * np.arcsin(np.sqrt(a))\n",
    "    km = 6371 * c\n",
    "    return km"
   ]
  },
  {
   "cell_type": "code",
   "execution_count": 715,
   "metadata": {},
   "outputs": [],
   "source": [
    "df_crossjoin['dist'] = haversine(df_crossjoin.lat_USAF, df_crossjoin.lon_USAF, df_crossjoin.lat_USPS, df_crossjoin.lon_USPS)"
   ]
  },
  {
   "cell_type": "code",
   "execution_count": 716,
   "metadata": {},
   "outputs": [
    {
     "output_type": "execute_result",
     "data": {
      "text/plain": "                   Name  lat_USAF  lon_USAF              USPS_KEY   lat_USPS  \\\n0  Altus Air Force Base  34.66639 -99.26806   1502536841536567391  58.372074   \n1  Altus Air Force Base  34.66639 -99.26806  15259707190130931823  55.354713   \n2  Altus Air Force Base  34.66639 -99.26806  13997465678146455466  64.501111   \n3  Altus Air Force Base  34.66639 -99.26806  11301300975455368198  33.448437   \n4  Altus Air Force Base  34.66639 -99.26806   5886277595280375461  33.448437   \n\n     lon_USPS         dist  \n0 -134.597132  3698.292209  \n1 -131.690471  3378.863014  \n2 -165.406389  5443.770683  \n3 -112.074142  1186.655356  \n4 -112.074142  1186.655356  ",
      "text/html": "<div>\n<style scoped>\n    .dataframe tbody tr th:only-of-type {\n        vertical-align: middle;\n    }\n\n    .dataframe tbody tr th {\n        vertical-align: top;\n    }\n\n    .dataframe thead th {\n        text-align: right;\n    }\n</style>\n<table border=\"1\" class=\"dataframe\">\n  <thead>\n    <tr style=\"text-align: right;\">\n      <th></th>\n      <th>Name</th>\n      <th>lat_USAF</th>\n      <th>lon_USAF</th>\n      <th>USPS_KEY</th>\n      <th>lat_USPS</th>\n      <th>lon_USPS</th>\n      <th>dist</th>\n    </tr>\n  </thead>\n  <tbody>\n    <tr>\n      <th>0</th>\n      <td>Altus Air Force Base</td>\n      <td>34.66639</td>\n      <td>-99.26806</td>\n      <td>1502536841536567391</td>\n      <td>58.372074</td>\n      <td>-134.597132</td>\n      <td>3698.292209</td>\n    </tr>\n    <tr>\n      <th>1</th>\n      <td>Altus Air Force Base</td>\n      <td>34.66639</td>\n      <td>-99.26806</td>\n      <td>15259707190130931823</td>\n      <td>55.354713</td>\n      <td>-131.690471</td>\n      <td>3378.863014</td>\n    </tr>\n    <tr>\n      <th>2</th>\n      <td>Altus Air Force Base</td>\n      <td>34.66639</td>\n      <td>-99.26806</td>\n      <td>13997465678146455466</td>\n      <td>64.501111</td>\n      <td>-165.406389</td>\n      <td>5443.770683</td>\n    </tr>\n    <tr>\n      <th>3</th>\n      <td>Altus Air Force Base</td>\n      <td>34.66639</td>\n      <td>-99.26806</td>\n      <td>11301300975455368198</td>\n      <td>33.448437</td>\n      <td>-112.074142</td>\n      <td>1186.655356</td>\n    </tr>\n    <tr>\n      <th>4</th>\n      <td>Altus Air Force Base</td>\n      <td>34.66639</td>\n      <td>-99.26806</td>\n      <td>5886277595280375461</td>\n      <td>33.448437</td>\n      <td>-112.074142</td>\n      <td>1186.655356</td>\n    </tr>\n  </tbody>\n</table>\n</div>"
     },
     "metadata": {},
     "execution_count": 716
    }
   ],
   "source": [
    "df_crossjoin.head()"
   ]
  },
  {
   "cell_type": "code",
   "execution_count": 717,
   "metadata": {},
   "outputs": [],
   "source": [
    "df_result = df_crossjoin[['Name', 'USPS_KEY', 'dist']]"
   ]
  },
  {
   "cell_type": "code",
   "execution_count": 718,
   "metadata": {},
   "outputs": [
    {
     "output_type": "execute_result",
     "data": {
      "text/plain": "                   Name              USPS_KEY         dist\n0  Altus Air Force Base   1502536841536567391  3698.292209\n1  Altus Air Force Base  15259707190130931823  3378.863014\n2  Altus Air Force Base  13997465678146455466  5443.770683\n3  Altus Air Force Base  11301300975455368198  1186.655356\n4  Altus Air Force Base   5886277595280375461  1186.655356",
      "text/html": "<div>\n<style scoped>\n    .dataframe tbody tr th:only-of-type {\n        vertical-align: middle;\n    }\n\n    .dataframe tbody tr th {\n        vertical-align: top;\n    }\n\n    .dataframe thead th {\n        text-align: right;\n    }\n</style>\n<table border=\"1\" class=\"dataframe\">\n  <thead>\n    <tr style=\"text-align: right;\">\n      <th></th>\n      <th>Name</th>\n      <th>USPS_KEY</th>\n      <th>dist</th>\n    </tr>\n  </thead>\n  <tbody>\n    <tr>\n      <th>0</th>\n      <td>Altus Air Force Base</td>\n      <td>1502536841536567391</td>\n      <td>3698.292209</td>\n    </tr>\n    <tr>\n      <th>1</th>\n      <td>Altus Air Force Base</td>\n      <td>15259707190130931823</td>\n      <td>3378.863014</td>\n    </tr>\n    <tr>\n      <th>2</th>\n      <td>Altus Air Force Base</td>\n      <td>13997465678146455466</td>\n      <td>5443.770683</td>\n    </tr>\n    <tr>\n      <th>3</th>\n      <td>Altus Air Force Base</td>\n      <td>11301300975455368198</td>\n      <td>1186.655356</td>\n    </tr>\n    <tr>\n      <th>4</th>\n      <td>Altus Air Force Base</td>\n      <td>5886277595280375461</td>\n      <td>1186.655356</td>\n    </tr>\n  </tbody>\n</table>\n</div>"
     },
     "metadata": {},
     "execution_count": 718
    }
   ],
   "source": [
    "df_result.head()"
   ]
  },
  {
   "cell_type": "code",
   "execution_count": 719,
   "metadata": {},
   "outputs": [],
   "source": [
    "# lets dedup on distance for now ... will worry about aggregating info for USPS locations later\n",
    "df_result = df_result.drop_duplicates('dist')"
   ]
  },
  {
   "cell_type": "code",
   "execution_count": 722,
   "metadata": {},
   "outputs": [
    {
     "output_type": "execute_result",
     "data": {
      "text/plain": "                   Name              USPS_KEY         dist\n0  Altus Air Force Base   1502536841536567391  3698.292209\n1  Altus Air Force Base  15259707190130931823  3378.863014\n2  Altus Air Force Base  13997465678146455466  5443.770683\n3  Altus Air Force Base  11301300975455368198  1186.655356\n5  Altus Air Force Base   7290112359649404019   567.550827",
      "text/html": "<div>\n<style scoped>\n    .dataframe tbody tr th:only-of-type {\n        vertical-align: middle;\n    }\n\n    .dataframe tbody tr th {\n        vertical-align: top;\n    }\n\n    .dataframe thead th {\n        text-align: right;\n    }\n</style>\n<table border=\"1\" class=\"dataframe\">\n  <thead>\n    <tr style=\"text-align: right;\">\n      <th></th>\n      <th>Name</th>\n      <th>USPS_KEY</th>\n      <th>dist</th>\n    </tr>\n  </thead>\n  <tbody>\n    <tr>\n      <th>0</th>\n      <td>Altus Air Force Base</td>\n      <td>1502536841536567391</td>\n      <td>3698.292209</td>\n    </tr>\n    <tr>\n      <th>1</th>\n      <td>Altus Air Force Base</td>\n      <td>15259707190130931823</td>\n      <td>3378.863014</td>\n    </tr>\n    <tr>\n      <th>2</th>\n      <td>Altus Air Force Base</td>\n      <td>13997465678146455466</td>\n      <td>5443.770683</td>\n    </tr>\n    <tr>\n      <th>3</th>\n      <td>Altus Air Force Base</td>\n      <td>11301300975455368198</td>\n      <td>1186.655356</td>\n    </tr>\n    <tr>\n      <th>5</th>\n      <td>Altus Air Force Base</td>\n      <td>7290112359649404019</td>\n      <td>567.550827</td>\n    </tr>\n  </tbody>\n</table>\n</div>"
     },
     "metadata": {},
     "execution_count": 722
    }
   ],
   "source": [
    "df_result.head()"
   ]
  },
  {
   "cell_type": "code",
   "execution_count": 761,
   "metadata": {},
   "outputs": [
    {
     "output_type": "execute_result",
     "data": {
      "text/plain": "                                                              dist\nName                            USPS_KEY                          \nAltus Air Force Base            14264900933901804976    178.432672\n                                8248659727851441256     239.540645\n                                2063121342049035601     266.049941\n                                17082669835612363717    272.326393\n                                10122557200728567212    281.916445\n...                                                            ...\nWright-Patterson Air Force Base 12833727596271742205   4959.107811\n                                13997465678146455466   5684.013356\n                                8602778705132184377    6907.946022\n                                11270454408986530537   7163.446804\n                                11562124430031091637  12232.186749\n\n[21910 rows x 1 columns]",
      "text/html": "<div>\n<style scoped>\n    .dataframe tbody tr th:only-of-type {\n        vertical-align: middle;\n    }\n\n    .dataframe tbody tr th {\n        vertical-align: top;\n    }\n\n    .dataframe thead th {\n        text-align: right;\n    }\n</style>\n<table border=\"1\" class=\"dataframe\">\n  <thead>\n    <tr style=\"text-align: right;\">\n      <th></th>\n      <th></th>\n      <th>dist</th>\n    </tr>\n    <tr>\n      <th>Name</th>\n      <th>USPS_KEY</th>\n      <th></th>\n    </tr>\n  </thead>\n  <tbody>\n    <tr>\n      <th rowspan=\"5\" valign=\"top\">Altus Air Force Base</th>\n      <th>14264900933901804976</th>\n      <td>178.432672</td>\n    </tr>\n    <tr>\n      <th>8248659727851441256</th>\n      <td>239.540645</td>\n    </tr>\n    <tr>\n      <th>2063121342049035601</th>\n      <td>266.049941</td>\n    </tr>\n    <tr>\n      <th>17082669835612363717</th>\n      <td>272.326393</td>\n    </tr>\n    <tr>\n      <th>10122557200728567212</th>\n      <td>281.916445</td>\n    </tr>\n    <tr>\n      <th>...</th>\n      <th>...</th>\n      <td>...</td>\n    </tr>\n    <tr>\n      <th rowspan=\"5\" valign=\"top\">Wright-Patterson Air Force Base</th>\n      <th>12833727596271742205</th>\n      <td>4959.107811</td>\n    </tr>\n    <tr>\n      <th>13997465678146455466</th>\n      <td>5684.013356</td>\n    </tr>\n    <tr>\n      <th>8602778705132184377</th>\n      <td>6907.946022</td>\n    </tr>\n    <tr>\n      <th>11270454408986530537</th>\n      <td>7163.446804</td>\n    </tr>\n    <tr>\n      <th>11562124430031091637</th>\n      <td>12232.186749</td>\n    </tr>\n  </tbody>\n</table>\n<p>21910 rows × 1 columns</p>\n</div>"
     },
     "metadata": {},
     "execution_count": 761
    }
   ],
   "source": [
    "df_final"
   ]
  },
  {
   "cell_type": "code",
   "execution_count": 754,
   "metadata": {},
   "outputs": [],
   "source": [
    "df_final = df_result.sort_values(['Name', 'dist']).set_index(['Name', 'USPS_KEY'])"
   ]
  },
  {
   "cell_type": "code",
   "execution_count": 763,
   "metadata": {},
   "outputs": [
    {
     "output_type": "execute_result",
     "data": {
      "text/plain": "                                  count         mean          std         min  \\\nName                                                                            \nAltus Air Force Base              313.0  1614.874245  1005.312641  178.432672   \nBarksdale Air Force Base          313.0  1563.515038  1098.259352    9.996008   \nBeale Air Force Base              313.0  2698.219914  1258.830285   51.990056   \nBuckley Air Force Base            313.0  1731.316430   974.390096   16.130327   \nCannon Air Force Base             313.0  1790.144820   996.147933  159.929989   \nCape Canaveral Air Force Station  313.0  1991.044069  1367.921182   74.174326   \nCape Cod Air Force Station        313.0  2050.602891  1458.532496   54.400424   \nCavalier Air Force Station        313.0  1777.624848   873.226169  112.152824   \nColumbus Air Force Base           313.0  1460.768767  1205.832306   13.965319   \nCreech Air Force Base             313.0  2375.488976  1172.633015   66.243614   \n\n                                          25%          50%          75%  \\\nName                                                                      \nAltus Air Force Base              1099.915518  1493.381414  2033.725632   \nBarksdale Air Force Base           965.468271  1388.241918  1973.748087   \nBeale Air Force Base              2004.923242  2906.330400  3632.719568   \nBuckley Air Force Base            1215.214140  1594.330474  2285.931017   \nCannon Air Force Base             1283.471337  1693.340343  2155.967944   \nCape Canaveral Air Force Station  1236.390504  1609.404781  2446.211603   \nCape Cod Air Force Station        1078.908526  1744.740282  2835.704657   \nCavalier Air Force Station        1317.605278  1796.536803  2108.986298   \nColumbus Air Force Base            778.730016  1159.752761  1740.094012   \nCreech Air Force Base             1679.976367  2482.020778  3203.155078   \n\n                                           max  \nName                                            \nAltus Air Force Base              11401.720985  \nBarksdale Air Force Base          11973.064695  \nBeale Air Force Base               9384.054802  \nBuckley Air Force Base            10725.181645  \nCannon Air Force Base             11078.597244  \nCape Canaveral Air Force Station  13263.545841  \nCape Cod Air Force Station        12885.633840  \nCavalier Air Force Station        10766.709533  \nColumbus Air Force Base           12321.244593  \nCreech Air Force Base              9945.087208  ",
      "text/html": "<div>\n<style scoped>\n    .dataframe tbody tr th:only-of-type {\n        vertical-align: middle;\n    }\n\n    .dataframe tbody tr th {\n        vertical-align: top;\n    }\n\n    .dataframe thead th {\n        text-align: right;\n    }\n</style>\n<table border=\"1\" class=\"dataframe\">\n  <thead>\n    <tr style=\"text-align: right;\">\n      <th></th>\n      <th>count</th>\n      <th>mean</th>\n      <th>std</th>\n      <th>min</th>\n      <th>25%</th>\n      <th>50%</th>\n      <th>75%</th>\n      <th>max</th>\n    </tr>\n    <tr>\n      <th>Name</th>\n      <th></th>\n      <th></th>\n      <th></th>\n      <th></th>\n      <th></th>\n      <th></th>\n      <th></th>\n      <th></th>\n    </tr>\n  </thead>\n  <tbody>\n    <tr>\n      <th>Altus Air Force Base</th>\n      <td>313.0</td>\n      <td>1614.874245</td>\n      <td>1005.312641</td>\n      <td>178.432672</td>\n      <td>1099.915518</td>\n      <td>1493.381414</td>\n      <td>2033.725632</td>\n      <td>11401.720985</td>\n    </tr>\n    <tr>\n      <th>Barksdale Air Force Base</th>\n      <td>313.0</td>\n      <td>1563.515038</td>\n      <td>1098.259352</td>\n      <td>9.996008</td>\n      <td>965.468271</td>\n      <td>1388.241918</td>\n      <td>1973.748087</td>\n      <td>11973.064695</td>\n    </tr>\n    <tr>\n      <th>Beale Air Force Base</th>\n      <td>313.0</td>\n      <td>2698.219914</td>\n      <td>1258.830285</td>\n      <td>51.990056</td>\n      <td>2004.923242</td>\n      <td>2906.330400</td>\n      <td>3632.719568</td>\n      <td>9384.054802</td>\n    </tr>\n    <tr>\n      <th>Buckley Air Force Base</th>\n      <td>313.0</td>\n      <td>1731.316430</td>\n      <td>974.390096</td>\n      <td>16.130327</td>\n      <td>1215.214140</td>\n      <td>1594.330474</td>\n      <td>2285.931017</td>\n      <td>10725.181645</td>\n    </tr>\n    <tr>\n      <th>Cannon Air Force Base</th>\n      <td>313.0</td>\n      <td>1790.144820</td>\n      <td>996.147933</td>\n      <td>159.929989</td>\n      <td>1283.471337</td>\n      <td>1693.340343</td>\n      <td>2155.967944</td>\n      <td>11078.597244</td>\n    </tr>\n    <tr>\n      <th>Cape Canaveral Air Force Station</th>\n      <td>313.0</td>\n      <td>1991.044069</td>\n      <td>1367.921182</td>\n      <td>74.174326</td>\n      <td>1236.390504</td>\n      <td>1609.404781</td>\n      <td>2446.211603</td>\n      <td>13263.545841</td>\n    </tr>\n    <tr>\n      <th>Cape Cod Air Force Station</th>\n      <td>313.0</td>\n      <td>2050.602891</td>\n      <td>1458.532496</td>\n      <td>54.400424</td>\n      <td>1078.908526</td>\n      <td>1744.740282</td>\n      <td>2835.704657</td>\n      <td>12885.633840</td>\n    </tr>\n    <tr>\n      <th>Cavalier Air Force Station</th>\n      <td>313.0</td>\n      <td>1777.624848</td>\n      <td>873.226169</td>\n      <td>112.152824</td>\n      <td>1317.605278</td>\n      <td>1796.536803</td>\n      <td>2108.986298</td>\n      <td>10766.709533</td>\n    </tr>\n    <tr>\n      <th>Columbus Air Force Base</th>\n      <td>313.0</td>\n      <td>1460.768767</td>\n      <td>1205.832306</td>\n      <td>13.965319</td>\n      <td>778.730016</td>\n      <td>1159.752761</td>\n      <td>1740.094012</td>\n      <td>12321.244593</td>\n    </tr>\n    <tr>\n      <th>Creech Air Force Base</th>\n      <td>313.0</td>\n      <td>2375.488976</td>\n      <td>1172.633015</td>\n      <td>66.243614</td>\n      <td>1679.976367</td>\n      <td>2482.020778</td>\n      <td>3203.155078</td>\n      <td>9945.087208</td>\n    </tr>\n  </tbody>\n</table>\n</div>"
     },
     "metadata": {},
     "execution_count": 763
    }
   ],
   "source": [
    "df_final_stats.head(10)"
   ]
  },
  {
   "cell_type": "code",
   "execution_count": 762,
   "metadata": {},
   "outputs": [],
   "source": [
    "df_final_stats = df_final.groupby('Name')['dist'].describe()"
   ]
  },
  {
   "cell_type": "markdown",
   "metadata": {},
   "source": [
    "## write stuff to excel workbooks"
   ]
  },
  {
   "cell_type": "code",
   "execution_count": 606,
   "metadata": {},
   "outputs": [],
   "source": [
    "df_usaf.to_excel(\"data/outputs/usaf_locations.xlsx\")"
   ]
  },
  {
   "cell_type": "code",
   "execution_count": 607,
   "metadata": {},
   "outputs": [],
   "source": [
    "df_usps_final.to_excel(\"data/outputs/usps_locations.xlsx\")"
   ]
  },
  {
   "cell_type": "code",
   "execution_count": 610,
   "metadata": {},
   "outputs": [],
   "source": [
    "# # old, not used anymore\n",
    "# df_final.to_excel(\"data/outputs/distance_nsmallest_{}.xlsx\".format(n_smallest))"
   ]
  },
  {
   "cell_type": "code",
   "execution_count": 765,
   "metadata": {},
   "outputs": [],
   "source": [
    "df_final_stats.to_excel(\"data/outputs/distances_stats.xlsx\")"
   ]
  },
  {
   "cell_type": "code",
   "execution_count": null,
   "metadata": {},
   "outputs": [],
   "source": []
  },
  {
   "cell_type": "code",
   "execution_count": 764,
   "metadata": {},
   "outputs": [],
   "source": [
    "df_final.to_excel(\"data/outputs/distances_all.xlsx\")"
   ]
  }
 ],
 "metadata": {
  "language_info": {
   "codemirror_mode": {
    "name": "ipython",
    "version": 3
   },
   "file_extension": ".py",
   "mimetype": "text/x-python",
   "name": "python",
   "nbconvert_exporter": "python",
   "pygments_lexer": "ipython3",
   "version": "3.7.4-final"
  },
  "orig_nbformat": 2,
  "kernelspec": {
   "name": "python37464bitmyenvvenv170ded6926c8452d9ff75a55832da084",
   "display_name": "Python 3.7.4 64-bit ('myenv': venv)"
  }
 },
 "nbformat": 4,
 "nbformat_minor": 2
}