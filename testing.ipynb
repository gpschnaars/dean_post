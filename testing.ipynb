{
 "cells": [
  {
   "cell_type": "code",
   "execution_count": 229,
   "metadata": {},
   "outputs": [],
   "source": [
    "import requests\n",
    "from bs4 import BeautifulSoup\n",
    "\n",
    "import pandas as pd\n",
    "import re"
   ]
  },
  {
   "cell_type": "markdown",
   "metadata": {},
   "source": [
    "## getting air force base locations"
   ]
  },
  {
   "cell_type": "code",
   "execution_count": 310,
   "metadata": {},
   "outputs": [],
   "source": [
    "airforce_wiki_url = \"https://en.wikipedia.org/wiki/List_of_United_States_Air_Force_installations\"\n",
    "df_usaf = pd.read_html(airforce_wiki_url)[1]"
   ]
  },
  {
   "cell_type": "code",
   "execution_count": 350,
   "metadata": {},
   "outputs": [
    {
     "output_type": "execute_result",
     "data": {
      "text/plain": "                                               Name      Location  \\\n0                              Altus Air Force Base         Altus   \n1                      Joint Base Anacostia-Bolling     Southwest   \n2  Joint Base Andrews-Naval Air Facility Washington  Camp Springs   \n\n              State                                       Coordinates  \\\n0          Oklahoma  34°39′59″N 099°16′05″W﻿ / ﻿34.66639°N 99.26806°W   \n1  Washington, D.C.  38°50′34″N 077°00′58″W﻿ / ﻿38.84278°N 77.01611°W   \n2          Maryland  38°48′39″N 076°52′01″W﻿ / ﻿38.81083°N 76.86694°W   \n\n              Commanding organization  Wing or unit emblem  \\\n0  Air Education and Training Command                  NaN   \n1    Air Force District of Washington                  NaN   \n2    Air Force District of Washington                  NaN   \n\n  Host wing or primary unit  \\\n0    97th Air Mobility Wing   \n1                 11th Wing   \n2                 11th Wing   \n\n                          Primary missions and units       lat       lon  \n0  The 97th Air Mobility Wing trains crews to ope...  34.66639 -99.26806  \n1  US Navy operated joint base, accommodating Geo...  38.84278 -77.01611  \n2  USAF operated joint base. The 11th Wing provid...  38.81083 -76.86694  ",
      "text/html": "<div>\n<style scoped>\n    .dataframe tbody tr th:only-of-type {\n        vertical-align: middle;\n    }\n\n    .dataframe tbody tr th {\n        vertical-align: top;\n    }\n\n    .dataframe thead th {\n        text-align: right;\n    }\n</style>\n<table border=\"1\" class=\"dataframe\">\n  <thead>\n    <tr style=\"text-align: right;\">\n      <th></th>\n      <th>Name</th>\n      <th>Location</th>\n      <th>State</th>\n      <th>Coordinates</th>\n      <th>Commanding organization</th>\n      <th>Wing or unit emblem</th>\n      <th>Host wing or primary unit</th>\n      <th>Primary missions and units</th>\n      <th>lat</th>\n      <th>lon</th>\n    </tr>\n  </thead>\n  <tbody>\n    <tr>\n      <th>0</th>\n      <td>Altus Air Force Base</td>\n      <td>Altus</td>\n      <td>Oklahoma</td>\n      <td>34°39′59″N 099°16′05″W﻿ / ﻿34.66639°N 99.26806°W</td>\n      <td>Air Education and Training Command</td>\n      <td>NaN</td>\n      <td>97th Air Mobility Wing</td>\n      <td>The 97th Air Mobility Wing trains crews to ope...</td>\n      <td>34.66639</td>\n      <td>-99.26806</td>\n    </tr>\n    <tr>\n      <th>1</th>\n      <td>Joint Base Anacostia-Bolling</td>\n      <td>Southwest</td>\n      <td>Washington, D.C.</td>\n      <td>38°50′34″N 077°00′58″W﻿ / ﻿38.84278°N 77.01611°W</td>\n      <td>Air Force District of Washington</td>\n      <td>NaN</td>\n      <td>11th Wing</td>\n      <td>US Navy operated joint base, accommodating Geo...</td>\n      <td>38.84278</td>\n      <td>-77.01611</td>\n    </tr>\n    <tr>\n      <th>2</th>\n      <td>Joint Base Andrews-Naval Air Facility Washington</td>\n      <td>Camp Springs</td>\n      <td>Maryland</td>\n      <td>38°48′39″N 076°52′01″W﻿ / ﻿38.81083°N 76.86694°W</td>\n      <td>Air Force District of Washington</td>\n      <td>NaN</td>\n      <td>11th Wing</td>\n      <td>USAF operated joint base. The 11th Wing provid...</td>\n      <td>38.81083</td>\n      <td>-76.86694</td>\n    </tr>\n  </tbody>\n</table>\n</div>"
     },
     "metadata": {},
     "execution_count": 350
    }
   ],
   "source": [
    "df_usaf.head(3)"
   ]
  },
  {
   "cell_type": "code",
   "execution_count": 312,
   "metadata": {},
   "outputs": [],
   "source": [
    "def extract_coords(s):\n",
    "    # extract coordinates from the Coordinates column in the table\n",
    "    s = s.split('/')[1]\n",
    "    # remove BOM from beginning of string\n",
    "    s = s.replace('\\ufeff', '')\n",
    "    s = s.strip()\n",
    "    # remove all chars except decimals and NSEW letter\n",
    "    coords = ''.join(item for item in s if item in ' .1234567890NSEW').split()\n",
    "    # remove NSEW designation from each coord, convert to float, and assign negative if needed\n",
    "    coords = [float(coord[:-1]) if coord[-1] in 'NE' else -float(coord[:-1]) for coord in coords]\n",
    "    return coords"
   ]
  },
  {
   "cell_type": "code",
   "execution_count": 319,
   "metadata": {},
   "outputs": [],
   "source": [
    "coords = pd.DataFrame(df_usaf['Coordinates'].apply(extract_coords).to_list(), columns = ['lat', 'lon'])"
   ]
  },
  {
   "cell_type": "code",
   "execution_count": 320,
   "metadata": {},
   "outputs": [],
   "source": [
    "df_usaf = df_usaf.join(coords)"
   ]
  },
  {
   "cell_type": "code",
   "execution_count": 349,
   "metadata": {},
   "outputs": [
    {
     "output_type": "execute_result",
     "data": {
      "text/plain": "                                               Name      Location  \\\n0                              Altus Air Force Base         Altus   \n1                      Joint Base Anacostia-Bolling     Southwest   \n2  Joint Base Andrews-Naval Air Facility Washington  Camp Springs   \n\n              State                                       Coordinates  \\\n0          Oklahoma  34°39′59″N 099°16′05″W﻿ / ﻿34.66639°N 99.26806°W   \n1  Washington, D.C.  38°50′34″N 077°00′58″W﻿ / ﻿38.84278°N 77.01611°W   \n2          Maryland  38°48′39″N 076°52′01″W﻿ / ﻿38.81083°N 76.86694°W   \n\n              Commanding organization  Wing or unit emblem  \\\n0  Air Education and Training Command                  NaN   \n1    Air Force District of Washington                  NaN   \n2    Air Force District of Washington                  NaN   \n\n  Host wing or primary unit  \\\n0    97th Air Mobility Wing   \n1                 11th Wing   \n2                 11th Wing   \n\n                          Primary missions and units       lat       lon  \n0  The 97th Air Mobility Wing trains crews to ope...  34.66639 -99.26806  \n1  US Navy operated joint base, accommodating Geo...  38.84278 -77.01611  \n2  USAF operated joint base. The 11th Wing provid...  38.81083 -76.86694  ",
      "text/html": "<div>\n<style scoped>\n    .dataframe tbody tr th:only-of-type {\n        vertical-align: middle;\n    }\n\n    .dataframe tbody tr th {\n        vertical-align: top;\n    }\n\n    .dataframe thead th {\n        text-align: right;\n    }\n</style>\n<table border=\"1\" class=\"dataframe\">\n  <thead>\n    <tr style=\"text-align: right;\">\n      <th></th>\n      <th>Name</th>\n      <th>Location</th>\n      <th>State</th>\n      <th>Coordinates</th>\n      <th>Commanding organization</th>\n      <th>Wing or unit emblem</th>\n      <th>Host wing or primary unit</th>\n      <th>Primary missions and units</th>\n      <th>lat</th>\n      <th>lon</th>\n    </tr>\n  </thead>\n  <tbody>\n    <tr>\n      <th>0</th>\n      <td>Altus Air Force Base</td>\n      <td>Altus</td>\n      <td>Oklahoma</td>\n      <td>34°39′59″N 099°16′05″W﻿ / ﻿34.66639°N 99.26806°W</td>\n      <td>Air Education and Training Command</td>\n      <td>NaN</td>\n      <td>97th Air Mobility Wing</td>\n      <td>The 97th Air Mobility Wing trains crews to ope...</td>\n      <td>34.66639</td>\n      <td>-99.26806</td>\n    </tr>\n    <tr>\n      <th>1</th>\n      <td>Joint Base Anacostia-Bolling</td>\n      <td>Southwest</td>\n      <td>Washington, D.C.</td>\n      <td>38°50′34″N 077°00′58″W﻿ / ﻿38.84278°N 77.01611°W</td>\n      <td>Air Force District of Washington</td>\n      <td>NaN</td>\n      <td>11th Wing</td>\n      <td>US Navy operated joint base, accommodating Geo...</td>\n      <td>38.84278</td>\n      <td>-77.01611</td>\n    </tr>\n    <tr>\n      <th>2</th>\n      <td>Joint Base Andrews-Naval Air Facility Washington</td>\n      <td>Camp Springs</td>\n      <td>Maryland</td>\n      <td>38°48′39″N 076°52′01″W﻿ / ﻿38.81083°N 76.86694°W</td>\n      <td>Air Force District of Washington</td>\n      <td>NaN</td>\n      <td>11th Wing</td>\n      <td>USAF operated joint base. The 11th Wing provid...</td>\n      <td>38.81083</td>\n      <td>-76.86694</td>\n    </tr>\n  </tbody>\n</table>\n</div>"
     },
     "metadata": {},
     "execution_count": 349
    }
   ],
   "source": [
    "df_usaf.head(3)"
   ]
  },
  {
   "cell_type": "markdown",
   "metadata": {},
   "source": [
    "## getting postal office locations"
   ]
  },
  {
   "cell_type": "code",
   "execution_count": 174,
   "metadata": {},
   "outputs": [],
   "source": [
    "from io import StringIO"
   ]
  },
  {
   "cell_type": "code",
   "execution_count": 252,
   "metadata": {},
   "outputs": [],
   "source": [
    "def gather_USPS_data():\n",
    "\n",
    "    # create session and specify header due to cookies issue with the about.usps.com site\n",
    "    s = requests.Session()\n",
    "    headers = {\n",
    "        'Accept-Encoding': 'gzip, deflate, sdch',\n",
    "        'Accept-Language': 'en-US,en;q=0.8',\n",
    "        'Upgrade-Insecure-Requests': '1',\n",
    "        'User-Agent': 'Mozilla/5.0 (X11; Linux x86_64) AppleWebKit/537.36 (KHTML, like Gecko) Chrome/56.0.2924.87 Safari/537.36',\n",
    "        'Accept': 'text/html,application/xhtml+xml,application/xml;q=0.9,image/webp,*/*;q=0.8',\n",
    "        'Cache-Control': 'max-age=0',\n",
    "        'Connection': 'keep-alive',\n",
    "    }\n",
    "    r = s.get(\"https://about.usps.com/who/legal/foia/owned-facilities.htm\", headers = headers)\n",
    "    l = soup.find_all('ul', class_='list-unstyled list-multi-column')[0].find_all('li')\n",
    "\n",
    "    # for each state csv in the html table, create a dataframe and append to list to be concat after\n",
    "    dfs = []\n",
    "    for item in l:\n",
    "        # create path using html \n",
    "        path = \"https://about.usps.com\" + item.find('a').get('href')\n",
    "        r_csv = s.get(path, headers = headers)\n",
    "        # remove some misc text from the beginning of the string \n",
    "        r_csv = r_csv.text.replace(\"\"\"Owned Area - Building Inventory 2,,,,,,,,,,,,,,,,,,,,\\r\\n,,,,,,,,,,,,,,,,,,,,\\r\\n,,,,,,,,,,,,,,,,,,,,\\r\\n\"\"\", '')\n",
    "        st = StringIO(r_csv)\n",
    "        # drop the last two rows, which are misc \n",
    "        df = pd.read_csv(st)[:-2]\n",
    "        dfs.append(df)\n",
    "\n",
    "    final_df = pd.concat(dfs, ignore_index = True)\n",
    "    return final_df"
   ]
  },
  {
   "cell_type": "code",
   "execution_count": 253,
   "metadata": {},
   "outputs": [],
   "source": [
    "df_usps = gather_USPS_data()"
   ]
  },
  {
   "cell_type": "code",
   "execution_count": 348,
   "metadata": {},
   "outputs": [
    {
     "output_type": "execute_result",
     "data": {
      "text/plain": "  District     Fin-Sub  Chrgbl Fin No         PO Name            Unit Name  \\\n0  Alabama  010120-G02        10120.0     ALBERTVILLE          MAIN OFFICE   \n1  Alabama  010150-G03        10150.0  ALEXANDER CITY          MAIN OFFICE   \n2  Alabama  010240-G01        10240.0           ALTON  MAIN OFFICE MODULAR   \n\n    Property Address      County            City  ST    ZIP Code  ...  \\\n0  210 S HAMBRICK ST    MARSHALL     ALBERTVILLE  AL  35950-1624  ...   \n1         233 LEE ST  TALLAPOOSA  ALEXANDER CITY  AL  35010-2654  ...   \n2    5548 JOHNSON ST   JEFFERSON           ALTON  AL  35015-2001  ...   \n\n  Ownership FDB ID (All)  AMS Locale Key (All) FDB Facility Type (All)  \\\n0     Owned    1352597.0                Y10022             Post Office   \n1     Owned    1352654.0                Y10026             Post Office   \n2     Owned    1352868.0                Y10035             Post Office   \n\n            FDB Facility Subtype (All)   Building Ownership Description  \\\n0                     Main Post Office    USPS Building, Const. by USPS   \n1     Administrative Post Office (APO)    USPS Building, Const. by USPS   \n2  Remotely Managed Post Office (RMPO)  USPS Building, Not Prev. Leased   \n\n                      Land Desc Space Certified Indicator Bldg Occu Date  \\\n0   USPS Land, Not Prev. Leased                        No      12/1/1983   \n1   USPS Land, Not Prev. Leased                       Yes       9/1/1984   \n2  Land Data on separate record                        No       9/1/1995   \n\n  Int Sq Ft  \n0     8,913  \n1     7,748  \n2       672  \n\n[3 rows x 21 columns]",
      "text/html": "<div>\n<style scoped>\n    .dataframe tbody tr th:only-of-type {\n        vertical-align: middle;\n    }\n\n    .dataframe tbody tr th {\n        vertical-align: top;\n    }\n\n    .dataframe thead th {\n        text-align: right;\n    }\n</style>\n<table border=\"1\" class=\"dataframe\">\n  <thead>\n    <tr style=\"text-align: right;\">\n      <th></th>\n      <th>District</th>\n      <th>Fin-Sub</th>\n      <th>Chrgbl Fin No</th>\n      <th>PO Name</th>\n      <th>Unit Name</th>\n      <th>Property Address</th>\n      <th>County</th>\n      <th>City</th>\n      <th>ST</th>\n      <th>ZIP Code</th>\n      <th>...</th>\n      <th>Ownership</th>\n      <th>FDB ID (All)</th>\n      <th>AMS Locale Key (All)</th>\n      <th>FDB Facility Type (All)</th>\n      <th>FDB Facility Subtype (All)</th>\n      <th>Building Ownership Description</th>\n      <th>Land Desc</th>\n      <th>Space Certified Indicator</th>\n      <th>Bldg Occu Date</th>\n      <th>Int Sq Ft</th>\n    </tr>\n  </thead>\n  <tbody>\n    <tr>\n      <th>0</th>\n      <td>Alabama</td>\n      <td>010120-G02</td>\n      <td>10120.0</td>\n      <td>ALBERTVILLE</td>\n      <td>MAIN OFFICE</td>\n      <td>210 S HAMBRICK ST</td>\n      <td>MARSHALL</td>\n      <td>ALBERTVILLE</td>\n      <td>AL</td>\n      <td>35950-1624</td>\n      <td>...</td>\n      <td>Owned</td>\n      <td>1352597.0</td>\n      <td>Y10022</td>\n      <td>Post Office</td>\n      <td>Main Post Office</td>\n      <td>USPS Building, Const. by USPS</td>\n      <td>USPS Land, Not Prev. Leased</td>\n      <td>No</td>\n      <td>12/1/1983</td>\n      <td>8,913</td>\n    </tr>\n    <tr>\n      <th>1</th>\n      <td>Alabama</td>\n      <td>010150-G03</td>\n      <td>10150.0</td>\n      <td>ALEXANDER CITY</td>\n      <td>MAIN OFFICE</td>\n      <td>233 LEE ST</td>\n      <td>TALLAPOOSA</td>\n      <td>ALEXANDER CITY</td>\n      <td>AL</td>\n      <td>35010-2654</td>\n      <td>...</td>\n      <td>Owned</td>\n      <td>1352654.0</td>\n      <td>Y10026</td>\n      <td>Post Office</td>\n      <td>Administrative Post Office (APO)</td>\n      <td>USPS Building, Const. by USPS</td>\n      <td>USPS Land, Not Prev. Leased</td>\n      <td>Yes</td>\n      <td>9/1/1984</td>\n      <td>7,748</td>\n    </tr>\n    <tr>\n      <th>2</th>\n      <td>Alabama</td>\n      <td>010240-G01</td>\n      <td>10240.0</td>\n      <td>ALTON</td>\n      <td>MAIN OFFICE MODULAR</td>\n      <td>5548 JOHNSON ST</td>\n      <td>JEFFERSON</td>\n      <td>ALTON</td>\n      <td>AL</td>\n      <td>35015-2001</td>\n      <td>...</td>\n      <td>Owned</td>\n      <td>1352868.0</td>\n      <td>Y10035</td>\n      <td>Post Office</td>\n      <td>Remotely Managed Post Office (RMPO)</td>\n      <td>USPS Building, Not Prev. Leased</td>\n      <td>Land Data on separate record</td>\n      <td>No</td>\n      <td>9/1/1995</td>\n      <td>672</td>\n    </tr>\n  </tbody>\n</table>\n<p>3 rows × 21 columns</p>\n</div>"
     },
     "metadata": {},
     "execution_count": 348
    }
   ],
   "source": [
    "df_usps.head(3)"
   ]
  },
  {
   "cell_type": "markdown",
   "metadata": {},
   "source": [
    "### write out chunks of df_usps no larger than 10k records each\n",
    "\n",
    "needs example format:\n",
    "\n",
    "1,4600 Silver Hill Rd,Suitland,MD,20746  \n",
    "2,436 15th St SE, Washington, DC,20003  \n",
    "  \n",
    "\n",
    "\n",
    "key columns are Street, City, State, Zip\n",
    "\n",
    "For geocoding purposes, make sure there are no duplicates on the key columns in order to reduce queries\n"
   ]
  },
  {
   "cell_type": "code",
   "execution_count": 336,
   "metadata": {},
   "outputs": [
    {
     "output_type": "execute_result",
     "data": {
      "text/plain": "True     10383\nFalse     8343\ndtype: int64"
     },
     "metadata": {},
     "execution_count": 336
    }
   ],
   "source": [
    "df_usps[['Property Address', 'City', 'ST', 'ZIP Code']].duplicated().value_counts()"
   ]
  },
  {
   "cell_type": "markdown",
   "metadata": {},
   "source": [
    "thats a ton of dupes ... locations might have more than one USPS-role and therefore show up multiple times"
   ]
  },
  {
   "cell_type": "code",
   "execution_count": 339,
   "metadata": {},
   "outputs": [],
   "source": [
    "uniques = df_usps[['Property Address', 'City', 'ST', 'ZIP Code']].drop_duplicates()"
   ]
  },
  {
   "cell_type": "code",
   "execution_count": 340,
   "metadata": {},
   "outputs": [
    {
     "output_type": "execute_result",
     "data": {
      "text/plain": "                             Property Address                       City  ST  \\\n0                           210 S HAMBRICK ST                ALBERTVILLE  AL   \n1                                  233 LEE ST             ALEXANDER CITY  AL   \n2                             5548 JOHNSON ST                      ALTON  AL   \n3                        520 E THREE NOTCH ST                  ANDALUSIA  AL   \n4                            7312 HIGHWAY 207                   ANDERSON  AL   \n...                                       ...                        ...  ..   \n17968                          US HIGHWAY 14N  YELLOWSTONE NATIONAL PARK  WY   \n17969                   US HIGHWAY 89/191/287  YELLOWSTONE NATIONAL PARK  WY   \n17970  US HIGHWAY 14/16 and US HIGHWAY 89-191  YELLOWSTONE NATIONAL PARK  WY   \n17971                            1000 MAMMOTH  YELLOWSTONE NATIONAL PARK  WY   \n17972                          US HIGHWAY 287  YELLOWSTONE NATIONAL PARK  WY   \n\n         ZIP Code  \n0      35950-1624  \n1      35010-2654  \n2      35015-2001  \n3      36420-3128  \n4      35610-4840  \n...           ...  \n17968  82190-9998  \n17969  82190-9998  \n17970  82190-9998  \n17971  82190-9650  \n17972  82190-9998  \n\n[8343 rows x 4 columns]",
      "text/html": "<div>\n<style scoped>\n    .dataframe tbody tr th:only-of-type {\n        vertical-align: middle;\n    }\n\n    .dataframe tbody tr th {\n        vertical-align: top;\n    }\n\n    .dataframe thead th {\n        text-align: right;\n    }\n</style>\n<table border=\"1\" class=\"dataframe\">\n  <thead>\n    <tr style=\"text-align: right;\">\n      <th></th>\n      <th>Property Address</th>\n      <th>City</th>\n      <th>ST</th>\n      <th>ZIP Code</th>\n    </tr>\n  </thead>\n  <tbody>\n    <tr>\n      <th>0</th>\n      <td>210 S HAMBRICK ST</td>\n      <td>ALBERTVILLE</td>\n      <td>AL</td>\n      <td>35950-1624</td>\n    </tr>\n    <tr>\n      <th>1</th>\n      <td>233 LEE ST</td>\n      <td>ALEXANDER CITY</td>\n      <td>AL</td>\n      <td>35010-2654</td>\n    </tr>\n    <tr>\n      <th>2</th>\n      <td>5548 JOHNSON ST</td>\n      <td>ALTON</td>\n      <td>AL</td>\n      <td>35015-2001</td>\n    </tr>\n    <tr>\n      <th>3</th>\n      <td>520 E THREE NOTCH ST</td>\n      <td>ANDALUSIA</td>\n      <td>AL</td>\n      <td>36420-3128</td>\n    </tr>\n    <tr>\n      <th>4</th>\n      <td>7312 HIGHWAY 207</td>\n      <td>ANDERSON</td>\n      <td>AL</td>\n      <td>35610-4840</td>\n    </tr>\n    <tr>\n      <th>...</th>\n      <td>...</td>\n      <td>...</td>\n      <td>...</td>\n      <td>...</td>\n    </tr>\n    <tr>\n      <th>17968</th>\n      <td>US HIGHWAY 14N</td>\n      <td>YELLOWSTONE NATIONAL PARK</td>\n      <td>WY</td>\n      <td>82190-9998</td>\n    </tr>\n    <tr>\n      <th>17969</th>\n      <td>US HIGHWAY 89/191/287</td>\n      <td>YELLOWSTONE NATIONAL PARK</td>\n      <td>WY</td>\n      <td>82190-9998</td>\n    </tr>\n    <tr>\n      <th>17970</th>\n      <td>US HIGHWAY 14/16 and US HIGHWAY 89-191</td>\n      <td>YELLOWSTONE NATIONAL PARK</td>\n      <td>WY</td>\n      <td>82190-9998</td>\n    </tr>\n    <tr>\n      <th>17971</th>\n      <td>1000 MAMMOTH</td>\n      <td>YELLOWSTONE NATIONAL PARK</td>\n      <td>WY</td>\n      <td>82190-9650</td>\n    </tr>\n    <tr>\n      <th>17972</th>\n      <td>US HIGHWAY 287</td>\n      <td>YELLOWSTONE NATIONAL PARK</td>\n      <td>WY</td>\n      <td>82190-9998</td>\n    </tr>\n  </tbody>\n</table>\n<p>8343 rows × 4 columns</p>\n</div>"
     },
     "metadata": {},
     "execution_count": 340
    }
   ],
   "source": [
    "uniques"
   ]
  },
  {
   "cell_type": "markdown",
   "metadata": {},
   "source": [
    "write out in chunks just in case the # of uniques is > 10000"
   ]
  },
  {
   "cell_type": "code",
   "execution_count": 341,
   "metadata": {},
   "outputs": [],
   "source": [
    "chunk_size = 10000\n",
    "\n",
    "for i in range(round(len(uniques)/chunk_size)):\n",
    "    chunk = uniques[i*chunk_size:chunk_size*(i+1)]\n",
    "    chunk.to_csv(\"data/uscensus/usps_chunk_{}.csv\".format(i), header = False)"
   ]
  },
  {
   "cell_type": "code",
   "execution_count": 342,
   "metadata": {},
   "outputs": [
    {
     "output_type": "stream",
     "name": "stdout",
     "text": "% Total    % Received % Xferd  Average Speed   Time    Time     Time  Current\n                                 Dload  Upload   Total   Spent    Left  Speed\n100 1318k  100  949k  100  369k   2240    871  0:07:14  0:07:13  0:00:01  153k\n"
    }
   ],
   "source": [
    "# pass to geocoding service\n",
    "# https://geocoding.geo.census.gov/geocoder/Geocoding_Services_API.pdf\n",
    "!curl --form addressFile=@data/uscensus/usps_chunk_0.csv --form benchmark=Public_AR_Current https://geocoding.geo.census.gov/geocoder/locations/addressbatch --output data/uscensus/geocoderesult1.csv"
   ]
  },
  {
   "cell_type": "code",
   "execution_count": 351,
   "metadata": {},
   "outputs": [],
   "source": [
    "df_geocoderesult = pd.read_csv(\"data/uscensus/geocoderesult.csv\", names = ['index', 'input', 'match', 'match_type', 'output', 'coords', 'tigerlineID', 'side'])"
   ]
  },
  {
   "cell_type": "code",
   "execution_count": 353,
   "metadata": {},
   "outputs": [
    {
     "output_type": "execute_result",
     "data": {
      "text/plain": "   index                                         input  match match_type  \\\n0  17288     22433 RANDOLPH DR, DULLES, VA, 20104-9998  Match  Non_Exact   \n1  17289     44715 PRENTICE DR, DULLES, VA, 20101-9998  Match  Non_Exact   \n2  17284   10001 COUNTY DR, DISPUTANTA, VA, 23842-9998  Match      Exact   \n3  17285  22365 DREWRY RD, DREWRYVILLE, VA, 23844-9998  Match      Exact   \n4   4970    345 E SUNSET BLVD, GERLACH, NV, 89412-9800    Tie        NaN   \n\n                                    output               coords        idk1  \\\n0     22433 Randolph Dr, DULLES, VA, 20103  -77.45221,38.997852  62362877.0   \n1     44715 Prentice Dr, DULLES, VA, 20166   -77.4586,39.000824  62362881.0   \n2   10001 County Dr, DISPUTANTA, VA, 23842  -77.22661,37.124454  54181994.0   \n3  22365 Drewry Rd, DREWRYVILLE, VA, 23844   -77.30633,36.71563  82709745.0   \n4                                      NaN                  NaN         NaN   \n\n  idk2  \n0    R  \n1    L  \n2    L  \n3    R  \n4  NaN  ",
      "text/html": "<div>\n<style scoped>\n    .dataframe tbody tr th:only-of-type {\n        vertical-align: middle;\n    }\n\n    .dataframe tbody tr th {\n        vertical-align: top;\n    }\n\n    .dataframe thead th {\n        text-align: right;\n    }\n</style>\n<table border=\"1\" class=\"dataframe\">\n  <thead>\n    <tr style=\"text-align: right;\">\n      <th></th>\n      <th>index</th>\n      <th>input</th>\n      <th>match</th>\n      <th>match_type</th>\n      <th>output</th>\n      <th>coords</th>\n      <th>idk1</th>\n      <th>idk2</th>\n    </tr>\n  </thead>\n  <tbody>\n    <tr>\n      <th>0</th>\n      <td>17288</td>\n      <td>22433 RANDOLPH DR, DULLES, VA, 20104-9998</td>\n      <td>Match</td>\n      <td>Non_Exact</td>\n      <td>22433 Randolph Dr, DULLES, VA, 20103</td>\n      <td>-77.45221,38.997852</td>\n      <td>62362877.0</td>\n      <td>R</td>\n    </tr>\n    <tr>\n      <th>1</th>\n      <td>17289</td>\n      <td>44715 PRENTICE DR, DULLES, VA, 20101-9998</td>\n      <td>Match</td>\n      <td>Non_Exact</td>\n      <td>44715 Prentice Dr, DULLES, VA, 20166</td>\n      <td>-77.4586,39.000824</td>\n      <td>62362881.0</td>\n      <td>L</td>\n    </tr>\n    <tr>\n      <th>2</th>\n      <td>17284</td>\n      <td>10001 COUNTY DR, DISPUTANTA, VA, 23842-9998</td>\n      <td>Match</td>\n      <td>Exact</td>\n      <td>10001 County Dr, DISPUTANTA, VA, 23842</td>\n      <td>-77.22661,37.124454</td>\n      <td>54181994.0</td>\n      <td>L</td>\n    </tr>\n    <tr>\n      <th>3</th>\n      <td>17285</td>\n      <td>22365 DREWRY RD, DREWRYVILLE, VA, 23844-9998</td>\n      <td>Match</td>\n      <td>Exact</td>\n      <td>22365 Drewry Rd, DREWRYVILLE, VA, 23844</td>\n      <td>-77.30633,36.71563</td>\n      <td>82709745.0</td>\n      <td>R</td>\n    </tr>\n    <tr>\n      <th>4</th>\n      <td>4970</td>\n      <td>345 E SUNSET BLVD, GERLACH, NV, 89412-9800</td>\n      <td>Tie</td>\n      <td>NaN</td>\n      <td>NaN</td>\n      <td>NaN</td>\n      <td>NaN</td>\n      <td>NaN</td>\n    </tr>\n  </tbody>\n</table>\n</div>"
     },
     "metadata": {},
     "execution_count": 353
    }
   ],
   "source": [
    "df_geocoderesult.head()"
   ]
  },
  {
   "cell_type": "code",
   "execution_count": 357,
   "metadata": {},
   "outputs": [
    {
     "output_type": "execute_result",
     "data": {
      "text/plain": "      index                                        input     match match_type  \\\n4      4970   345 E SUNSET BLVD, GERLACH, NV, 89412-9800       Tie        NaN   \n5     17286     1 TOWN CENTER DR, DUBLIN, VA, 24084-9998  No_Match        NaN   \n8     17287  60 DOUBLE CABIN RD, DUGSPUR, VA, 24325-9998  No_Match        NaN   \n11    17282        105 TEAL CT, DANVILLE, VA, 24541-9998  No_Match        NaN   \n15     4969      2244 FOOTHILL RD, GENOA, NV, 89411-9998  No_Match        NaN   \n...     ...                                          ...       ...        ...   \n8332   4950          134 E 6TH ST, WAHOO, NE, 68066-9998       Tie        NaN   \n8333   4951      1500 S 112TH ST, WALTON, NE, 68461-9538  No_Match        NaN   \n8334   4952        120 N PEARL ST, WAYNE, NE, 68787-1932       Tie        NaN   \n8337   3629   130 N GREENE ST, BALTIMORE, MD, 21201-9997  No_Match        NaN   \n8340   4956         47 N 1ST ST E, ALAMO, NV, 89001-9800  No_Match        NaN   \n\n     output coords  idk1 idk2  \n4       NaN    NaN   NaN  NaN  \n5       NaN    NaN   NaN  NaN  \n8       NaN    NaN   NaN  NaN  \n11      NaN    NaN   NaN  NaN  \n15      NaN    NaN   NaN  NaN  \n...     ...    ...   ...  ...  \n8332    NaN    NaN   NaN  NaN  \n8333    NaN    NaN   NaN  NaN  \n8334    NaN    NaN   NaN  NaN  \n8337    NaN    NaN   NaN  NaN  \n8340    NaN    NaN   NaN  NaN  \n\n[2964 rows x 8 columns]",
      "text/html": "<div>\n<style scoped>\n    .dataframe tbody tr th:only-of-type {\n        vertical-align: middle;\n    }\n\n    .dataframe tbody tr th {\n        vertical-align: top;\n    }\n\n    .dataframe thead th {\n        text-align: right;\n    }\n</style>\n<table border=\"1\" class=\"dataframe\">\n  <thead>\n    <tr style=\"text-align: right;\">\n      <th></th>\n      <th>index</th>\n      <th>input</th>\n      <th>match</th>\n      <th>match_type</th>\n      <th>output</th>\n      <th>coords</th>\n      <th>idk1</th>\n      <th>idk2</th>\n    </tr>\n  </thead>\n  <tbody>\n    <tr>\n      <th>4</th>\n      <td>4970</td>\n      <td>345 E SUNSET BLVD, GERLACH, NV, 89412-9800</td>\n      <td>Tie</td>\n      <td>NaN</td>\n      <td>NaN</td>\n      <td>NaN</td>\n      <td>NaN</td>\n      <td>NaN</td>\n    </tr>\n    <tr>\n      <th>5</th>\n      <td>17286</td>\n      <td>1 TOWN CENTER DR, DUBLIN, VA, 24084-9998</td>\n      <td>No_Match</td>\n      <td>NaN</td>\n      <td>NaN</td>\n      <td>NaN</td>\n      <td>NaN</td>\n      <td>NaN</td>\n    </tr>\n    <tr>\n      <th>8</th>\n      <td>17287</td>\n      <td>60 DOUBLE CABIN RD, DUGSPUR, VA, 24325-9998</td>\n      <td>No_Match</td>\n      <td>NaN</td>\n      <td>NaN</td>\n      <td>NaN</td>\n      <td>NaN</td>\n      <td>NaN</td>\n    </tr>\n    <tr>\n      <th>11</th>\n      <td>17282</td>\n      <td>105 TEAL CT, DANVILLE, VA, 24541-9998</td>\n      <td>No_Match</td>\n      <td>NaN</td>\n      <td>NaN</td>\n      <td>NaN</td>\n      <td>NaN</td>\n      <td>NaN</td>\n    </tr>\n    <tr>\n      <th>15</th>\n      <td>4969</td>\n      <td>2244 FOOTHILL RD, GENOA, NV, 89411-9998</td>\n      <td>No_Match</td>\n      <td>NaN</td>\n      <td>NaN</td>\n      <td>NaN</td>\n      <td>NaN</td>\n      <td>NaN</td>\n    </tr>\n    <tr>\n      <th>...</th>\n      <td>...</td>\n      <td>...</td>\n      <td>...</td>\n      <td>...</td>\n      <td>...</td>\n      <td>...</td>\n      <td>...</td>\n      <td>...</td>\n    </tr>\n    <tr>\n      <th>8332</th>\n      <td>4950</td>\n      <td>134 E 6TH ST, WAHOO, NE, 68066-9998</td>\n      <td>Tie</td>\n      <td>NaN</td>\n      <td>NaN</td>\n      <td>NaN</td>\n      <td>NaN</td>\n      <td>NaN</td>\n    </tr>\n    <tr>\n      <th>8333</th>\n      <td>4951</td>\n      <td>1500 S 112TH ST, WALTON, NE, 68461-9538</td>\n      <td>No_Match</td>\n      <td>NaN</td>\n      <td>NaN</td>\n      <td>NaN</td>\n      <td>NaN</td>\n      <td>NaN</td>\n    </tr>\n    <tr>\n      <th>8334</th>\n      <td>4952</td>\n      <td>120 N PEARL ST, WAYNE, NE, 68787-1932</td>\n      <td>Tie</td>\n      <td>NaN</td>\n      <td>NaN</td>\n      <td>NaN</td>\n      <td>NaN</td>\n      <td>NaN</td>\n    </tr>\n    <tr>\n      <th>8337</th>\n      <td>3629</td>\n      <td>130 N GREENE ST, BALTIMORE, MD, 21201-9997</td>\n      <td>No_Match</td>\n      <td>NaN</td>\n      <td>NaN</td>\n      <td>NaN</td>\n      <td>NaN</td>\n      <td>NaN</td>\n    </tr>\n    <tr>\n      <th>8340</th>\n      <td>4956</td>\n      <td>47 N 1ST ST E, ALAMO, NV, 89001-9800</td>\n      <td>No_Match</td>\n      <td>NaN</td>\n      <td>NaN</td>\n      <td>NaN</td>\n      <td>NaN</td>\n      <td>NaN</td>\n    </tr>\n  </tbody>\n</table>\n<p>2964 rows × 8 columns</p>\n</div>"
     },
     "metadata": {},
     "execution_count": 357
    }
   ],
   "source": [
    "df_geocoderesult[df_geocoderesult.coords.isna()]"
   ]
  },
  {
   "cell_type": "code",
   "execution_count": null,
   "metadata": {},
   "outputs": [],
   "source": []
  }
 ],
 "metadata": {
  "language_info": {
   "codemirror_mode": {
    "name": "ipython",
    "version": 3
   },
   "file_extension": ".py",
   "mimetype": "text/x-python",
   "name": "python",
   "nbconvert_exporter": "python",
   "pygments_lexer": "ipython3",
   "version": "3.7.4-final"
  },
  "orig_nbformat": 2,
  "kernelspec": {
   "name": "python37464bitmyenvvenv170ded6926c8452d9ff75a55832da084",
   "display_name": "Python 3.7.4 64-bit ('myenv': venv)"
  }
 },
 "nbformat": 4,
 "nbformat_minor": 2
}