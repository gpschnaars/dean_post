{
 "cells": [
  {
   "cell_type": "code",
   "execution_count": 526,
   "metadata": {},
   "outputs": [],
   "source": [
    "import requests\n",
    "from bs4 import BeautifulSoup\n",
    "\n",
    "import pandas as pd, numpy as np\n",
    "import re"
   ]
  },
  {
   "cell_type": "markdown",
   "metadata": {},
   "source": [
    "## getting air force base locations"
   ]
  },
  {
   "cell_type": "code",
   "execution_count": 310,
   "metadata": {},
   "outputs": [],
   "source": [
    "airforce_wiki_url = \"https://en.wikipedia.org/wiki/List_of_United_States_Air_Force_installations\"\n",
    "df_usaf = pd.read_html(airforce_wiki_url)[1]"
   ]
  },
  {
   "cell_type": "code",
   "execution_count": 350,
   "metadata": {},
   "outputs": [
    {
     "output_type": "execute_result",
     "data": {
      "text/plain": "                                               Name      Location  \\\n0                              Altus Air Force Base         Altus   \n1                      Joint Base Anacostia-Bolling     Southwest   \n2  Joint Base Andrews-Naval Air Facility Washington  Camp Springs   \n\n              State                                       Coordinates  \\\n0          Oklahoma  34°39′59″N 099°16′05″W﻿ / ﻿34.66639°N 99.26806°W   \n1  Washington, D.C.  38°50′34″N 077°00′58″W﻿ / ﻿38.84278°N 77.01611°W   \n2          Maryland  38°48′39″N 076°52′01″W﻿ / ﻿38.81083°N 76.86694°W   \n\n              Commanding organization  Wing or unit emblem  \\\n0  Air Education and Training Command                  NaN   \n1    Air Force District of Washington                  NaN   \n2    Air Force District of Washington                  NaN   \n\n  Host wing or primary unit  \\\n0    97th Air Mobility Wing   \n1                 11th Wing   \n2                 11th Wing   \n\n                          Primary missions and units       lat       lon  \n0  The 97th Air Mobility Wing trains crews to ope...  34.66639 -99.26806  \n1  US Navy operated joint base, accommodating Geo...  38.84278 -77.01611  \n2  USAF operated joint base. The 11th Wing provid...  38.81083 -76.86694  ",
      "text/html": "<div>\n<style scoped>\n    .dataframe tbody tr th:only-of-type {\n        vertical-align: middle;\n    }\n\n    .dataframe tbody tr th {\n        vertical-align: top;\n    }\n\n    .dataframe thead th {\n        text-align: right;\n    }\n</style>\n<table border=\"1\" class=\"dataframe\">\n  <thead>\n    <tr style=\"text-align: right;\">\n      <th></th>\n      <th>Name</th>\n      <th>Location</th>\n      <th>State</th>\n      <th>Coordinates</th>\n      <th>Commanding organization</th>\n      <th>Wing or unit emblem</th>\n      <th>Host wing or primary unit</th>\n      <th>Primary missions and units</th>\n      <th>lat</th>\n      <th>lon</th>\n    </tr>\n  </thead>\n  <tbody>\n    <tr>\n      <th>0</th>\n      <td>Altus Air Force Base</td>\n      <td>Altus</td>\n      <td>Oklahoma</td>\n      <td>34°39′59″N 099°16′05″W﻿ / ﻿34.66639°N 99.26806°W</td>\n      <td>Air Education and Training Command</td>\n      <td>NaN</td>\n      <td>97th Air Mobility Wing</td>\n      <td>The 97th Air Mobility Wing trains crews to ope...</td>\n      <td>34.66639</td>\n      <td>-99.26806</td>\n    </tr>\n    <tr>\n      <th>1</th>\n      <td>Joint Base Anacostia-Bolling</td>\n      <td>Southwest</td>\n      <td>Washington, D.C.</td>\n      <td>38°50′34″N 077°00′58″W﻿ / ﻿38.84278°N 77.01611°W</td>\n      <td>Air Force District of Washington</td>\n      <td>NaN</td>\n      <td>11th Wing</td>\n      <td>US Navy operated joint base, accommodating Geo...</td>\n      <td>38.84278</td>\n      <td>-77.01611</td>\n    </tr>\n    <tr>\n      <th>2</th>\n      <td>Joint Base Andrews-Naval Air Facility Washington</td>\n      <td>Camp Springs</td>\n      <td>Maryland</td>\n      <td>38°48′39″N 076°52′01″W﻿ / ﻿38.81083°N 76.86694°W</td>\n      <td>Air Force District of Washington</td>\n      <td>NaN</td>\n      <td>11th Wing</td>\n      <td>USAF operated joint base. The 11th Wing provid...</td>\n      <td>38.81083</td>\n      <td>-76.86694</td>\n    </tr>\n  </tbody>\n</table>\n</div>"
     },
     "metadata": {},
     "execution_count": 350
    }
   ],
   "source": [
    "df_usaf.head(3)"
   ]
  },
  {
   "cell_type": "code",
   "execution_count": 312,
   "metadata": {},
   "outputs": [],
   "source": [
    "def extract_coords(s):\n",
    "    # extract coordinates from the Coordinates column in the table\n",
    "    s = s.split('/')[1]\n",
    "    # remove BOM from beginning of string\n",
    "    s = s.replace('\\ufeff', '')\n",
    "    s = s.strip()\n",
    "    # remove all chars except decimals and NSEW letter\n",
    "    coords = ''.join(item for item in s if item in ' .1234567890NSEW').split()\n",
    "    # remove NSEW designation from each coord, convert to float, and assign negative if needed\n",
    "    coords = [float(coord[:-1]) if coord[-1] in 'NE' else -float(coord[:-1]) for coord in coords]\n",
    "    return coords"
   ]
  },
  {
   "cell_type": "code",
   "execution_count": 319,
   "metadata": {},
   "outputs": [],
   "source": [
    "coords = pd.DataFrame(df_usaf['Coordinates'].apply(extract_coords).to_list(), columns = ['lat', 'lon'])"
   ]
  },
  {
   "cell_type": "code",
   "execution_count": 320,
   "metadata": {},
   "outputs": [],
   "source": [
    "df_usaf = df_usaf.join(coords)"
   ]
  },
  {
   "cell_type": "code",
   "execution_count": 349,
   "metadata": {},
   "outputs": [
    {
     "output_type": "execute_result",
     "data": {
      "text/plain": "                                               Name      Location  \\\n0                              Altus Air Force Base         Altus   \n1                      Joint Base Anacostia-Bolling     Southwest   \n2  Joint Base Andrews-Naval Air Facility Washington  Camp Springs   \n\n              State                                       Coordinates  \\\n0          Oklahoma  34°39′59″N 099°16′05″W﻿ / ﻿34.66639°N 99.26806°W   \n1  Washington, D.C.  38°50′34″N 077°00′58″W﻿ / ﻿38.84278°N 77.01611°W   \n2          Maryland  38°48′39″N 076°52′01″W﻿ / ﻿38.81083°N 76.86694°W   \n\n              Commanding organization  Wing or unit emblem  \\\n0  Air Education and Training Command                  NaN   \n1    Air Force District of Washington                  NaN   \n2    Air Force District of Washington                  NaN   \n\n  Host wing or primary unit  \\\n0    97th Air Mobility Wing   \n1                 11th Wing   \n2                 11th Wing   \n\n                          Primary missions and units       lat       lon  \n0  The 97th Air Mobility Wing trains crews to ope...  34.66639 -99.26806  \n1  US Navy operated joint base, accommodating Geo...  38.84278 -77.01611  \n2  USAF operated joint base. The 11th Wing provid...  38.81083 -76.86694  ",
      "text/html": "<div>\n<style scoped>\n    .dataframe tbody tr th:only-of-type {\n        vertical-align: middle;\n    }\n\n    .dataframe tbody tr th {\n        vertical-align: top;\n    }\n\n    .dataframe thead th {\n        text-align: right;\n    }\n</style>\n<table border=\"1\" class=\"dataframe\">\n  <thead>\n    <tr style=\"text-align: right;\">\n      <th></th>\n      <th>Name</th>\n      <th>Location</th>\n      <th>State</th>\n      <th>Coordinates</th>\n      <th>Commanding organization</th>\n      <th>Wing or unit emblem</th>\n      <th>Host wing or primary unit</th>\n      <th>Primary missions and units</th>\n      <th>lat</th>\n      <th>lon</th>\n    </tr>\n  </thead>\n  <tbody>\n    <tr>\n      <th>0</th>\n      <td>Altus Air Force Base</td>\n      <td>Altus</td>\n      <td>Oklahoma</td>\n      <td>34°39′59″N 099°16′05″W﻿ / ﻿34.66639°N 99.26806°W</td>\n      <td>Air Education and Training Command</td>\n      <td>NaN</td>\n      <td>97th Air Mobility Wing</td>\n      <td>The 97th Air Mobility Wing trains crews to ope...</td>\n      <td>34.66639</td>\n      <td>-99.26806</td>\n    </tr>\n    <tr>\n      <th>1</th>\n      <td>Joint Base Anacostia-Bolling</td>\n      <td>Southwest</td>\n      <td>Washington, D.C.</td>\n      <td>38°50′34″N 077°00′58″W﻿ / ﻿38.84278°N 77.01611°W</td>\n      <td>Air Force District of Washington</td>\n      <td>NaN</td>\n      <td>11th Wing</td>\n      <td>US Navy operated joint base, accommodating Geo...</td>\n      <td>38.84278</td>\n      <td>-77.01611</td>\n    </tr>\n    <tr>\n      <th>2</th>\n      <td>Joint Base Andrews-Naval Air Facility Washington</td>\n      <td>Camp Springs</td>\n      <td>Maryland</td>\n      <td>38°48′39″N 076°52′01″W﻿ / ﻿38.81083°N 76.86694°W</td>\n      <td>Air Force District of Washington</td>\n      <td>NaN</td>\n      <td>11th Wing</td>\n      <td>USAF operated joint base. The 11th Wing provid...</td>\n      <td>38.81083</td>\n      <td>-76.86694</td>\n    </tr>\n  </tbody>\n</table>\n</div>"
     },
     "metadata": {},
     "execution_count": 349
    }
   ],
   "source": [
    "df_usaf.head(3)"
   ]
  },
  {
   "cell_type": "markdown",
   "metadata": {},
   "source": [
    "make sure were not missing any coordinates"
   ]
  },
  {
   "cell_type": "code",
   "execution_count": 479,
   "metadata": {},
   "outputs": [
    {
     "output_type": "execute_result",
     "data": {
      "text/plain": "False    70\nName: lat, dtype: int64"
     },
     "metadata": {},
     "execution_count": 479
    }
   ],
   "source": [
    "df_usaf.lat.isna().value_counts()"
   ]
  },
  {
   "cell_type": "markdown",
   "metadata": {},
   "source": [
    "## getting postal office locations"
   ]
  },
  {
   "cell_type": "code",
   "execution_count": 174,
   "metadata": {},
   "outputs": [],
   "source": [
    "from io import StringIO"
   ]
  },
  {
   "cell_type": "code",
   "execution_count": 252,
   "metadata": {},
   "outputs": [],
   "source": [
    "def gather_USPS_data():\n",
    "\n",
    "    # create session and specify header due to cookies issue with the about.usps.com site\n",
    "    s = requests.Session()\n",
    "    headers = {\n",
    "        'Accept-Encoding': 'gzip, deflate, sdch',\n",
    "        'Accept-Language': 'en-US,en;q=0.8',\n",
    "        'Upgrade-Insecure-Requests': '1',\n",
    "        'User-Agent': 'Mozilla/5.0 (X11; Linux x86_64) AppleWebKit/537.36 (KHTML, like Gecko) Chrome/56.0.2924.87 Safari/537.36',\n",
    "        'Accept': 'text/html,application/xhtml+xml,application/xml;q=0.9,image/webp,*/*;q=0.8',\n",
    "        'Cache-Control': 'max-age=0',\n",
    "        'Connection': 'keep-alive',\n",
    "    }\n",
    "    r = s.get(\"https://about.usps.com/who/legal/foia/owned-facilities.htm\", headers = headers)\n",
    "    l = soup.find_all('ul', class_='list-unstyled list-multi-column')[0].find_all('li')\n",
    "\n",
    "    # for each state csv in the html table, create a dataframe and append to list to be concat after\n",
    "    dfs = []\n",
    "    for item in l:\n",
    "        # create path using html \n",
    "        path = \"https://about.usps.com\" + item.find('a').get('href')\n",
    "        r_csv = s.get(path, headers = headers)\n",
    "        # remove some misc text from the beginning of the string \n",
    "        r_csv = r_csv.text.replace(\"\"\"Owned Area - Building Inventory 2,,,,,,,,,,,,,,,,,,,,\\r\\n,,,,,,,,,,,,,,,,,,,,\\r\\n,,,,,,,,,,,,,,,,,,,,\\r\\n\"\"\", '')\n",
    "        st = StringIO(r_csv)\n",
    "        # drop the last two rows, which are misc \n",
    "        df = pd.read_csv(st)[:-2]\n",
    "        dfs.append(df)\n",
    "\n",
    "    final_df = pd.concat(dfs, ignore_index = True)\n",
    "    return final_df"
   ]
  },
  {
   "cell_type": "code",
   "execution_count": 496,
   "metadata": {},
   "outputs": [],
   "source": [
    "df_usps = gather_USPS_data()"
   ]
  },
  {
   "cell_type": "code",
   "execution_count": 497,
   "metadata": {},
   "outputs": [
    {
     "output_type": "execute_result",
     "data": {
      "text/plain": "  District     Fin-Sub  Chrgbl Fin No         PO Name            Unit Name  \\\n0  Alabama  010120-G02        10120.0     ALBERTVILLE          MAIN OFFICE   \n1  Alabama  010150-G03        10150.0  ALEXANDER CITY          MAIN OFFICE   \n2  Alabama  010240-G01        10240.0           ALTON  MAIN OFFICE MODULAR   \n\n    Property Address      County            City  ST    ZIP Code  ...  \\\n0  210 S HAMBRICK ST    MARSHALL     ALBERTVILLE  AL  35950-1624  ...   \n1         233 LEE ST  TALLAPOOSA  ALEXANDER CITY  AL  35010-2654  ...   \n2    5548 JOHNSON ST   JEFFERSON           ALTON  AL  35015-2001  ...   \n\n  Ownership FDB ID (All)  AMS Locale Key (All) FDB Facility Type (All)  \\\n0     Owned    1352597.0                Y10022             Post Office   \n1     Owned    1352654.0                Y10026             Post Office   \n2     Owned    1352868.0                Y10035             Post Office   \n\n            FDB Facility Subtype (All)   Building Ownership Description  \\\n0                     Main Post Office    USPS Building, Const. by USPS   \n1     Administrative Post Office (APO)    USPS Building, Const. by USPS   \n2  Remotely Managed Post Office (RMPO)  USPS Building, Not Prev. Leased   \n\n                      Land Desc Space Certified Indicator Bldg Occu Date  \\\n0   USPS Land, Not Prev. Leased                        No      12/1/1983   \n1   USPS Land, Not Prev. Leased                       Yes       9/1/1984   \n2  Land Data on separate record                        No       9/1/1995   \n\n  Int Sq Ft  \n0     8,913  \n1     7,748  \n2       672  \n\n[3 rows x 21 columns]",
      "text/html": "<div>\n<style scoped>\n    .dataframe tbody tr th:only-of-type {\n        vertical-align: middle;\n    }\n\n    .dataframe tbody tr th {\n        vertical-align: top;\n    }\n\n    .dataframe thead th {\n        text-align: right;\n    }\n</style>\n<table border=\"1\" class=\"dataframe\">\n  <thead>\n    <tr style=\"text-align: right;\">\n      <th></th>\n      <th>District</th>\n      <th>Fin-Sub</th>\n      <th>Chrgbl Fin No</th>\n      <th>PO Name</th>\n      <th>Unit Name</th>\n      <th>Property Address</th>\n      <th>County</th>\n      <th>City</th>\n      <th>ST</th>\n      <th>ZIP Code</th>\n      <th>...</th>\n      <th>Ownership</th>\n      <th>FDB ID (All)</th>\n      <th>AMS Locale Key (All)</th>\n      <th>FDB Facility Type (All)</th>\n      <th>FDB Facility Subtype (All)</th>\n      <th>Building Ownership Description</th>\n      <th>Land Desc</th>\n      <th>Space Certified Indicator</th>\n      <th>Bldg Occu Date</th>\n      <th>Int Sq Ft</th>\n    </tr>\n  </thead>\n  <tbody>\n    <tr>\n      <th>0</th>\n      <td>Alabama</td>\n      <td>010120-G02</td>\n      <td>10120.0</td>\n      <td>ALBERTVILLE</td>\n      <td>MAIN OFFICE</td>\n      <td>210 S HAMBRICK ST</td>\n      <td>MARSHALL</td>\n      <td>ALBERTVILLE</td>\n      <td>AL</td>\n      <td>35950-1624</td>\n      <td>...</td>\n      <td>Owned</td>\n      <td>1352597.0</td>\n      <td>Y10022</td>\n      <td>Post Office</td>\n      <td>Main Post Office</td>\n      <td>USPS Building, Const. by USPS</td>\n      <td>USPS Land, Not Prev. Leased</td>\n      <td>No</td>\n      <td>12/1/1983</td>\n      <td>8,913</td>\n    </tr>\n    <tr>\n      <th>1</th>\n      <td>Alabama</td>\n      <td>010150-G03</td>\n      <td>10150.0</td>\n      <td>ALEXANDER CITY</td>\n      <td>MAIN OFFICE</td>\n      <td>233 LEE ST</td>\n      <td>TALLAPOOSA</td>\n      <td>ALEXANDER CITY</td>\n      <td>AL</td>\n      <td>35010-2654</td>\n      <td>...</td>\n      <td>Owned</td>\n      <td>1352654.0</td>\n      <td>Y10026</td>\n      <td>Post Office</td>\n      <td>Administrative Post Office (APO)</td>\n      <td>USPS Building, Const. by USPS</td>\n      <td>USPS Land, Not Prev. Leased</td>\n      <td>Yes</td>\n      <td>9/1/1984</td>\n      <td>7,748</td>\n    </tr>\n    <tr>\n      <th>2</th>\n      <td>Alabama</td>\n      <td>010240-G01</td>\n      <td>10240.0</td>\n      <td>ALTON</td>\n      <td>MAIN OFFICE MODULAR</td>\n      <td>5548 JOHNSON ST</td>\n      <td>JEFFERSON</td>\n      <td>ALTON</td>\n      <td>AL</td>\n      <td>35015-2001</td>\n      <td>...</td>\n      <td>Owned</td>\n      <td>1352868.0</td>\n      <td>Y10035</td>\n      <td>Post Office</td>\n      <td>Remotely Managed Post Office (RMPO)</td>\n      <td>USPS Building, Not Prev. Leased</td>\n      <td>Land Data on separate record</td>\n      <td>No</td>\n      <td>9/1/1995</td>\n      <td>672</td>\n    </tr>\n  </tbody>\n</table>\n<p>3 rows × 21 columns</p>\n</div>"
     },
     "metadata": {},
     "execution_count": 497
    }
   ],
   "source": [
    "df_usps.head(3)"
   ]
  },
  {
   "cell_type": "code",
   "execution_count": 498,
   "metadata": {},
   "outputs": [
    {
     "output_type": "execute_result",
     "data": {
      "text/plain": "False    9418\nTrue     9308\ndtype: int64"
     },
     "metadata": {},
     "execution_count": 498
    }
   ],
   "source": [
    "# make sure to drop duplicates that exist across all columns...\n",
    "df_usps.duplicated().value_counts()"
   ]
  },
  {
   "cell_type": "code",
   "execution_count": 499,
   "metadata": {},
   "outputs": [],
   "source": [
    "df_usps = df_usps.drop_duplicates()"
   ]
  },
  {
   "cell_type": "markdown",
   "metadata": {},
   "source": [
    "### write out chunks of df_usps no larger than 10k records each\n",
    "\n",
    "needs example format:\n",
    "\n",
    "1,4600 Silver Hill Rd,Suitland,MD,20746  \n",
    "2,436 15th St SE, Washington, DC,20003  \n",
    "  \n",
    "\n",
    "\n",
    "key columns are Street, City, State, Zip\n",
    "\n",
    "For geocoding purposes, make sure there are no duplicates on the key columns in order to reduce queries\n"
   ]
  },
  {
   "cell_type": "code",
   "execution_count": 440,
   "metadata": {},
   "outputs": [],
   "source": [
    "key_cols = ['Property Address', 'City', 'ST', 'ZIP Code']"
   ]
  },
  {
   "cell_type": "code",
   "execution_count": 501,
   "metadata": {},
   "outputs": [
    {
     "output_type": "execute_result",
     "data": {
      "text/plain": "False    8343\nTrue     1075\ndtype: int64"
     },
     "metadata": {},
     "execution_count": 501
    }
   ],
   "source": [
    "df_usps[key_cols].duplicated().value_counts()"
   ]
  },
  {
   "cell_type": "markdown",
   "metadata": {},
   "source": [
    "thats a ton of dupes ... locations might have more than one USPS-role and therefore show up multiple times"
   ]
  },
  {
   "cell_type": "code",
   "execution_count": 502,
   "metadata": {},
   "outputs": [],
   "source": [
    "uniques = df_usps[key_cols].drop_duplicates()"
   ]
  },
  {
   "cell_type": "code",
   "execution_count": 503,
   "metadata": {},
   "outputs": [
    {
     "output_type": "execute_result",
     "data": {
      "text/plain": "                             Property Address                       City  ST  \\\n0                           210 S HAMBRICK ST                ALBERTVILLE  AL   \n1                                  233 LEE ST             ALEXANDER CITY  AL   \n2                             5548 JOHNSON ST                      ALTON  AL   \n3                        520 E THREE NOTCH ST                  ANDALUSIA  AL   \n4                            7312 HIGHWAY 207                   ANDERSON  AL   \n...                                       ...                        ...  ..   \n17968                          US HIGHWAY 14N  YELLOWSTONE NATIONAL PARK  WY   \n17969                   US HIGHWAY 89/191/287  YELLOWSTONE NATIONAL PARK  WY   \n17970  US HIGHWAY 14/16 and US HIGHWAY 89-191  YELLOWSTONE NATIONAL PARK  WY   \n17971                            1000 MAMMOTH  YELLOWSTONE NATIONAL PARK  WY   \n17972                          US HIGHWAY 287  YELLOWSTONE NATIONAL PARK  WY   \n\n         ZIP Code  \n0      35950-1624  \n1      35010-2654  \n2      35015-2001  \n3      36420-3128  \n4      35610-4840  \n...           ...  \n17968  82190-9998  \n17969  82190-9998  \n17970  82190-9998  \n17971  82190-9650  \n17972  82190-9998  \n\n[8343 rows x 4 columns]",
      "text/html": "<div>\n<style scoped>\n    .dataframe tbody tr th:only-of-type {\n        vertical-align: middle;\n    }\n\n    .dataframe tbody tr th {\n        vertical-align: top;\n    }\n\n    .dataframe thead th {\n        text-align: right;\n    }\n</style>\n<table border=\"1\" class=\"dataframe\">\n  <thead>\n    <tr style=\"text-align: right;\">\n      <th></th>\n      <th>Property Address</th>\n      <th>City</th>\n      <th>ST</th>\n      <th>ZIP Code</th>\n    </tr>\n  </thead>\n  <tbody>\n    <tr>\n      <th>0</th>\n      <td>210 S HAMBRICK ST</td>\n      <td>ALBERTVILLE</td>\n      <td>AL</td>\n      <td>35950-1624</td>\n    </tr>\n    <tr>\n      <th>1</th>\n      <td>233 LEE ST</td>\n      <td>ALEXANDER CITY</td>\n      <td>AL</td>\n      <td>35010-2654</td>\n    </tr>\n    <tr>\n      <th>2</th>\n      <td>5548 JOHNSON ST</td>\n      <td>ALTON</td>\n      <td>AL</td>\n      <td>35015-2001</td>\n    </tr>\n    <tr>\n      <th>3</th>\n      <td>520 E THREE NOTCH ST</td>\n      <td>ANDALUSIA</td>\n      <td>AL</td>\n      <td>36420-3128</td>\n    </tr>\n    <tr>\n      <th>4</th>\n      <td>7312 HIGHWAY 207</td>\n      <td>ANDERSON</td>\n      <td>AL</td>\n      <td>35610-4840</td>\n    </tr>\n    <tr>\n      <th>...</th>\n      <td>...</td>\n      <td>...</td>\n      <td>...</td>\n      <td>...</td>\n    </tr>\n    <tr>\n      <th>17968</th>\n      <td>US HIGHWAY 14N</td>\n      <td>YELLOWSTONE NATIONAL PARK</td>\n      <td>WY</td>\n      <td>82190-9998</td>\n    </tr>\n    <tr>\n      <th>17969</th>\n      <td>US HIGHWAY 89/191/287</td>\n      <td>YELLOWSTONE NATIONAL PARK</td>\n      <td>WY</td>\n      <td>82190-9998</td>\n    </tr>\n    <tr>\n      <th>17970</th>\n      <td>US HIGHWAY 14/16 and US HIGHWAY 89-191</td>\n      <td>YELLOWSTONE NATIONAL PARK</td>\n      <td>WY</td>\n      <td>82190-9998</td>\n    </tr>\n    <tr>\n      <th>17971</th>\n      <td>1000 MAMMOTH</td>\n      <td>YELLOWSTONE NATIONAL PARK</td>\n      <td>WY</td>\n      <td>82190-9650</td>\n    </tr>\n    <tr>\n      <th>17972</th>\n      <td>US HIGHWAY 287</td>\n      <td>YELLOWSTONE NATIONAL PARK</td>\n      <td>WY</td>\n      <td>82190-9998</td>\n    </tr>\n  </tbody>\n</table>\n<p>8343 rows × 4 columns</p>\n</div>"
     },
     "metadata": {},
     "execution_count": 503
    }
   ],
   "source": [
    "uniques"
   ]
  },
  {
   "cell_type": "markdown",
   "metadata": {},
   "source": [
    "write out in chunks just in case the # of uniques is > 10000"
   ]
  },
  {
   "cell_type": "code",
   "execution_count": 341,
   "metadata": {},
   "outputs": [],
   "source": [
    "chunk_size = 10000\n",
    "\n",
    "for i in range(round(len(uniques)/chunk_size)):\n",
    "    chunk = uniques[i*chunk_size:chunk_size*(i+1)]\n",
    "    chunk.to_csv(\"data/uscensus/usps_chunk_{}.csv\".format(i), header = False)"
   ]
  },
  {
   "cell_type": "code",
   "execution_count": 358,
   "metadata": {},
   "outputs": [
    {
     "output_type": "stream",
     "name": "stdout",
     "text": "% Total    % Received % Xferd  Average Speed   Time    Time     Time  Current\n                                 Dload  Upload   Total   Spent    Left  Speed\n100 1316k  100  946k  100  369k   1201    468  0:13:27  0:13:27 --:--:--  146k\n"
    }
   ],
   "source": [
    "# pass to geocoding service\n",
    "# https://geocoding.geo.census.gov/geocoder/Geocoding_Services_API.pdf\n",
    "!curl --form addressFile=@data/uscensus/usps_chunk_0.csv --form benchmark=Public_AR_Current https://geocoding.geo.census.gov/geocoder/locations/addressbatch --output data/uscensus/geocoderesult.csv"
   ]
  },
  {
   "cell_type": "code",
   "execution_count": 363,
   "metadata": {},
   "outputs": [],
   "source": [
    "df_geocoderesult = pd.read_csv(\"data/uscensus/geocoderesult.csv\", index_col = 0, names = ['input', 'match', 'match_type', 'output', 'coords', 'tigerlineID', 'side'])"
   ]
  },
  {
   "cell_type": "code",
   "execution_count": 364,
   "metadata": {},
   "outputs": [
    {
     "output_type": "execute_result",
     "data": {
      "text/plain": "                                              input  match match_type  \\\n17288     22433 RANDOLPH DR, DULLES, VA, 20104-9998  Match  Non_Exact   \n17289     44715 PRENTICE DR, DULLES, VA, 20101-9998  Match  Non_Exact   \n17284   10001 COUNTY DR, DISPUTANTA, VA, 23842-9998  Match      Exact   \n17285  22365 DREWRY RD, DREWRYVILLE, VA, 23844-9998  Match      Exact   \n4970     345 E SUNSET BLVD, GERLACH, NV, 89412-9800    Tie        NaN   \n\n                                        output               coords  \\\n17288     22433 RANDOLPH DR, DULLES, VA, 20103  -77.45251,38.995213   \n17289     44715 PRENTICE DR, DULLES, VA, 20166   -77.4544,39.001156   \n17284   10001 COUNTY DR, DISPUTANTA, VA, 23842  -77.22715,37.124813   \n17285  22365 DREWRY RD, DREWRYVILLE, VA, 23844  -77.30634,36.715645   \n4970                                       NaN                  NaN   \n\n       tigerlineID side  \n17288   62362877.0    R  \n17289   62362878.0    L  \n17284  613894685.0    L  \n17285   82709745.0    R  \n4970           NaN  NaN  ",
      "text/html": "<div>\n<style scoped>\n    .dataframe tbody tr th:only-of-type {\n        vertical-align: middle;\n    }\n\n    .dataframe tbody tr th {\n        vertical-align: top;\n    }\n\n    .dataframe thead th {\n        text-align: right;\n    }\n</style>\n<table border=\"1\" class=\"dataframe\">\n  <thead>\n    <tr style=\"text-align: right;\">\n      <th></th>\n      <th>input</th>\n      <th>match</th>\n      <th>match_type</th>\n      <th>output</th>\n      <th>coords</th>\n      <th>tigerlineID</th>\n      <th>side</th>\n    </tr>\n  </thead>\n  <tbody>\n    <tr>\n      <th>17288</th>\n      <td>22433 RANDOLPH DR, DULLES, VA, 20104-9998</td>\n      <td>Match</td>\n      <td>Non_Exact</td>\n      <td>22433 RANDOLPH DR, DULLES, VA, 20103</td>\n      <td>-77.45251,38.995213</td>\n      <td>62362877.0</td>\n      <td>R</td>\n    </tr>\n    <tr>\n      <th>17289</th>\n      <td>44715 PRENTICE DR, DULLES, VA, 20101-9998</td>\n      <td>Match</td>\n      <td>Non_Exact</td>\n      <td>44715 PRENTICE DR, DULLES, VA, 20166</td>\n      <td>-77.4544,39.001156</td>\n      <td>62362878.0</td>\n      <td>L</td>\n    </tr>\n    <tr>\n      <th>17284</th>\n      <td>10001 COUNTY DR, DISPUTANTA, VA, 23842-9998</td>\n      <td>Match</td>\n      <td>Exact</td>\n      <td>10001 COUNTY DR, DISPUTANTA, VA, 23842</td>\n      <td>-77.22715,37.124813</td>\n      <td>613894685.0</td>\n      <td>L</td>\n    </tr>\n    <tr>\n      <th>17285</th>\n      <td>22365 DREWRY RD, DREWRYVILLE, VA, 23844-9998</td>\n      <td>Match</td>\n      <td>Exact</td>\n      <td>22365 DREWRY RD, DREWRYVILLE, VA, 23844</td>\n      <td>-77.30634,36.715645</td>\n      <td>82709745.0</td>\n      <td>R</td>\n    </tr>\n    <tr>\n      <th>4970</th>\n      <td>345 E SUNSET BLVD, GERLACH, NV, 89412-9800</td>\n      <td>Tie</td>\n      <td>NaN</td>\n      <td>NaN</td>\n      <td>NaN</td>\n      <td>NaN</td>\n      <td>NaN</td>\n    </tr>\n  </tbody>\n</table>\n</div>"
     },
     "metadata": {},
     "execution_count": 364
    }
   ],
   "source": [
    "df_geocoderesult.head()"
   ]
  },
  {
   "cell_type": "code",
   "execution_count": 365,
   "metadata": {},
   "outputs": [
    {
     "output_type": "execute_result",
     "data": {
      "text/plain": "False    5355\nTrue     2988\nName: coords, dtype: int64"
     },
     "metadata": {},
     "execution_count": 365
    }
   ],
   "source": [
    "df_geocoderesult.coords.isna().value_counts()"
   ]
  },
  {
   "cell_type": "markdown",
   "metadata": {},
   "source": [
    "need to look into JSON request per line to try and geocode remainder\n",
    "\n",
    "\n",
    "for now, lets try to look at what we have"
   ]
  },
  {
   "cell_type": "code",
   "execution_count": 431,
   "metadata": {},
   "outputs": [],
   "source": [
    "geocode_lookup = df_geocoderesult[~df_geocoderesult.coords.isna()][['input', 'coords']]"
   ]
  },
  {
   "cell_type": "code",
   "execution_count": 432,
   "metadata": {},
   "outputs": [],
   "source": [
    "def fix_coords(coord):\n",
    "    # rearrage coords \n",
    "    lon, lat = coord.split(',')\n",
    "    return float(lat), float(lon)\n",
    "\n",
    "def split_input(s):\n",
    "    street, city, state, zip9 = [item.strip() for item in s.split(',')]\n",
    "    return street, city, state, zip9"
   ]
  },
  {
   "cell_type": "code",
   "execution_count": 433,
   "metadata": {},
   "outputs": [],
   "source": [
    "split_input = geocode_lookup.input.apply(split_input).apply(pd.Series)\n",
    "split_input.columns =  key_cols\n",
    "split_coords = geocode_lookup.coords.apply(fix_coords).apply(pd.Series)\n",
    "split_coords.columns = ['lat', 'lon']"
   ]
  },
  {
   "cell_type": "code",
   "execution_count": 435,
   "metadata": {},
   "outputs": [
    {
     "output_type": "execute_result",
     "data": {
      "text/plain": "             lat         lon\n17288  38.995213  -77.452510\n17289  39.001156  -77.454400\n17284  37.124813  -77.227150\n17285  36.715645  -77.306340\n17286  37.093610  -80.686910\n...          ...         ...\n4954   40.867040  -97.591820\n3629   39.291080  -76.623825\n4955   41.244614  -96.396126\n3627   39.328594  -76.631240\n4957   35.979540 -114.834750\n\n[5355 rows x 2 columns]",
      "text/html": "<div>\n<style scoped>\n    .dataframe tbody tr th:only-of-type {\n        vertical-align: middle;\n    }\n\n    .dataframe tbody tr th {\n        vertical-align: top;\n    }\n\n    .dataframe thead th {\n        text-align: right;\n    }\n</style>\n<table border=\"1\" class=\"dataframe\">\n  <thead>\n    <tr style=\"text-align: right;\">\n      <th></th>\n      <th>lat</th>\n      <th>lon</th>\n    </tr>\n  </thead>\n  <tbody>\n    <tr>\n      <th>17288</th>\n      <td>38.995213</td>\n      <td>-77.452510</td>\n    </tr>\n    <tr>\n      <th>17289</th>\n      <td>39.001156</td>\n      <td>-77.454400</td>\n    </tr>\n    <tr>\n      <th>17284</th>\n      <td>37.124813</td>\n      <td>-77.227150</td>\n    </tr>\n    <tr>\n      <th>17285</th>\n      <td>36.715645</td>\n      <td>-77.306340</td>\n    </tr>\n    <tr>\n      <th>17286</th>\n      <td>37.093610</td>\n      <td>-80.686910</td>\n    </tr>\n    <tr>\n      <th>...</th>\n      <td>...</td>\n      <td>...</td>\n    </tr>\n    <tr>\n      <th>4954</th>\n      <td>40.867040</td>\n      <td>-97.591820</td>\n    </tr>\n    <tr>\n      <th>3629</th>\n      <td>39.291080</td>\n      <td>-76.623825</td>\n    </tr>\n    <tr>\n      <th>4955</th>\n      <td>41.244614</td>\n      <td>-96.396126</td>\n    </tr>\n    <tr>\n      <th>3627</th>\n      <td>39.328594</td>\n      <td>-76.631240</td>\n    </tr>\n    <tr>\n      <th>4957</th>\n      <td>35.979540</td>\n      <td>-114.834750</td>\n    </tr>\n  </tbody>\n</table>\n<p>5355 rows × 2 columns</p>\n</div>"
     },
     "metadata": {},
     "execution_count": 435
    }
   ],
   "source": [
    "split_coords"
   ]
  },
  {
   "cell_type": "code",
   "execution_count": 436,
   "metadata": {},
   "outputs": [],
   "source": [
    "geocode_result = split_input.join(split_coords)"
   ]
  },
  {
   "cell_type": "code",
   "execution_count": 437,
   "metadata": {},
   "outputs": [
    {
     "output_type": "execute_result",
     "data": {
      "text/plain": "        Property Address          City  ST    ZIP Code        lat         lon\n17288  22433 RANDOLPH DR        DULLES  VA  20104-9998  38.995213  -77.452510\n17289  44715 PRENTICE DR        DULLES  VA  20101-9998  39.001156  -77.454400\n17284    10001 COUNTY DR    DISPUTANTA  VA  23842-9998  37.124813  -77.227150\n17285    22365 DREWRY RD   DREWRYVILLE  VA  23844-9998  36.715645  -77.306340\n17286   1 TOWN CENTER DR        DUBLIN  VA  24084-9998  37.093610  -80.686910\n...                  ...           ...  ..         ...        ...         ...\n4954     626 N GRANT AVE          YORK  NE  68467-9998  40.867040  -97.591820\n3629     130 N GREENE ST     BALTIMORE  MD  21201-9997  39.291080  -76.623825\n4955          502 1ST ST         YUTAN  NE  68073-9700  41.244614  -96.396126\n3627       919 W 34TH ST     BALTIMORE  MD  21211-9998  39.328594  -76.631240\n4957    1101 COLORADO ST  BOULDER CITY  NV  89005-9998  35.979540 -114.834750\n\n[5355 rows x 6 columns]",
      "text/html": "<div>\n<style scoped>\n    .dataframe tbody tr th:only-of-type {\n        vertical-align: middle;\n    }\n\n    .dataframe tbody tr th {\n        vertical-align: top;\n    }\n\n    .dataframe thead th {\n        text-align: right;\n    }\n</style>\n<table border=\"1\" class=\"dataframe\">\n  <thead>\n    <tr style=\"text-align: right;\">\n      <th></th>\n      <th>Property Address</th>\n      <th>City</th>\n      <th>ST</th>\n      <th>ZIP Code</th>\n      <th>lat</th>\n      <th>lon</th>\n    </tr>\n  </thead>\n  <tbody>\n    <tr>\n      <th>17288</th>\n      <td>22433 RANDOLPH DR</td>\n      <td>DULLES</td>\n      <td>VA</td>\n      <td>20104-9998</td>\n      <td>38.995213</td>\n      <td>-77.452510</td>\n    </tr>\n    <tr>\n      <th>17289</th>\n      <td>44715 PRENTICE DR</td>\n      <td>DULLES</td>\n      <td>VA</td>\n      <td>20101-9998</td>\n      <td>39.001156</td>\n      <td>-77.454400</td>\n    </tr>\n    <tr>\n      <th>17284</th>\n      <td>10001 COUNTY DR</td>\n      <td>DISPUTANTA</td>\n      <td>VA</td>\n      <td>23842-9998</td>\n      <td>37.124813</td>\n      <td>-77.227150</td>\n    </tr>\n    <tr>\n      <th>17285</th>\n      <td>22365 DREWRY RD</td>\n      <td>DREWRYVILLE</td>\n      <td>VA</td>\n      <td>23844-9998</td>\n      <td>36.715645</td>\n      <td>-77.306340</td>\n    </tr>\n    <tr>\n      <th>17286</th>\n      <td>1 TOWN CENTER DR</td>\n      <td>DUBLIN</td>\n      <td>VA</td>\n      <td>24084-9998</td>\n      <td>37.093610</td>\n      <td>-80.686910</td>\n    </tr>\n    <tr>\n      <th>...</th>\n      <td>...</td>\n      <td>...</td>\n      <td>...</td>\n      <td>...</td>\n      <td>...</td>\n      <td>...</td>\n    </tr>\n    <tr>\n      <th>4954</th>\n      <td>626 N GRANT AVE</td>\n      <td>YORK</td>\n      <td>NE</td>\n      <td>68467-9998</td>\n      <td>40.867040</td>\n      <td>-97.591820</td>\n    </tr>\n    <tr>\n      <th>3629</th>\n      <td>130 N GREENE ST</td>\n      <td>BALTIMORE</td>\n      <td>MD</td>\n      <td>21201-9997</td>\n      <td>39.291080</td>\n      <td>-76.623825</td>\n    </tr>\n    <tr>\n      <th>4955</th>\n      <td>502 1ST ST</td>\n      <td>YUTAN</td>\n      <td>NE</td>\n      <td>68073-9700</td>\n      <td>41.244614</td>\n      <td>-96.396126</td>\n    </tr>\n    <tr>\n      <th>3627</th>\n      <td>919 W 34TH ST</td>\n      <td>BALTIMORE</td>\n      <td>MD</td>\n      <td>21211-9998</td>\n      <td>39.328594</td>\n      <td>-76.631240</td>\n    </tr>\n    <tr>\n      <th>4957</th>\n      <td>1101 COLORADO ST</td>\n      <td>BOULDER CITY</td>\n      <td>NV</td>\n      <td>89005-9998</td>\n      <td>35.979540</td>\n      <td>-114.834750</td>\n    </tr>\n  </tbody>\n</table>\n<p>5355 rows × 6 columns</p>\n</div>"
     },
     "metadata": {},
     "execution_count": 437
    }
   ],
   "source": [
    "geocode_result"
   ]
  },
  {
   "cell_type": "markdown",
   "metadata": {},
   "source": [
    "now perform left merge back with the original df_usps using the key cols"
   ]
  },
  {
   "cell_type": "code",
   "execution_count": 504,
   "metadata": {},
   "outputs": [],
   "source": [
    "df_usps_final = df_usps.merge(geocode_result, how = 'left', on = key_cols)"
   ]
  },
  {
   "cell_type": "code",
   "execution_count": 505,
   "metadata": {},
   "outputs": [
    {
     "output_type": "execute_result",
     "data": {
      "text/plain": "  District     Fin-Sub  Chrgbl Fin No         PO Name            Unit Name  \\\n0  Alabama  010120-G02        10120.0     ALBERTVILLE          MAIN OFFICE   \n1  Alabama  010150-G03        10150.0  ALEXANDER CITY          MAIN OFFICE   \n2  Alabama  010240-G01        10240.0           ALTON  MAIN OFFICE MODULAR   \n3  Alabama  010270-G01        10270.0       ANDALUSIA          MAIN OFFICE   \n4  Alabama  010280-G01        10280.0        ANDERSON  MAIN OFFICE MODULAR   \n\n       Property Address      County            City  ST    ZIP Code  ...  \\\n0     210 S HAMBRICK ST    MARSHALL     ALBERTVILLE  AL  35950-1624  ...   \n1            233 LEE ST  TALLAPOOSA  ALEXANDER CITY  AL  35010-2654  ...   \n2       5548 JOHNSON ST   JEFFERSON           ALTON  AL  35015-2001  ...   \n3  520 E THREE NOTCH ST   COVINGTON       ANDALUSIA  AL  36420-3128  ...   \n4      7312 HIGHWAY 207  LAUDERDALE        ANDERSON  AL  35610-4840  ...   \n\n  AMS Locale Key (All) FDB Facility Type (All)  \\\n0               Y10022             Post Office   \n1               Y10026             Post Office   \n2               Y10035             Post Office   \n3               Y10038             Post Office   \n4               Y10039             Post Office   \n\n            FDB Facility Subtype (All)   Building Ownership Description  \\\n0                     Main Post Office    USPS Building, Const. by USPS   \n1     Administrative Post Office (APO)    USPS Building, Const. by USPS   \n2  Remotely Managed Post Office (RMPO)  USPS Building, Not Prev. Leased   \n3     Administrative Post Office (APO)      USPS Building, Prev. Leased   \n4  Remotely Managed Post Office (RMPO)           USPS Personal Property   \n\n                      Land Desc Space Certified Indicator Bldg Occu Date  \\\n0   USPS Land, Not Prev. Leased                        No      12/1/1983   \n1   USPS Land, Not Prev. Leased                       Yes       9/1/1984   \n2  Land Data on separate record                        No       9/1/1995   \n3       USPS Land, Prev. Leased                       Yes      10/1/1965   \n4  Land Data on separate record                        No       4/1/1995   \n\n  Int Sq Ft        lat        lon  \n0     8,913        NaN        NaN  \n1     7,748        NaN        NaN  \n2       672        NaN        NaN  \n3    10,519  31.302319 -86.487960  \n4       992  34.924915 -87.268715  \n\n[5 rows x 23 columns]",
      "text/html": "<div>\n<style scoped>\n    .dataframe tbody tr th:only-of-type {\n        vertical-align: middle;\n    }\n\n    .dataframe tbody tr th {\n        vertical-align: top;\n    }\n\n    .dataframe thead th {\n        text-align: right;\n    }\n</style>\n<table border=\"1\" class=\"dataframe\">\n  <thead>\n    <tr style=\"text-align: right;\">\n      <th></th>\n      <th>District</th>\n      <th>Fin-Sub</th>\n      <th>Chrgbl Fin No</th>\n      <th>PO Name</th>\n      <th>Unit Name</th>\n      <th>Property Address</th>\n      <th>County</th>\n      <th>City</th>\n      <th>ST</th>\n      <th>ZIP Code</th>\n      <th>...</th>\n      <th>AMS Locale Key (All)</th>\n      <th>FDB Facility Type (All)</th>\n      <th>FDB Facility Subtype (All)</th>\n      <th>Building Ownership Description</th>\n      <th>Land Desc</th>\n      <th>Space Certified Indicator</th>\n      <th>Bldg Occu Date</th>\n      <th>Int Sq Ft</th>\n      <th>lat</th>\n      <th>lon</th>\n    </tr>\n  </thead>\n  <tbody>\n    <tr>\n      <th>0</th>\n      <td>Alabama</td>\n      <td>010120-G02</td>\n      <td>10120.0</td>\n      <td>ALBERTVILLE</td>\n      <td>MAIN OFFICE</td>\n      <td>210 S HAMBRICK ST</td>\n      <td>MARSHALL</td>\n      <td>ALBERTVILLE</td>\n      <td>AL</td>\n      <td>35950-1624</td>\n      <td>...</td>\n      <td>Y10022</td>\n      <td>Post Office</td>\n      <td>Main Post Office</td>\n      <td>USPS Building, Const. by USPS</td>\n      <td>USPS Land, Not Prev. Leased</td>\n      <td>No</td>\n      <td>12/1/1983</td>\n      <td>8,913</td>\n      <td>NaN</td>\n      <td>NaN</td>\n    </tr>\n    <tr>\n      <th>1</th>\n      <td>Alabama</td>\n      <td>010150-G03</td>\n      <td>10150.0</td>\n      <td>ALEXANDER CITY</td>\n      <td>MAIN OFFICE</td>\n      <td>233 LEE ST</td>\n      <td>TALLAPOOSA</td>\n      <td>ALEXANDER CITY</td>\n      <td>AL</td>\n      <td>35010-2654</td>\n      <td>...</td>\n      <td>Y10026</td>\n      <td>Post Office</td>\n      <td>Administrative Post Office (APO)</td>\n      <td>USPS Building, Const. by USPS</td>\n      <td>USPS Land, Not Prev. Leased</td>\n      <td>Yes</td>\n      <td>9/1/1984</td>\n      <td>7,748</td>\n      <td>NaN</td>\n      <td>NaN</td>\n    </tr>\n    <tr>\n      <th>2</th>\n      <td>Alabama</td>\n      <td>010240-G01</td>\n      <td>10240.0</td>\n      <td>ALTON</td>\n      <td>MAIN OFFICE MODULAR</td>\n      <td>5548 JOHNSON ST</td>\n      <td>JEFFERSON</td>\n      <td>ALTON</td>\n      <td>AL</td>\n      <td>35015-2001</td>\n      <td>...</td>\n      <td>Y10035</td>\n      <td>Post Office</td>\n      <td>Remotely Managed Post Office (RMPO)</td>\n      <td>USPS Building, Not Prev. Leased</td>\n      <td>Land Data on separate record</td>\n      <td>No</td>\n      <td>9/1/1995</td>\n      <td>672</td>\n      <td>NaN</td>\n      <td>NaN</td>\n    </tr>\n    <tr>\n      <th>3</th>\n      <td>Alabama</td>\n      <td>010270-G01</td>\n      <td>10270.0</td>\n      <td>ANDALUSIA</td>\n      <td>MAIN OFFICE</td>\n      <td>520 E THREE NOTCH ST</td>\n      <td>COVINGTON</td>\n      <td>ANDALUSIA</td>\n      <td>AL</td>\n      <td>36420-3128</td>\n      <td>...</td>\n      <td>Y10038</td>\n      <td>Post Office</td>\n      <td>Administrative Post Office (APO)</td>\n      <td>USPS Building, Prev. Leased</td>\n      <td>USPS Land, Prev. Leased</td>\n      <td>Yes</td>\n      <td>10/1/1965</td>\n      <td>10,519</td>\n      <td>31.302319</td>\n      <td>-86.487960</td>\n    </tr>\n    <tr>\n      <th>4</th>\n      <td>Alabama</td>\n      <td>010280-G01</td>\n      <td>10280.0</td>\n      <td>ANDERSON</td>\n      <td>MAIN OFFICE MODULAR</td>\n      <td>7312 HIGHWAY 207</td>\n      <td>LAUDERDALE</td>\n      <td>ANDERSON</td>\n      <td>AL</td>\n      <td>35610-4840</td>\n      <td>...</td>\n      <td>Y10039</td>\n      <td>Post Office</td>\n      <td>Remotely Managed Post Office (RMPO)</td>\n      <td>USPS Personal Property</td>\n      <td>Land Data on separate record</td>\n      <td>No</td>\n      <td>4/1/1995</td>\n      <td>992</td>\n      <td>34.924915</td>\n      <td>-87.268715</td>\n    </tr>\n  </tbody>\n</table>\n<p>5 rows × 23 columns</p>\n</div>"
     },
     "metadata": {},
     "execution_count": 505
    }
   ],
   "source": [
    "df_usps_final.head()"
   ]
  },
  {
   "cell_type": "code",
   "execution_count": 506,
   "metadata": {},
   "outputs": [
    {
     "output_type": "execute_result",
     "data": {
      "text/plain": "False    6097\nTrue     3321\nName: lat, dtype: int64"
     },
     "metadata": {},
     "execution_count": 506
    }
   ],
   "source": [
    "df_usps_final.lat.isna().value_counts()"
   ]
  },
  {
   "cell_type": "markdown",
   "metadata": {},
   "source": [
    "not bad, missing roughly 1/3 of total lat/lon coords tho"
   ]
  },
  {
   "cell_type": "code",
   "execution_count": 507,
   "metadata": {},
   "outputs": [
    {
     "output_type": "execute_result",
     "data": {
      "text/plain": "                                                            0\nDistrict                                              Alabama\nFin-Sub                                            010120-G02\nChrgbl Fin No                                           10120\nPO Name                                           ALBERTVILLE\nUnit Name                                         MAIN OFFICE\nProperty Address                            210 S HAMBRICK ST\nCounty                                               MARSHALL\nCity                                              ALBERTVILLE\nST                                                         AL\nZIP Code                                           35950-1624\nProperty Status                                        Active\nOwnership                                               Owned\nFDB ID (All)                                       1.3526e+06\nAMS Locale Key (All)                                   Y10022\nFDB Facility Type (All)                           Post Office\nFDB Facility Subtype (All)                   Main Post Office\nBuilding Ownership Description  USPS Building, Const. by USPS\nLand Desc                         USPS Land, Not Prev. Leased\nSpace Certified Indicator                                  No\nBldg Occu Date                                      12/1/1983\nInt Sq Ft                                               8,913\nlat                                                       NaN\nlon                                                       NaN",
      "text/html": "<div>\n<style scoped>\n    .dataframe tbody tr th:only-of-type {\n        vertical-align: middle;\n    }\n\n    .dataframe tbody tr th {\n        vertical-align: top;\n    }\n\n    .dataframe thead th {\n        text-align: right;\n    }\n</style>\n<table border=\"1\" class=\"dataframe\">\n  <thead>\n    <tr style=\"text-align: right;\">\n      <th></th>\n      <th>0</th>\n    </tr>\n  </thead>\n  <tbody>\n    <tr>\n      <th>District</th>\n      <td>Alabama</td>\n    </tr>\n    <tr>\n      <th>Fin-Sub</th>\n      <td>010120-G02</td>\n    </tr>\n    <tr>\n      <th>Chrgbl Fin No</th>\n      <td>10120</td>\n    </tr>\n    <tr>\n      <th>PO Name</th>\n      <td>ALBERTVILLE</td>\n    </tr>\n    <tr>\n      <th>Unit Name</th>\n      <td>MAIN OFFICE</td>\n    </tr>\n    <tr>\n      <th>Property Address</th>\n      <td>210 S HAMBRICK ST</td>\n    </tr>\n    <tr>\n      <th>County</th>\n      <td>MARSHALL</td>\n    </tr>\n    <tr>\n      <th>City</th>\n      <td>ALBERTVILLE</td>\n    </tr>\n    <tr>\n      <th>ST</th>\n      <td>AL</td>\n    </tr>\n    <tr>\n      <th>ZIP Code</th>\n      <td>35950-1624</td>\n    </tr>\n    <tr>\n      <th>Property Status</th>\n      <td>Active</td>\n    </tr>\n    <tr>\n      <th>Ownership</th>\n      <td>Owned</td>\n    </tr>\n    <tr>\n      <th>FDB ID (All)</th>\n      <td>1.3526e+06</td>\n    </tr>\n    <tr>\n      <th>AMS Locale Key (All)</th>\n      <td>Y10022</td>\n    </tr>\n    <tr>\n      <th>FDB Facility Type (All)</th>\n      <td>Post Office</td>\n    </tr>\n    <tr>\n      <th>FDB Facility Subtype (All)</th>\n      <td>Main Post Office</td>\n    </tr>\n    <tr>\n      <th>Building Ownership Description</th>\n      <td>USPS Building, Const. by USPS</td>\n    </tr>\n    <tr>\n      <th>Land Desc</th>\n      <td>USPS Land, Not Prev. Leased</td>\n    </tr>\n    <tr>\n      <th>Space Certified Indicator</th>\n      <td>No</td>\n    </tr>\n    <tr>\n      <th>Bldg Occu Date</th>\n      <td>12/1/1983</td>\n    </tr>\n    <tr>\n      <th>Int Sq Ft</th>\n      <td>8,913</td>\n    </tr>\n    <tr>\n      <th>lat</th>\n      <td>NaN</td>\n    </tr>\n    <tr>\n      <th>lon</th>\n      <td>NaN</td>\n    </tr>\n  </tbody>\n</table>\n</div>"
     },
     "metadata": {},
     "execution_count": 507
    }
   ],
   "source": [
    "df_usps_final.head(1).T"
   ]
  },
  {
   "cell_type": "markdown",
   "metadata": {},
   "source": [
    "should probably look into what types of USPS facilities we're interested in, and filter out the others"
   ]
  },
  {
   "cell_type": "code",
   "execution_count": 452,
   "metadata": {},
   "outputs": [
    {
     "output_type": "execute_result",
     "data": {
      "text/plain": "Main Post Office                                         5379\nAdministrative Post Office (APO)                         3875\nRemotely Managed Post Office (RMPO)                      2428\nStation                                                  2136\nBranch                                                    911\nCarrier Annex (ANX)                                       584\nProcessing and Distribution Center/Facility (PDC/PDF)     504\nVehicle Maintenance Facility (VMF)                        495\nFinance Station                                           331\nService Hub Facility (SHF)                                302\nPart Time Post Office (PTPO)                              197\nOffice of the Inspector General Office (OIG)              142\nPostal Inspection Service Field Division (USPIS)          121\nFinance Branch                                            118\nConsumer Affairs Office                                   111\nDistrict Administrative Office (DM)                       109\nFinance Station - No Delivery                              66\nNetwork Distribution Center (NDC/ASF)                      52\nHeadquarters Related                                       50\nMail Processing Annex (ANX)                                42\nComputerized Forwarding System (CFS)                       34\nCarrier Section (SEC)                                      34\nDetached Box Unit                                          34\nSectional Center Processing Facility (SCF)                 18\nFacilities Service Office (FSO)                            18\nAirport Mail Center or Facility (AMC/AMF)                  13\nTraining Facilities                                        12\nFinance Branch - No Delivery                               12\nSurface Transport Center (STC)                             12\nDistrict Administrative Office (Staff)                     12\nDelivery Distribution Center (DDC)                         12\nNon Personnel Unit (NPU)                                   12\nIntegrated Business Solutions Service Center (IBSSC)       10\nContract Postal Unit Station                               10\nPost Office Administrative Office (Staff)                  10\nDistrict Emergency Command Center (ECC)                    10\nArea Administrative Office (AVP)                           10\nLogistics Distribution Center (LDC, PMA, PMPC)              8\nProcessing and Distribution Center (PDC)                    8\nBusiness Service Network (BSN)                              8\nNetwork Distribution Center Annex (BAX)                     7\nMiscellaneous IT                                            6\nHub Facility (HUB)                                          4\nWarehouse                                                   4\nMaterial Distribution Center (MDC, TMDC)                    4\nInternational Service Center/Facility (ISC/ISF)             4\nRegional Distribution Center (RDC)                          2\nCommodity Management Center (CMC)                           2\nUnknown Subtype                                             2\nNetwork Operations Vehicle Maintenance Facility (VMF)       2\nSelf Service Postal (SSP)                                   2\nInformation Technology Service Center (ITSC)                2\nProcessing and Distribution Annex (PAX)                     2\nMaintenance Technical Support Center (MTSC)                 2\nProcessing and Distribution Facility (PDF)                  2\nConsumer Affairs Headquarters                               2\nStamp Distribution Center (SDC)                             2\nPricing and Classification Service Center (PCSC)            2\nCentral Repair Facility (CRF)                               2\nName: FDB Facility Subtype (All), dtype: int64"
     },
     "metadata": {},
     "execution_count": 452
    }
   ],
   "source": [
    "df_usps_final['FDB Facility Subtype (All)'].value_counts()"
   ]
  },
  {
   "cell_type": "code",
   "execution_count": 508,
   "metadata": {},
   "outputs": [],
   "source": [
    "# get rid of rows with missing coordinates for now\n",
    "df_usps_final = df_usps_final[~df_usps_final.lat.isna()]"
   ]
  },
  {
   "cell_type": "code",
   "execution_count": null,
   "metadata": {},
   "outputs": [],
   "source": []
  },
  {
   "cell_type": "markdown",
   "metadata": {},
   "source": [
    "## perform cross join between USAF and USPS locations"
   ]
  },
  {
   "cell_type": "code",
   "execution_count": 457,
   "metadata": {},
   "outputs": [],
   "source": [
    "def crossjoin(left_df, right_df, suffixes = ('_x', '_y')):\n",
    "    # cartesian product\n",
    "    return pd.merge(left_df.assign(key=0), right_df.assign(key=0), on='key', suffixes = suffixes).drop('key', axis = 1)"
   ]
  },
  {
   "cell_type": "code",
   "execution_count": 518,
   "metadata": {},
   "outputs": [],
   "source": [
    "# create a unique key for each column in usps dataframe\n",
    "df_usps_final['USPS_KEY'] = pd.util.hash_pandas_object(df_usps_final, index = False)"
   ]
  },
  {
   "cell_type": "code",
   "execution_count": 523,
   "metadata": {},
   "outputs": [],
   "source": [
    "# as a key, use the Base Name for USAF and the USPS_KEY for usps\n",
    "df_usaf_latlon = df_usaf[['Name', 'lat', 'lon']]\n",
    "df_usps_latlon = df_usps_final[['USPS_KEY', 'lat', 'lon']]"
   ]
  },
  {
   "cell_type": "code",
   "execution_count": 524,
   "metadata": {},
   "outputs": [],
   "source": [
    "df_crossjoin = crossjoin(df_usaf_latlon, df_usps_latlon, suffixes = ('_USAF', '_USPS'))"
   ]
  },
  {
   "cell_type": "code",
   "execution_count": 525,
   "metadata": {},
   "outputs": [
    {
     "output_type": "execute_result",
     "data": {
      "text/plain": "                                   Name  lat_USAF  lon_USAF  \\\n0                  Altus Air Force Base  34.66639 -99.26806   \n1                  Altus Air Force Base  34.66639 -99.26806   \n2                  Altus Air Force Base  34.66639 -99.26806   \n3                  Altus Air Force Base  34.66639 -99.26806   \n4                  Altus Air Force Base  34.66639 -99.26806   \n...                                 ...       ...       ...   \n426785  Wright-Patterson Air Force Base  39.82306 -84.04944   \n426786  Wright-Patterson Air Force Base  39.82306 -84.04944   \n426787  Wright-Patterson Air Force Base  39.82306 -84.04944   \n426788  Wright-Patterson Air Force Base  39.82306 -84.04944   \n426789  Wright-Patterson Air Force Base  39.82306 -84.04944   \n\n                    USPS_KEY   lat_USPS    lon_USPS  \n0        9947528606150991116  31.302319  -86.487960  \n1        5574652173990597648  34.924915  -87.268715  \n2       11519743587517118974  33.634130  -85.825460  \n3       17727833056730595366  33.634130  -85.825460  \n4       13068250913061862854  33.634130  -85.825460  \n...                      ...        ...         ...  \n426785  17482720865116400284  41.671170 -107.971930  \n426786   4879855352927936872  44.486042 -109.347340  \n426787    677004302469037191  42.056240 -104.952610  \n426788  16535793199324682032  42.056240 -104.952610  \n426789  14552123304106749921  46.301044 -119.350390  \n\n[426790 rows x 6 columns]",
      "text/html": "<div>\n<style scoped>\n    .dataframe tbody tr th:only-of-type {\n        vertical-align: middle;\n    }\n\n    .dataframe tbody tr th {\n        vertical-align: top;\n    }\n\n    .dataframe thead th {\n        text-align: right;\n    }\n</style>\n<table border=\"1\" class=\"dataframe\">\n  <thead>\n    <tr style=\"text-align: right;\">\n      <th></th>\n      <th>Name</th>\n      <th>lat_USAF</th>\n      <th>lon_USAF</th>\n      <th>USPS_KEY</th>\n      <th>lat_USPS</th>\n      <th>lon_USPS</th>\n    </tr>\n  </thead>\n  <tbody>\n    <tr>\n      <th>0</th>\n      <td>Altus Air Force Base</td>\n      <td>34.66639</td>\n      <td>-99.26806</td>\n      <td>9947528606150991116</td>\n      <td>31.302319</td>\n      <td>-86.487960</td>\n    </tr>\n    <tr>\n      <th>1</th>\n      <td>Altus Air Force Base</td>\n      <td>34.66639</td>\n      <td>-99.26806</td>\n      <td>5574652173990597648</td>\n      <td>34.924915</td>\n      <td>-87.268715</td>\n    </tr>\n    <tr>\n      <th>2</th>\n      <td>Altus Air Force Base</td>\n      <td>34.66639</td>\n      <td>-99.26806</td>\n      <td>11519743587517118974</td>\n      <td>33.634130</td>\n      <td>-85.825460</td>\n    </tr>\n    <tr>\n      <th>3</th>\n      <td>Altus Air Force Base</td>\n      <td>34.66639</td>\n      <td>-99.26806</td>\n      <td>17727833056730595366</td>\n      <td>33.634130</td>\n      <td>-85.825460</td>\n    </tr>\n    <tr>\n      <th>4</th>\n      <td>Altus Air Force Base</td>\n      <td>34.66639</td>\n      <td>-99.26806</td>\n      <td>13068250913061862854</td>\n      <td>33.634130</td>\n      <td>-85.825460</td>\n    </tr>\n    <tr>\n      <th>...</th>\n      <td>...</td>\n      <td>...</td>\n      <td>...</td>\n      <td>...</td>\n      <td>...</td>\n      <td>...</td>\n    </tr>\n    <tr>\n      <th>426785</th>\n      <td>Wright-Patterson Air Force Base</td>\n      <td>39.82306</td>\n      <td>-84.04944</td>\n      <td>17482720865116400284</td>\n      <td>41.671170</td>\n      <td>-107.971930</td>\n    </tr>\n    <tr>\n      <th>426786</th>\n      <td>Wright-Patterson Air Force Base</td>\n      <td>39.82306</td>\n      <td>-84.04944</td>\n      <td>4879855352927936872</td>\n      <td>44.486042</td>\n      <td>-109.347340</td>\n    </tr>\n    <tr>\n      <th>426787</th>\n      <td>Wright-Patterson Air Force Base</td>\n      <td>39.82306</td>\n      <td>-84.04944</td>\n      <td>677004302469037191</td>\n      <td>42.056240</td>\n      <td>-104.952610</td>\n    </tr>\n    <tr>\n      <th>426788</th>\n      <td>Wright-Patterson Air Force Base</td>\n      <td>39.82306</td>\n      <td>-84.04944</td>\n      <td>16535793199324682032</td>\n      <td>42.056240</td>\n      <td>-104.952610</td>\n    </tr>\n    <tr>\n      <th>426789</th>\n      <td>Wright-Patterson Air Force Base</td>\n      <td>39.82306</td>\n      <td>-84.04944</td>\n      <td>14552123304106749921</td>\n      <td>46.301044</td>\n      <td>-119.350390</td>\n    </tr>\n  </tbody>\n</table>\n<p>426790 rows × 6 columns</p>\n</div>"
     },
     "metadata": {},
     "execution_count": 525
    }
   ],
   "source": [
    "df_crossjoin"
   ]
  },
  {
   "cell_type": "markdown",
   "metadata": {},
   "source": [
    "use haversine to calculate great circle distance between each coordinate pair"
   ]
  },
  {
   "cell_type": "code",
   "execution_count": 528,
   "metadata": {},
   "outputs": [],
   "source": [
    "def haversine(lat1, lon1, lat2, lon2):\n",
    "    lon1, lat1, lon2, lat2 = map(np.radians, [lon1, lat1, lon2, lat2])\n",
    "    dlon = lon2 - lon1\n",
    "    dlat = lat2 - lat1\n",
    "    a = np.sin(dlat/2.0)**2 + np.cos(lat1) * np.cos(lat2) * np.sin(dlon/2.0)**2\n",
    "    c = 2 * np.arcsin(np.sqrt(a))\n",
    "    km = 6371 * c\n",
    "    return km"
   ]
  },
  {
   "cell_type": "code",
   "execution_count": 529,
   "metadata": {},
   "outputs": [],
   "source": [
    "df_crossjoin['dist'] = haversine(df_crossjoin.lat_USAF, df_crossjoin.lon_USAF, df_crossjoin.lat_USPS, df_crossjoin.lon_USPS)"
   ]
  },
  {
   "cell_type": "code",
   "execution_count": 531,
   "metadata": {},
   "outputs": [
    {
     "output_type": "execute_result",
     "data": {
      "text/plain": "                   Name  lat_USAF  lon_USAF              USPS_KEY   lat_USPS  \\\n0  Altus Air Force Base  34.66639 -99.26806   9947528606150991116  31.302319   \n1  Altus Air Force Base  34.66639 -99.26806   5574652173990597648  34.924915   \n2  Altus Air Force Base  34.66639 -99.26806  11519743587517118974  33.634130   \n3  Altus Air Force Base  34.66639 -99.26806  17727833056730595366  33.634130   \n4  Altus Air Force Base  34.66639 -99.26806  13068250913061862854  33.634130   \n\n    lon_USPS         dist  \n0 -86.487960  1248.274308  \n1 -87.268715  1095.410590  \n2 -85.825460  1241.387491  \n3 -85.825460  1241.387491  \n4 -85.825460  1241.387491  ",
      "text/html": "<div>\n<style scoped>\n    .dataframe tbody tr th:only-of-type {\n        vertical-align: middle;\n    }\n\n    .dataframe tbody tr th {\n        vertical-align: top;\n    }\n\n    .dataframe thead th {\n        text-align: right;\n    }\n</style>\n<table border=\"1\" class=\"dataframe\">\n  <thead>\n    <tr style=\"text-align: right;\">\n      <th></th>\n      <th>Name</th>\n      <th>lat_USAF</th>\n      <th>lon_USAF</th>\n      <th>USPS_KEY</th>\n      <th>lat_USPS</th>\n      <th>lon_USPS</th>\n      <th>dist</th>\n    </tr>\n  </thead>\n  <tbody>\n    <tr>\n      <th>0</th>\n      <td>Altus Air Force Base</td>\n      <td>34.66639</td>\n      <td>-99.26806</td>\n      <td>9947528606150991116</td>\n      <td>31.302319</td>\n      <td>-86.487960</td>\n      <td>1248.274308</td>\n    </tr>\n    <tr>\n      <th>1</th>\n      <td>Altus Air Force Base</td>\n      <td>34.66639</td>\n      <td>-99.26806</td>\n      <td>5574652173990597648</td>\n      <td>34.924915</td>\n      <td>-87.268715</td>\n      <td>1095.410590</td>\n    </tr>\n    <tr>\n      <th>2</th>\n      <td>Altus Air Force Base</td>\n      <td>34.66639</td>\n      <td>-99.26806</td>\n      <td>11519743587517118974</td>\n      <td>33.634130</td>\n      <td>-85.825460</td>\n      <td>1241.387491</td>\n    </tr>\n    <tr>\n      <th>3</th>\n      <td>Altus Air Force Base</td>\n      <td>34.66639</td>\n      <td>-99.26806</td>\n      <td>17727833056730595366</td>\n      <td>33.634130</td>\n      <td>-85.825460</td>\n      <td>1241.387491</td>\n    </tr>\n    <tr>\n      <th>4</th>\n      <td>Altus Air Force Base</td>\n      <td>34.66639</td>\n      <td>-99.26806</td>\n      <td>13068250913061862854</td>\n      <td>33.634130</td>\n      <td>-85.825460</td>\n      <td>1241.387491</td>\n    </tr>\n  </tbody>\n</table>\n</div>"
     },
     "metadata": {},
     "execution_count": 531
    }
   ],
   "source": [
    "df_crossjoin.head()"
   ]
  },
  {
   "cell_type": "code",
   "execution_count": 549,
   "metadata": {},
   "outputs": [],
   "source": [
    "df_result = df_crossjoin[['Name', 'USPS_KEY', 'dist']]"
   ]
  },
  {
   "cell_type": "code",
   "execution_count": 555,
   "metadata": {},
   "outputs": [
    {
     "output_type": "execute_result",
     "data": {
      "text/plain": "                   Name              USPS_KEY         dist\n0  Altus Air Force Base   9947528606150991116  1248.274308\n1  Altus Air Force Base   5574652173990597648  1095.410590\n2  Altus Air Force Base  11519743587517118974  1241.387491\n3  Altus Air Force Base  17727833056730595366  1241.387491\n4  Altus Air Force Base  13068250913061862854  1241.387491",
      "text/html": "<div>\n<style scoped>\n    .dataframe tbody tr th:only-of-type {\n        vertical-align: middle;\n    }\n\n    .dataframe tbody tr th {\n        vertical-align: top;\n    }\n\n    .dataframe thead th {\n        text-align: right;\n    }\n</style>\n<table border=\"1\" class=\"dataframe\">\n  <thead>\n    <tr style=\"text-align: right;\">\n      <th></th>\n      <th>Name</th>\n      <th>USPS_KEY</th>\n      <th>dist</th>\n    </tr>\n  </thead>\n  <tbody>\n    <tr>\n      <th>0</th>\n      <td>Altus Air Force Base</td>\n      <td>9947528606150991116</td>\n      <td>1248.274308</td>\n    </tr>\n    <tr>\n      <th>1</th>\n      <td>Altus Air Force Base</td>\n      <td>5574652173990597648</td>\n      <td>1095.410590</td>\n    </tr>\n    <tr>\n      <th>2</th>\n      <td>Altus Air Force Base</td>\n      <td>11519743587517118974</td>\n      <td>1241.387491</td>\n    </tr>\n    <tr>\n      <th>3</th>\n      <td>Altus Air Force Base</td>\n      <td>17727833056730595366</td>\n      <td>1241.387491</td>\n    </tr>\n    <tr>\n      <th>4</th>\n      <td>Altus Air Force Base</td>\n      <td>13068250913061862854</td>\n      <td>1241.387491</td>\n    </tr>\n  </tbody>\n</table>\n</div>"
     },
     "metadata": {},
     "execution_count": 555
    }
   ],
   "source": [
    "df_result.head()"
   ]
  },
  {
   "cell_type": "code",
   "execution_count": 556,
   "metadata": {},
   "outputs": [],
   "source": [
    "# lets dedup on distance for now ... will worry about aggregating info for USPS locations later\n",
    "df_result = df_result.drop_duplicates('dist')"
   ]
  },
  {
   "cell_type": "code",
   "execution_count": 564,
   "metadata": {},
   "outputs": [
    {
     "output_type": "execute_result",
     "data": {
      "text/plain": "                   Name              USPS_KEY         dist\n0  Altus Air Force Base   9947528606150991116  1248.274308\n1  Altus Air Force Base   5574652173990597648  1095.410590\n2  Altus Air Force Base  11519743587517118974  1241.387491\n5  Altus Air Force Base   5687247971613118170  1122.069221\n6  Altus Air Force Base   2923096590655030029  1211.089019",
      "text/html": "<div>\n<style scoped>\n    .dataframe tbody tr th:only-of-type {\n        vertical-align: middle;\n    }\n\n    .dataframe tbody tr th {\n        vertical-align: top;\n    }\n\n    .dataframe thead th {\n        text-align: right;\n    }\n</style>\n<table border=\"1\" class=\"dataframe\">\n  <thead>\n    <tr style=\"text-align: right;\">\n      <th></th>\n      <th>Name</th>\n      <th>USPS_KEY</th>\n      <th>dist</th>\n    </tr>\n  </thead>\n  <tbody>\n    <tr>\n      <th>0</th>\n      <td>Altus Air Force Base</td>\n      <td>9947528606150991116</td>\n      <td>1248.274308</td>\n    </tr>\n    <tr>\n      <th>1</th>\n      <td>Altus Air Force Base</td>\n      <td>5574652173990597648</td>\n      <td>1095.410590</td>\n    </tr>\n    <tr>\n      <th>2</th>\n      <td>Altus Air Force Base</td>\n      <td>11519743587517118974</td>\n      <td>1241.387491</td>\n    </tr>\n    <tr>\n      <th>5</th>\n      <td>Altus Air Force Base</td>\n      <td>5687247971613118170</td>\n      <td>1122.069221</td>\n    </tr>\n    <tr>\n      <th>6</th>\n      <td>Altus Air Force Base</td>\n      <td>2923096590655030029</td>\n      <td>1211.089019</td>\n    </tr>\n  </tbody>\n</table>\n</div>"
     },
     "metadata": {},
     "execution_count": 564
    }
   ],
   "source": [
    "df_result.head()"
   ]
  },
  {
   "cell_type": "code",
   "execution_count": 609,
   "metadata": {},
   "outputs": [],
   "source": [
    "# specify number of distance comparisons we are interested in for now\n",
    "n_smallest = 100"
   ]
  },
  {
   "cell_type": "code",
   "execution_count": 603,
   "metadata": {},
   "outputs": [],
   "source": [
    "df_final = df_result.set_index(['Name', 'USPS_KEY']).groupby('Name')['dist'].nsmallest(n_smallest)"
   ]
  },
  {
   "cell_type": "code",
   "execution_count": 604,
   "metadata": {},
   "outputs": [],
   "source": [
    "# undo quirk where seriesgroupby adds the groupby index to the output\n",
    "df_final.index = df_final.index.droplevel(0)"
   ]
  },
  {
   "cell_type": "code",
   "execution_count": 605,
   "metadata": {},
   "outputs": [
    {
     "output_type": "execute_result",
     "data": {
      "text/plain": "Name                             USPS_KEY            \nAltus Air Force Base             2537360702753606892      38.430089\n                                 3822945709240496098      56.920580\n                                 13208763377279994425     59.501584\n                                 10298362880801823239     79.721419\n                                 11340360146471792254     80.169027\n                                                            ...    \nWright-Patterson Air Force Base  16952361244115064906    154.444739\n                                 3851713242934606384     157.745600\n                                 4547540790288615976     159.947046\n                                 2524784286806908011     160.320374\n                                 181592411092286140      161.859070\nName: dist, Length: 7000, dtype: float64"
     },
     "metadata": {},
     "execution_count": 605
    }
   ],
   "source": [
    "df_final"
   ]
  },
  {
   "cell_type": "markdown",
   "metadata": {},
   "source": [
    "## write stuff to excel workbooks"
   ]
  },
  {
   "cell_type": "code",
   "execution_count": 606,
   "metadata": {},
   "outputs": [],
   "source": [
    "df_usaf.to_excel(\"data/outputs/usaf_locations.xlsx\")"
   ]
  },
  {
   "cell_type": "code",
   "execution_count": 607,
   "metadata": {},
   "outputs": [],
   "source": [
    "df_usps_final.to_excel(\"data/outputs/usps_locations.xlsx\")"
   ]
  },
  {
   "cell_type": "code",
   "execution_count": 610,
   "metadata": {},
   "outputs": [],
   "source": [
    "df_final.to_excel(\"data/outputs/distance_nsmallest_{}.xlsx\".format(n_smallest))"
   ]
  },
  {
   "cell_type": "code",
   "execution_count": null,
   "metadata": {},
   "outputs": [],
   "source": []
  }
 ],
 "metadata": {
  "language_info": {
   "codemirror_mode": {
    "name": "ipython",
    "version": 3
   },
   "file_extension": ".py",
   "mimetype": "text/x-python",
   "name": "python",
   "nbconvert_exporter": "python",
   "pygments_lexer": "ipython3",
   "version": "3.7.4-final"
  },
  "orig_nbformat": 2,
  "kernelspec": {
   "name": "python37464bitmyenvvenv170ded6926c8452d9ff75a55832da084",
   "display_name": "Python 3.7.4 64-bit ('myenv': venv)"
  }
 },
 "nbformat": 4,
 "nbformat_minor": 2
}